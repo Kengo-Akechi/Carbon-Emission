{
  "nbformat": 4,
  "nbformat_minor": 0,
  "metadata": {
    "colab": {
      "provenance": [],
      "authorship_tag": "ABX9TyPLdCPvekgTAmn3D4J57FVk",
      "include_colab_link": true
    },
    "kernelspec": {
      "name": "python3",
      "display_name": "Python 3"
    },
    "language_info": {
      "name": "python"
    }
  },
  "cells": [
    {
      "cell_type": "markdown",
      "metadata": {
        "id": "view-in-github",
        "colab_type": "text"
      },
      "source": [
        "<a href=\"https://colab.research.google.com/github/Kengo-Akechi/Carbon-Emission/blob/main/ML_model.ipynb\" target=\"_parent\"><img src=\"https://colab.research.google.com/assets/colab-badge.svg\" alt=\"Open In Colab\"/></a>"
      ]
    },
    {
      "cell_type": "markdown",
      "source": [
        "**Uploading the Dataset**"
      ],
      "metadata": {
        "id": "5tRpNPX97-WR"
      }
    },
    {
      "cell_type": "code",
      "source": [
        "from google.colab import drive\n",
        "drive.mount('/content/drive')\n"
      ],
      "metadata": {
        "colab": {
          "base_uri": "https://localhost:8080/"
        },
        "id": "HxR_4-VKMmUP",
        "outputId": "500ae106-396f-4cd5-b583-7b756c6c2928"
      },
      "execution_count": null,
      "outputs": [
        {
          "output_type": "stream",
          "name": "stdout",
          "text": [
            "Drive already mounted at /content/drive; to attempt to forcibly remount, call drive.mount(\"/content/drive\", force_remount=True).\n"
          ]
        }
      ]
    },
    {
      "cell_type": "code",
      "source": [
        "import pandas as pd\n",
        "file_path = '/content/drive/MyDrive/fossilfund_dataset.csv'\n",
        "df = pd.read_csv(file_path)\n"
      ],
      "metadata": {
        "id": "MOLhuHhyJF33"
      },
      "execution_count": null,
      "outputs": []
    },
    {
      "cell_type": "code",
      "execution_count": null,
      "metadata": {
        "colab": {
          "base_uri": "https://localhost:8080/",
          "height": 707
        },
        "id": "xrAT43HZ6r_e",
        "outputId": "dcf0f13d-79f5-4e93-f1b6-2a00aaa178ad"
      },
      "outputs": [
        {
          "output_type": "execute_result",
          "data": {
            "text/plain": [
              "  Fund profile: Shareclass name Fund profile: Ticker  \\\n",
              "0       1290 SmartBeta Equity A                TNBRX   \n",
              "1       1290 SmartBeta Equity I                TNBRX   \n",
              "2       1290 SmartBeta Equity R                TNBRX   \n",
              "3       1290 SmartBeta Equity T                TNBRX   \n",
              "4                13D Activist A                DDDCX   \n",
              "\n",
              "      Fund profile: Fund name Fund profile: Asset manager  \\\n",
              "0  1290 SmartBeta Equity Fund                  1290 Funds   \n",
              "1  1290 SmartBeta Equity Fund                  1290 Funds   \n",
              "2  1290 SmartBeta Equity Fund                  1290 Funds   \n",
              "3  1290 SmartBeta Equity Fund                  1290 Funds   \n",
              "4           13D Activist Fund           13D Activist Fund   \n",
              "\n",
              "  Fund profile: Shareclass type Fund profile: Shareclass inception date  \\\n",
              "0          Open-end mutual fund                              2014-11-12   \n",
              "1          Open-end mutual fund                              2014-11-12   \n",
              "2          Open-end mutual fund                              2014-11-12   \n",
              "3          Open-end mutual fund                              2014-11-12   \n",
              "4          Open-end mutual fund                              2011-12-28   \n",
              "\n",
              "  Fund profile: Category group Fund profile: Sustainability mandate  \\\n",
              "0   International Equity Funds                                    Y   \n",
              "1   International Equity Funds                                    Y   \n",
              "2   International Equity Funds                                    Y   \n",
              "3   International Equity Funds                                    Y   \n",
              "4             U.S. Equity Fund                                    Y   \n",
              "\n",
              "  Fund profile: US-SIF member Fund profile: Oldest shareclass inception date  \\\n",
              "0                         NaN                                     2014-11-12   \n",
              "1                         NaN                                     2014-11-12   \n",
              "2                         NaN                                     2014-11-12   \n",
              "3                         NaN                                     2014-11-12   \n",
              "4                         NaN                                     2011-12-28   \n",
              "\n",
              "   ... Prison Free Funds: Border industry, higher risk, weight  \\\n",
              "0  ...                                                NaN        \n",
              "1  ...                                                NaN        \n",
              "2  ...                                                NaN        \n",
              "3  ...                                                NaN        \n",
              "4  ...                                                NaN        \n",
              "\n",
              "  Prison Free Funds: Border industry, higher risk, asset  \\\n",
              "0                                                NaN       \n",
              "1                                                NaN       \n",
              "2                                                NaN       \n",
              "3                                                NaN       \n",
              "4                                                NaN       \n",
              "\n",
              "   Prison Free Funds: Private prison operators, count  \\\n",
              "0                                                NaN    \n",
              "1                                                NaN    \n",
              "2                                                NaN    \n",
              "3                                                NaN    \n",
              "4                                                NaN    \n",
              "\n",
              "   Prison Free Funds: Private prison operators, weight  \\\n",
              "0                                                NaN     \n",
              "1                                                NaN     \n",
              "2                                                NaN     \n",
              "3                                                NaN     \n",
              "4                                                NaN     \n",
              "\n",
              "  Prison Free Funds: Private prison operators, asset  \\\n",
              "0                                                NaN   \n",
              "1                                                NaN   \n",
              "2                                                NaN   \n",
              "3                                                NaN   \n",
              "4                                                NaN   \n",
              "\n",
              "   Gender Equality Funds: Gender equality score - Overall score (out of 100 points)  \\\n",
              "0                                                NaN                                  \n",
              "1                                                NaN                                  \n",
              "2                                                NaN                                  \n",
              "3                                                NaN                                  \n",
              "4                                                NaN                                  \n",
              "\n",
              "   Gender Equality Funds: Gender equality score - Gender balance in leadership and workforce (out of 40 points)  \\\n",
              "0                                                NaN                                                              \n",
              "1                                                NaN                                                              \n",
              "2                                                NaN                                                              \n",
              "3                                                NaN                                                              \n",
              "4                                                NaN                                                              \n",
              "\n",
              "   Gender Equality Funds: Gender equality score - Equal compensation and work life balance (out of 30 points)  \\\n",
              "0                                                NaN                                                            \n",
              "1                                                NaN                                                            \n",
              "2                                                NaN                                                            \n",
              "3                                                NaN                                                            \n",
              "4                                                NaN                                                            \n",
              "\n",
              "   Gender Equality Funds: Gender equality score - Policies promoting gender equality (out of 20 points)  \\\n",
              "0                                                NaN                                                      \n",
              "1                                                NaN                                                      \n",
              "2                                                NaN                                                      \n",
              "3                                                NaN                                                      \n",
              "4                                                NaN                                                      \n",
              "\n",
              "   Gender Equality Funds: Gender equality score - Commitment, transparency, and accountability (out of 10 points)  \n",
              "0                                                NaN                                                               \n",
              "1                                                NaN                                                               \n",
              "2                                                NaN                                                               \n",
              "3                                                NaN                                                               \n",
              "4                                                NaN                                                               \n",
              "\n",
              "[5 rows x 121 columns]"
            ],
            "text/html": [
              "\n",
              "  <div id=\"df-d13191e3-1839-496d-95d2-bb000e7e5b43\" class=\"colab-df-container\">\n",
              "    <div>\n",
              "<style scoped>\n",
              "    .dataframe tbody tr th:only-of-type {\n",
              "        vertical-align: middle;\n",
              "    }\n",
              "\n",
              "    .dataframe tbody tr th {\n",
              "        vertical-align: top;\n",
              "    }\n",
              "\n",
              "    .dataframe thead th {\n",
              "        text-align: right;\n",
              "    }\n",
              "</style>\n",
              "<table border=\"1\" class=\"dataframe\">\n",
              "  <thead>\n",
              "    <tr style=\"text-align: right;\">\n",
              "      <th></th>\n",
              "      <th>Fund profile: Shareclass name</th>\n",
              "      <th>Fund profile: Ticker</th>\n",
              "      <th>Fund profile: Fund name</th>\n",
              "      <th>Fund profile: Asset manager</th>\n",
              "      <th>Fund profile: Shareclass type</th>\n",
              "      <th>Fund profile: Shareclass inception date</th>\n",
              "      <th>Fund profile: Category group</th>\n",
              "      <th>Fund profile: Sustainability mandate</th>\n",
              "      <th>Fund profile: US-SIF member</th>\n",
              "      <th>Fund profile: Oldest shareclass inception date</th>\n",
              "      <th>...</th>\n",
              "      <th>Prison Free Funds: Border industry, higher risk, weight</th>\n",
              "      <th>Prison Free Funds: Border industry, higher risk, asset</th>\n",
              "      <th>Prison Free Funds: Private prison operators, count</th>\n",
              "      <th>Prison Free Funds: Private prison operators, weight</th>\n",
              "      <th>Prison Free Funds: Private prison operators, asset</th>\n",
              "      <th>Gender Equality Funds: Gender equality score - Overall score (out of 100 points)</th>\n",
              "      <th>Gender Equality Funds: Gender equality score - Gender balance in leadership and workforce (out of 40 points)</th>\n",
              "      <th>Gender Equality Funds: Gender equality score - Equal compensation and work life balance (out of 30 points)</th>\n",
              "      <th>Gender Equality Funds: Gender equality score - Policies promoting gender equality (out of 20 points)</th>\n",
              "      <th>Gender Equality Funds: Gender equality score - Commitment, transparency, and accountability (out of 10 points)</th>\n",
              "    </tr>\n",
              "  </thead>\n",
              "  <tbody>\n",
              "    <tr>\n",
              "      <th>0</th>\n",
              "      <td>1290 SmartBeta Equity A</td>\n",
              "      <td>TNBRX</td>\n",
              "      <td>1290 SmartBeta Equity Fund</td>\n",
              "      <td>1290 Funds</td>\n",
              "      <td>Open-end mutual fund</td>\n",
              "      <td>2014-11-12</td>\n",
              "      <td>International Equity Funds</td>\n",
              "      <td>Y</td>\n",
              "      <td>NaN</td>\n",
              "      <td>2014-11-12</td>\n",
              "      <td>...</td>\n",
              "      <td>NaN</td>\n",
              "      <td>NaN</td>\n",
              "      <td>NaN</td>\n",
              "      <td>NaN</td>\n",
              "      <td>NaN</td>\n",
              "      <td>NaN</td>\n",
              "      <td>NaN</td>\n",
              "      <td>NaN</td>\n",
              "      <td>NaN</td>\n",
              "      <td>NaN</td>\n",
              "    </tr>\n",
              "    <tr>\n",
              "      <th>1</th>\n",
              "      <td>1290 SmartBeta Equity I</td>\n",
              "      <td>TNBRX</td>\n",
              "      <td>1290 SmartBeta Equity Fund</td>\n",
              "      <td>1290 Funds</td>\n",
              "      <td>Open-end mutual fund</td>\n",
              "      <td>2014-11-12</td>\n",
              "      <td>International Equity Funds</td>\n",
              "      <td>Y</td>\n",
              "      <td>NaN</td>\n",
              "      <td>2014-11-12</td>\n",
              "      <td>...</td>\n",
              "      <td>NaN</td>\n",
              "      <td>NaN</td>\n",
              "      <td>NaN</td>\n",
              "      <td>NaN</td>\n",
              "      <td>NaN</td>\n",
              "      <td>NaN</td>\n",
              "      <td>NaN</td>\n",
              "      <td>NaN</td>\n",
              "      <td>NaN</td>\n",
              "      <td>NaN</td>\n",
              "    </tr>\n",
              "    <tr>\n",
              "      <th>2</th>\n",
              "      <td>1290 SmartBeta Equity R</td>\n",
              "      <td>TNBRX</td>\n",
              "      <td>1290 SmartBeta Equity Fund</td>\n",
              "      <td>1290 Funds</td>\n",
              "      <td>Open-end mutual fund</td>\n",
              "      <td>2014-11-12</td>\n",
              "      <td>International Equity Funds</td>\n",
              "      <td>Y</td>\n",
              "      <td>NaN</td>\n",
              "      <td>2014-11-12</td>\n",
              "      <td>...</td>\n",
              "      <td>NaN</td>\n",
              "      <td>NaN</td>\n",
              "      <td>NaN</td>\n",
              "      <td>NaN</td>\n",
              "      <td>NaN</td>\n",
              "      <td>NaN</td>\n",
              "      <td>NaN</td>\n",
              "      <td>NaN</td>\n",
              "      <td>NaN</td>\n",
              "      <td>NaN</td>\n",
              "    </tr>\n",
              "    <tr>\n",
              "      <th>3</th>\n",
              "      <td>1290 SmartBeta Equity T</td>\n",
              "      <td>TNBRX</td>\n",
              "      <td>1290 SmartBeta Equity Fund</td>\n",
              "      <td>1290 Funds</td>\n",
              "      <td>Open-end mutual fund</td>\n",
              "      <td>2014-11-12</td>\n",
              "      <td>International Equity Funds</td>\n",
              "      <td>Y</td>\n",
              "      <td>NaN</td>\n",
              "      <td>2014-11-12</td>\n",
              "      <td>...</td>\n",
              "      <td>NaN</td>\n",
              "      <td>NaN</td>\n",
              "      <td>NaN</td>\n",
              "      <td>NaN</td>\n",
              "      <td>NaN</td>\n",
              "      <td>NaN</td>\n",
              "      <td>NaN</td>\n",
              "      <td>NaN</td>\n",
              "      <td>NaN</td>\n",
              "      <td>NaN</td>\n",
              "    </tr>\n",
              "    <tr>\n",
              "      <th>4</th>\n",
              "      <td>13D Activist A</td>\n",
              "      <td>DDDCX</td>\n",
              "      <td>13D Activist Fund</td>\n",
              "      <td>13D Activist Fund</td>\n",
              "      <td>Open-end mutual fund</td>\n",
              "      <td>2011-12-28</td>\n",
              "      <td>U.S. Equity Fund</td>\n",
              "      <td>Y</td>\n",
              "      <td>NaN</td>\n",
              "      <td>2011-12-28</td>\n",
              "      <td>...</td>\n",
              "      <td>NaN</td>\n",
              "      <td>NaN</td>\n",
              "      <td>NaN</td>\n",
              "      <td>NaN</td>\n",
              "      <td>NaN</td>\n",
              "      <td>NaN</td>\n",
              "      <td>NaN</td>\n",
              "      <td>NaN</td>\n",
              "      <td>NaN</td>\n",
              "      <td>NaN</td>\n",
              "    </tr>\n",
              "  </tbody>\n",
              "</table>\n",
              "<p>5 rows × 121 columns</p>\n",
              "</div>\n",
              "    <div class=\"colab-df-buttons\">\n",
              "\n",
              "  <div class=\"colab-df-container\">\n",
              "    <button class=\"colab-df-convert\" onclick=\"convertToInteractive('df-d13191e3-1839-496d-95d2-bb000e7e5b43')\"\n",
              "            title=\"Convert this dataframe to an interactive table.\"\n",
              "            style=\"display:none;\">\n",
              "\n",
              "  <svg xmlns=\"http://www.w3.org/2000/svg\" height=\"24px\" viewBox=\"0 -960 960 960\">\n",
              "    <path d=\"M120-120v-720h720v720H120Zm60-500h600v-160H180v160Zm220 220h160v-160H400v160Zm0 220h160v-160H400v160ZM180-400h160v-160H180v160Zm440 0h160v-160H620v160ZM180-180h160v-160H180v160Zm440 0h160v-160H620v160Z\"/>\n",
              "  </svg>\n",
              "    </button>\n",
              "\n",
              "  <style>\n",
              "    .colab-df-container {\n",
              "      display:flex;\n",
              "      gap: 12px;\n",
              "    }\n",
              "\n",
              "    .colab-df-convert {\n",
              "      background-color: #E8F0FE;\n",
              "      border: none;\n",
              "      border-radius: 50%;\n",
              "      cursor: pointer;\n",
              "      display: none;\n",
              "      fill: #1967D2;\n",
              "      height: 32px;\n",
              "      padding: 0 0 0 0;\n",
              "      width: 32px;\n",
              "    }\n",
              "\n",
              "    .colab-df-convert:hover {\n",
              "      background-color: #E2EBFA;\n",
              "      box-shadow: 0px 1px 2px rgba(60, 64, 67, 0.3), 0px 1px 3px 1px rgba(60, 64, 67, 0.15);\n",
              "      fill: #174EA6;\n",
              "    }\n",
              "\n",
              "    .colab-df-buttons div {\n",
              "      margin-bottom: 4px;\n",
              "    }\n",
              "\n",
              "    [theme=dark] .colab-df-convert {\n",
              "      background-color: #3B4455;\n",
              "      fill: #D2E3FC;\n",
              "    }\n",
              "\n",
              "    [theme=dark] .colab-df-convert:hover {\n",
              "      background-color: #434B5C;\n",
              "      box-shadow: 0px 1px 3px 1px rgba(0, 0, 0, 0.15);\n",
              "      filter: drop-shadow(0px 1px 2px rgba(0, 0, 0, 0.3));\n",
              "      fill: #FFFFFF;\n",
              "    }\n",
              "  </style>\n",
              "\n",
              "    <script>\n",
              "      const buttonEl =\n",
              "        document.querySelector('#df-d13191e3-1839-496d-95d2-bb000e7e5b43 button.colab-df-convert');\n",
              "      buttonEl.style.display =\n",
              "        google.colab.kernel.accessAllowed ? 'block' : 'none';\n",
              "\n",
              "      async function convertToInteractive(key) {\n",
              "        const element = document.querySelector('#df-d13191e3-1839-496d-95d2-bb000e7e5b43');\n",
              "        const dataTable =\n",
              "          await google.colab.kernel.invokeFunction('convertToInteractive',\n",
              "                                                    [key], {});\n",
              "        if (!dataTable) return;\n",
              "\n",
              "        const docLinkHtml = 'Like what you see? Visit the ' +\n",
              "          '<a target=\"_blank\" href=https://colab.research.google.com/notebooks/data_table.ipynb>data table notebook</a>'\n",
              "          + ' to learn more about interactive tables.';\n",
              "        element.innerHTML = '';\n",
              "        dataTable['output_type'] = 'display_data';\n",
              "        await google.colab.output.renderOutput(dataTable, element);\n",
              "        const docLink = document.createElement('div');\n",
              "        docLink.innerHTML = docLinkHtml;\n",
              "        element.appendChild(docLink);\n",
              "      }\n",
              "    </script>\n",
              "  </div>\n",
              "\n",
              "\n",
              "<div id=\"df-5e3d28d5-6c85-4e78-9bef-5bd55cf2efa5\">\n",
              "  <button class=\"colab-df-quickchart\" onclick=\"quickchart('df-5e3d28d5-6c85-4e78-9bef-5bd55cf2efa5')\"\n",
              "            title=\"Suggest charts\"\n",
              "            style=\"display:none;\">\n",
              "\n",
              "<svg xmlns=\"http://www.w3.org/2000/svg\" height=\"24px\"viewBox=\"0 0 24 24\"\n",
              "     width=\"24px\">\n",
              "    <g>\n",
              "        <path d=\"M19 3H5c-1.1 0-2 .9-2 2v14c0 1.1.9 2 2 2h14c1.1 0 2-.9 2-2V5c0-1.1-.9-2-2-2zM9 17H7v-7h2v7zm4 0h-2V7h2v10zm4 0h-2v-4h2v4z\"/>\n",
              "    </g>\n",
              "</svg>\n",
              "  </button>\n",
              "\n",
              "<style>\n",
              "  .colab-df-quickchart {\n",
              "      --bg-color: #E8F0FE;\n",
              "      --fill-color: #1967D2;\n",
              "      --hover-bg-color: #E2EBFA;\n",
              "      --hover-fill-color: #174EA6;\n",
              "      --disabled-fill-color: #AAA;\n",
              "      --disabled-bg-color: #DDD;\n",
              "  }\n",
              "\n",
              "  [theme=dark] .colab-df-quickchart {\n",
              "      --bg-color: #3B4455;\n",
              "      --fill-color: #D2E3FC;\n",
              "      --hover-bg-color: #434B5C;\n",
              "      --hover-fill-color: #FFFFFF;\n",
              "      --disabled-bg-color: #3B4455;\n",
              "      --disabled-fill-color: #666;\n",
              "  }\n",
              "\n",
              "  .colab-df-quickchart {\n",
              "    background-color: var(--bg-color);\n",
              "    border: none;\n",
              "    border-radius: 50%;\n",
              "    cursor: pointer;\n",
              "    display: none;\n",
              "    fill: var(--fill-color);\n",
              "    height: 32px;\n",
              "    padding: 0;\n",
              "    width: 32px;\n",
              "  }\n",
              "\n",
              "  .colab-df-quickchart:hover {\n",
              "    background-color: var(--hover-bg-color);\n",
              "    box-shadow: 0 1px 2px rgba(60, 64, 67, 0.3), 0 1px 3px 1px rgba(60, 64, 67, 0.15);\n",
              "    fill: var(--button-hover-fill-color);\n",
              "  }\n",
              "\n",
              "  .colab-df-quickchart-complete:disabled,\n",
              "  .colab-df-quickchart-complete:disabled:hover {\n",
              "    background-color: var(--disabled-bg-color);\n",
              "    fill: var(--disabled-fill-color);\n",
              "    box-shadow: none;\n",
              "  }\n",
              "\n",
              "  .colab-df-spinner {\n",
              "    border: 2px solid var(--fill-color);\n",
              "    border-color: transparent;\n",
              "    border-bottom-color: var(--fill-color);\n",
              "    animation:\n",
              "      spin 1s steps(1) infinite;\n",
              "  }\n",
              "\n",
              "  @keyframes spin {\n",
              "    0% {\n",
              "      border-color: transparent;\n",
              "      border-bottom-color: var(--fill-color);\n",
              "      border-left-color: var(--fill-color);\n",
              "    }\n",
              "    20% {\n",
              "      border-color: transparent;\n",
              "      border-left-color: var(--fill-color);\n",
              "      border-top-color: var(--fill-color);\n",
              "    }\n",
              "    30% {\n",
              "      border-color: transparent;\n",
              "      border-left-color: var(--fill-color);\n",
              "      border-top-color: var(--fill-color);\n",
              "      border-right-color: var(--fill-color);\n",
              "    }\n",
              "    40% {\n",
              "      border-color: transparent;\n",
              "      border-right-color: var(--fill-color);\n",
              "      border-top-color: var(--fill-color);\n",
              "    }\n",
              "    60% {\n",
              "      border-color: transparent;\n",
              "      border-right-color: var(--fill-color);\n",
              "    }\n",
              "    80% {\n",
              "      border-color: transparent;\n",
              "      border-right-color: var(--fill-color);\n",
              "      border-bottom-color: var(--fill-color);\n",
              "    }\n",
              "    90% {\n",
              "      border-color: transparent;\n",
              "      border-bottom-color: var(--fill-color);\n",
              "    }\n",
              "  }\n",
              "</style>\n",
              "\n",
              "  <script>\n",
              "    async function quickchart(key) {\n",
              "      const quickchartButtonEl =\n",
              "        document.querySelector('#' + key + ' button');\n",
              "      quickchartButtonEl.disabled = true;  // To prevent multiple clicks.\n",
              "      quickchartButtonEl.classList.add('colab-df-spinner');\n",
              "      try {\n",
              "        const charts = await google.colab.kernel.invokeFunction(\n",
              "            'suggestCharts', [key], {});\n",
              "      } catch (error) {\n",
              "        console.error('Error during call to suggestCharts:', error);\n",
              "      }\n",
              "      quickchartButtonEl.classList.remove('colab-df-spinner');\n",
              "      quickchartButtonEl.classList.add('colab-df-quickchart-complete');\n",
              "    }\n",
              "    (() => {\n",
              "      let quickchartButtonEl =\n",
              "        document.querySelector('#df-5e3d28d5-6c85-4e78-9bef-5bd55cf2efa5 button');\n",
              "      quickchartButtonEl.style.display =\n",
              "        google.colab.kernel.accessAllowed ? 'block' : 'none';\n",
              "    })();\n",
              "  </script>\n",
              "</div>\n",
              "\n",
              "    </div>\n",
              "  </div>\n"
            ],
            "application/vnd.google.colaboratory.intrinsic+json": {
              "type": "dataframe",
              "variable_name": "df"
            }
          },
          "metadata": {},
          "execution_count": 58
        }
      ],
      "source": [
        "df.head()"
      ]
    },
    {
      "cell_type": "markdown",
      "source": [
        "**Importing libraries**"
      ],
      "metadata": {
        "id": "gdFen9jr5RTs"
      }
    },
    {
      "cell_type": "code",
      "source": [
        "#importing dependencies\n",
        "import numpy as np\n",
        "import re\n",
        "\n",
        "from nltk.stem.porter import PorterStemmer\n",
        "from sklearn.feature_extraction.text import TfidfVectorizer\n",
        "\n",
        "from sklearn.model_selection import train_test_split\n",
        "\n",
        "from sklearn.metrics import accuracy_score\n",
        "\n",
        "import matplotlib.pyplot as plt\n",
        "import seaborn as sns\n",
        "\n",
        "import string\n",
        "import warnings\n",
        "warnings.filterwarnings('ignore')"
      ],
      "metadata": {
        "id": "y5ky4df3WgdN"
      },
      "execution_count": null,
      "outputs": []
    },
    {
      "cell_type": "code",
      "source": [
        "df.shape\n"
      ],
      "metadata": {
        "colab": {
          "base_uri": "https://localhost:8080/"
        },
        "id": "JOC2BnKr9Z7Y",
        "outputId": "ce4009de-2719-4f3c-d380-ce296c48cb01"
      },
      "execution_count": null,
      "outputs": [
        {
          "output_type": "execute_result",
          "data": {
            "text/plain": [
              "(110510, 121)"
            ]
          },
          "metadata": {},
          "execution_count": 75
        }
      ]
    },
    {
      "cell_type": "markdown",
      "source": [
        "**PREPROCESSING**"
      ],
      "metadata": {
        "id": "HfJkkcWhhtor"
      }
    },
    {
      "cell_type": "code",
      "source": [
        "# List of columns to keep\n",
        "columns_to_keep = [\n",
        "    'Fossil Free Funds: Relative carbon footprint (tonnes CO2 / $1M USD invested)',\n",
        "    'Fossil Free Funds: Relative carbon intensity (tonnes CO2 / $1M USD revenue)',\n",
        "    'Fossil Free Funds: Total financed emissions scope 1 + 2 (tCO2e)',\n",
        "    'Fossil Free Funds: Total financed emissions scope 1 + 2 + 3 (tCO2e)',\n",
        "    'Fossil Free Funds: Carbon footprint portfolio coverage by market value weight',\n",
        "    'Fossil Free Funds: Carbon footprint portfolio coverage by number of disclosing titles',\n",
        "    'Fossil Free Funds: Fossil fuel holdings, count',\n",
        "    'Fossil Free Funds: Fossil fuel holdings, weight',\n",
        "    'Deforestation Free Funds: Deforestation-risk producer, count',\n",
        "    'Deforestation Free Funds: Deforestation-risk producer, weight',\n",
        "    'Gender Equality Funds: Gender equality score (out of 100 points)',\n",
        "    'Gender Equality Funds: Gender equality score, gender balance (out of 100 points)',\n",
        "    'Gender Equality Funds: Gender equality score, gender policies (out of 100 points)',\n",
        "    'Fund profile: Shareclass type',\n",
        "    'Fund profile: Fund net assets',\n",
        "    'Fund profile: Percent rated',\n",
        "    'Fund profile: Shareclass inception date',\n",
        "    'Fossil Free Funds: Fossil fuel grade',\n",
        "    'Deforestation Free Funds: Deforestation grade',\n",
        "    'Gender Equality Funds: Gender equality grade',\n",
        "    'Fund profile: Asset manager',\n",
        "    'Fund profile: Category group',\n",
        "    'Fund profile: Sustainability mandate',\n",
        "    'Fund profile: US-SIF member'\n",
        "]\n",
        "\n",
        "# Keeping only the selected columns\n",
        "df_subset = df[columns_to_keep]\n",
        "\n",
        "# Save the subset to a new CSV file or use it for further analysis\n",
        "df_subset.to_csv('subset_dataset.csv', index=False)"
      ],
      "metadata": {
        "id": "LDtrpQ1d_UJG"
      },
      "execution_count": null,
      "outputs": []
    },
    {
      "cell_type": "code",
      "source": [
        "print(df_subset.dtypes)"
      ],
      "metadata": {
        "colab": {
          "base_uri": "https://localhost:8080/"
        },
        "id": "kVKvW3KucqSV",
        "outputId": "04d7310d-7008-4e24-d0b7-39eaced57cf7"
      },
      "execution_count": null,
      "outputs": [
        {
          "output_type": "stream",
          "name": "stdout",
          "text": [
            "Fossil Free Funds: Relative carbon footprint (tonnes CO2 / $1M USD invested)             float64\n",
            "Fossil Free Funds: Relative carbon intensity (tonnes CO2 / $1M USD revenue)              float64\n",
            "Fossil Free Funds: Total financed emissions scope 1 + 2 (tCO2e)                          float64\n",
            "Fossil Free Funds: Total financed emissions scope 1 + 2 + 3 (tCO2e)                      float64\n",
            "Fossil Free Funds: Carbon footprint portfolio coverage by market value weight            float64\n",
            "Fossil Free Funds: Carbon footprint portfolio coverage by number of disclosing titles    float64\n",
            "Fossil Free Funds: Fossil fuel holdings, count                                             int64\n",
            "Fossil Free Funds: Fossil fuel holdings, weight                                          float64\n",
            "Deforestation Free Funds: Deforestation-risk producer, count                               int64\n",
            "Deforestation Free Funds: Deforestation-risk producer, weight                            float64\n",
            "Gender Equality Funds: Gender equality score (out of 100 points)                         float64\n",
            "Gender Equality Funds: Gender equality score, gender balance (out of 100 points)         float64\n",
            "Gender Equality Funds: Gender equality score, gender policies (out of 100 points)        float64\n",
            "Fund profile: Shareclass type                                                             object\n",
            "Fund profile: Fund net assets                                                              int64\n",
            "Fund profile: Percent rated                                                              float64\n",
            "Fund profile: Shareclass inception date                                                   object\n",
            "Fossil Free Funds: Fossil fuel grade                                                      object\n",
            "Deforestation Free Funds: Deforestation grade                                             object\n",
            "Gender Equality Funds: Gender equality grade                                              object\n",
            "Fund profile: Asset manager                                                               object\n",
            "Fund profile: Category group                                                              object\n",
            "Fund profile: Sustainability mandate                                                      object\n",
            "Fund profile: US-SIF member                                                               object\n",
            "dtype: object\n"
          ]
        }
      ]
    },
    {
      "cell_type": "code",
      "source": [],
      "metadata": {
        "id": "5H0bV-32fh0K"
      },
      "execution_count": null,
      "outputs": []
    },
    {
      "cell_type": "markdown",
      "source": [
        "**Handling Missing values**\n"
      ],
      "metadata": {
        "id": "-xYBqNkfmwRK"
      }
    },
    {
      "cell_type": "code",
      "source": [
        "# Number of Nan values columnwise\n",
        "for col in df_subset.columns:\n",
        "    nan_count = df_subset[col].isna().sum()\n",
        "    print(f\"Number of NaN values in '{col}': {nan_count}\")"
      ],
      "metadata": {
        "colab": {
          "base_uri": "https://localhost:8080/"
        },
        "id": "7bjTh5YVhGBC",
        "outputId": "8b19b3e2-598a-404b-ae12-a02f120da627"
      },
      "execution_count": null,
      "outputs": [
        {
          "output_type": "stream",
          "name": "stdout",
          "text": [
            "Number of NaN values in 'Fossil Free Funds: Relative carbon footprint (tonnes CO2 / $1M USD invested)': 0\n",
            "Number of NaN values in 'Fossil Free Funds: Relative carbon intensity (tonnes CO2 / $1M USD revenue)': 0\n",
            "Number of NaN values in 'Fossil Free Funds: Total financed emissions scope 1 + 2 (tCO2e)': 0\n",
            "Number of NaN values in 'Fossil Free Funds: Total financed emissions scope 1 + 2 + 3 (tCO2e)': 0\n",
            "Number of NaN values in 'Fossil Free Funds: Carbon footprint portfolio coverage by market value weight': 0\n",
            "Number of NaN values in 'Fossil Free Funds: Carbon footprint portfolio coverage by number of disclosing titles': 0\n",
            "Number of NaN values in 'Fossil Free Funds: Fossil fuel holdings, count': 0\n",
            "Number of NaN values in 'Fossil Free Funds: Fossil fuel holdings, weight': 0\n",
            "Number of NaN values in 'Deforestation Free Funds: Deforestation-risk producer, count': 0\n",
            "Number of NaN values in 'Deforestation Free Funds: Deforestation-risk producer, weight': 0\n",
            "Number of NaN values in 'Gender Equality Funds: Gender equality score (out of 100 points)': 0\n",
            "Number of NaN values in 'Gender Equality Funds: Gender equality score, gender balance (out of 100 points)': 0\n",
            "Number of NaN values in 'Gender Equality Funds: Gender equality score, gender policies (out of 100 points)': 0\n",
            "Number of NaN values in 'Fund profile: Shareclass type': 0\n",
            "Number of NaN values in 'Fund profile: Fund net assets': 0\n",
            "Number of NaN values in 'Fund profile: Percent rated': 0\n",
            "Number of NaN values in 'Fund profile: Shareclass inception date': 0\n",
            "Number of NaN values in 'Fossil Free Funds: Fossil fuel grade': 0\n",
            "Number of NaN values in 'Deforestation Free Funds: Deforestation grade': 0\n",
            "Number of NaN values in 'Gender Equality Funds: Gender equality grade': 0\n",
            "Number of NaN values in 'Fund profile: Asset manager': 0\n",
            "Number of NaN values in 'Fund profile: Category group': 0\n",
            "Number of NaN values in 'Fund profile: Sustainability mandate': 87702\n",
            "Number of NaN values in 'Fund profile: US-SIF member': 108798\n"
          ]
        }
      ]
    },
    {
      "cell_type": "code",
      "source": [
        "df_subset.drop(columns=['Fund profile: US-SIF member'], inplace=True)\n",
        "df_subset.drop(columns=['Fund profile: Sustainability mandate'], inplace=True)"
      ],
      "metadata": {
        "id": "Nrg0W0Fwi5bJ",
        "colab": {
          "base_uri": "https://localhost:8080/",
          "height": 304
        },
        "outputId": "b737ed2f-a282-4668-ab69-294b25a97c25"
      },
      "execution_count": null,
      "outputs": [
        {
          "output_type": "error",
          "ename": "KeyError",
          "evalue": "\"['Fund profile: US-SIF member'] not found in axis\"",
          "traceback": [
            "\u001b[0;31m---------------------------------------------------------------------------\u001b[0m",
            "\u001b[0;31mKeyError\u001b[0m                                  Traceback (most recent call last)",
            "\u001b[0;32m<ipython-input-83-4b20d0613c5b>\u001b[0m in \u001b[0;36m<cell line: 1>\u001b[0;34m()\u001b[0m\n\u001b[0;32m----> 1\u001b[0;31m \u001b[0mdf_subset\u001b[0m\u001b[0;34m.\u001b[0m\u001b[0mdrop\u001b[0m\u001b[0;34m(\u001b[0m\u001b[0mcolumns\u001b[0m\u001b[0;34m=\u001b[0m\u001b[0;34m[\u001b[0m\u001b[0;34m'Fund profile: US-SIF member'\u001b[0m\u001b[0;34m]\u001b[0m\u001b[0;34m,\u001b[0m \u001b[0minplace\u001b[0m\u001b[0;34m=\u001b[0m\u001b[0;32mTrue\u001b[0m\u001b[0;34m)\u001b[0m\u001b[0;34m\u001b[0m\u001b[0;34m\u001b[0m\u001b[0m\n\u001b[0m\u001b[1;32m      2\u001b[0m \u001b[0mdf_subset\u001b[0m\u001b[0;34m.\u001b[0m\u001b[0mdrop\u001b[0m\u001b[0;34m(\u001b[0m\u001b[0mcolumns\u001b[0m\u001b[0;34m=\u001b[0m\u001b[0;34m[\u001b[0m\u001b[0;34m'Fund profile: Sustainability mandate'\u001b[0m\u001b[0;34m]\u001b[0m\u001b[0;34m,\u001b[0m \u001b[0minplace\u001b[0m\u001b[0;34m=\u001b[0m\u001b[0;32mTrue\u001b[0m\u001b[0;34m)\u001b[0m\u001b[0;34m\u001b[0m\u001b[0;34m\u001b[0m\u001b[0m\n",
            "\u001b[0;32m/usr/local/lib/python3.10/dist-packages/pandas/util/_decorators.py\u001b[0m in \u001b[0;36mwrapper\u001b[0;34m(*args, **kwargs)\u001b[0m\n\u001b[1;32m    329\u001b[0m                     \u001b[0mstacklevel\u001b[0m\u001b[0;34m=\u001b[0m\u001b[0mfind_stack_level\u001b[0m\u001b[0;34m(\u001b[0m\u001b[0;34m)\u001b[0m\u001b[0;34m,\u001b[0m\u001b[0;34m\u001b[0m\u001b[0;34m\u001b[0m\u001b[0m\n\u001b[1;32m    330\u001b[0m                 )\n\u001b[0;32m--> 331\u001b[0;31m             \u001b[0;32mreturn\u001b[0m \u001b[0mfunc\u001b[0m\u001b[0;34m(\u001b[0m\u001b[0;34m*\u001b[0m\u001b[0margs\u001b[0m\u001b[0;34m,\u001b[0m \u001b[0;34m**\u001b[0m\u001b[0mkwargs\u001b[0m\u001b[0;34m)\u001b[0m\u001b[0;34m\u001b[0m\u001b[0;34m\u001b[0m\u001b[0m\n\u001b[0m\u001b[1;32m    332\u001b[0m \u001b[0;34m\u001b[0m\u001b[0m\n\u001b[1;32m    333\u001b[0m         \u001b[0;31m# error: \"Callable[[VarArg(Any), KwArg(Any)], Any]\" has no\u001b[0m\u001b[0;34m\u001b[0m\u001b[0;34m\u001b[0m\u001b[0m\n",
            "\u001b[0;32m/usr/local/lib/python3.10/dist-packages/pandas/core/frame.py\u001b[0m in \u001b[0;36mdrop\u001b[0;34m(self, labels, axis, index, columns, level, inplace, errors)\u001b[0m\n\u001b[1;32m   5397\u001b[0m                 \u001b[0mweight\u001b[0m  \u001b[0;36m1.0\u001b[0m     \u001b[0;36m0.8\u001b[0m\u001b[0;34m\u001b[0m\u001b[0;34m\u001b[0m\u001b[0m\n\u001b[1;32m   5398\u001b[0m         \"\"\"\n\u001b[0;32m-> 5399\u001b[0;31m         return super().drop(\n\u001b[0m\u001b[1;32m   5400\u001b[0m             \u001b[0mlabels\u001b[0m\u001b[0;34m=\u001b[0m\u001b[0mlabels\u001b[0m\u001b[0;34m,\u001b[0m\u001b[0;34m\u001b[0m\u001b[0;34m\u001b[0m\u001b[0m\n\u001b[1;32m   5401\u001b[0m             \u001b[0maxis\u001b[0m\u001b[0;34m=\u001b[0m\u001b[0maxis\u001b[0m\u001b[0;34m,\u001b[0m\u001b[0;34m\u001b[0m\u001b[0;34m\u001b[0m\u001b[0m\n",
            "\u001b[0;32m/usr/local/lib/python3.10/dist-packages/pandas/util/_decorators.py\u001b[0m in \u001b[0;36mwrapper\u001b[0;34m(*args, **kwargs)\u001b[0m\n\u001b[1;32m    329\u001b[0m                     \u001b[0mstacklevel\u001b[0m\u001b[0;34m=\u001b[0m\u001b[0mfind_stack_level\u001b[0m\u001b[0;34m(\u001b[0m\u001b[0;34m)\u001b[0m\u001b[0;34m,\u001b[0m\u001b[0;34m\u001b[0m\u001b[0;34m\u001b[0m\u001b[0m\n\u001b[1;32m    330\u001b[0m                 )\n\u001b[0;32m--> 331\u001b[0;31m             \u001b[0;32mreturn\u001b[0m \u001b[0mfunc\u001b[0m\u001b[0;34m(\u001b[0m\u001b[0;34m*\u001b[0m\u001b[0margs\u001b[0m\u001b[0;34m,\u001b[0m \u001b[0;34m**\u001b[0m\u001b[0mkwargs\u001b[0m\u001b[0;34m)\u001b[0m\u001b[0;34m\u001b[0m\u001b[0;34m\u001b[0m\u001b[0m\n\u001b[0m\u001b[1;32m    332\u001b[0m \u001b[0;34m\u001b[0m\u001b[0m\n\u001b[1;32m    333\u001b[0m         \u001b[0;31m# error: \"Callable[[VarArg(Any), KwArg(Any)], Any]\" has no\u001b[0m\u001b[0;34m\u001b[0m\u001b[0;34m\u001b[0m\u001b[0m\n",
            "\u001b[0;32m/usr/local/lib/python3.10/dist-packages/pandas/core/generic.py\u001b[0m in \u001b[0;36mdrop\u001b[0;34m(self, labels, axis, index, columns, level, inplace, errors)\u001b[0m\n\u001b[1;32m   4503\u001b[0m         \u001b[0;32mfor\u001b[0m \u001b[0maxis\u001b[0m\u001b[0;34m,\u001b[0m \u001b[0mlabels\u001b[0m \u001b[0;32min\u001b[0m \u001b[0maxes\u001b[0m\u001b[0;34m.\u001b[0m\u001b[0mitems\u001b[0m\u001b[0;34m(\u001b[0m\u001b[0;34m)\u001b[0m\u001b[0;34m:\u001b[0m\u001b[0;34m\u001b[0m\u001b[0;34m\u001b[0m\u001b[0m\n\u001b[1;32m   4504\u001b[0m             \u001b[0;32mif\u001b[0m \u001b[0mlabels\u001b[0m \u001b[0;32mis\u001b[0m \u001b[0;32mnot\u001b[0m \u001b[0;32mNone\u001b[0m\u001b[0;34m:\u001b[0m\u001b[0;34m\u001b[0m\u001b[0;34m\u001b[0m\u001b[0m\n\u001b[0;32m-> 4505\u001b[0;31m                 \u001b[0mobj\u001b[0m \u001b[0;34m=\u001b[0m \u001b[0mobj\u001b[0m\u001b[0;34m.\u001b[0m\u001b[0m_drop_axis\u001b[0m\u001b[0;34m(\u001b[0m\u001b[0mlabels\u001b[0m\u001b[0;34m,\u001b[0m \u001b[0maxis\u001b[0m\u001b[0;34m,\u001b[0m \u001b[0mlevel\u001b[0m\u001b[0;34m=\u001b[0m\u001b[0mlevel\u001b[0m\u001b[0;34m,\u001b[0m \u001b[0merrors\u001b[0m\u001b[0;34m=\u001b[0m\u001b[0merrors\u001b[0m\u001b[0;34m)\u001b[0m\u001b[0;34m\u001b[0m\u001b[0;34m\u001b[0m\u001b[0m\n\u001b[0m\u001b[1;32m   4506\u001b[0m \u001b[0;34m\u001b[0m\u001b[0m\n\u001b[1;32m   4507\u001b[0m         \u001b[0;32mif\u001b[0m \u001b[0minplace\u001b[0m\u001b[0;34m:\u001b[0m\u001b[0;34m\u001b[0m\u001b[0;34m\u001b[0m\u001b[0m\n",
            "\u001b[0;32m/usr/local/lib/python3.10/dist-packages/pandas/core/generic.py\u001b[0m in \u001b[0;36m_drop_axis\u001b[0;34m(self, labels, axis, level, errors, only_slice)\u001b[0m\n\u001b[1;32m   4544\u001b[0m                 \u001b[0mnew_axis\u001b[0m \u001b[0;34m=\u001b[0m \u001b[0maxis\u001b[0m\u001b[0;34m.\u001b[0m\u001b[0mdrop\u001b[0m\u001b[0;34m(\u001b[0m\u001b[0mlabels\u001b[0m\u001b[0;34m,\u001b[0m \u001b[0mlevel\u001b[0m\u001b[0;34m=\u001b[0m\u001b[0mlevel\u001b[0m\u001b[0;34m,\u001b[0m \u001b[0merrors\u001b[0m\u001b[0;34m=\u001b[0m\u001b[0merrors\u001b[0m\u001b[0;34m)\u001b[0m\u001b[0;34m\u001b[0m\u001b[0;34m\u001b[0m\u001b[0m\n\u001b[1;32m   4545\u001b[0m             \u001b[0;32melse\u001b[0m\u001b[0;34m:\u001b[0m\u001b[0;34m\u001b[0m\u001b[0;34m\u001b[0m\u001b[0m\n\u001b[0;32m-> 4546\u001b[0;31m                 \u001b[0mnew_axis\u001b[0m \u001b[0;34m=\u001b[0m \u001b[0maxis\u001b[0m\u001b[0;34m.\u001b[0m\u001b[0mdrop\u001b[0m\u001b[0;34m(\u001b[0m\u001b[0mlabels\u001b[0m\u001b[0;34m,\u001b[0m \u001b[0merrors\u001b[0m\u001b[0;34m=\u001b[0m\u001b[0merrors\u001b[0m\u001b[0;34m)\u001b[0m\u001b[0;34m\u001b[0m\u001b[0;34m\u001b[0m\u001b[0m\n\u001b[0m\u001b[1;32m   4547\u001b[0m             \u001b[0mindexer\u001b[0m \u001b[0;34m=\u001b[0m \u001b[0maxis\u001b[0m\u001b[0;34m.\u001b[0m\u001b[0mget_indexer\u001b[0m\u001b[0;34m(\u001b[0m\u001b[0mnew_axis\u001b[0m\u001b[0;34m)\u001b[0m\u001b[0;34m\u001b[0m\u001b[0;34m\u001b[0m\u001b[0m\n\u001b[1;32m   4548\u001b[0m \u001b[0;34m\u001b[0m\u001b[0m\n",
            "\u001b[0;32m/usr/local/lib/python3.10/dist-packages/pandas/core/indexes/base.py\u001b[0m in \u001b[0;36mdrop\u001b[0;34m(self, labels, errors)\u001b[0m\n\u001b[1;32m   6932\u001b[0m         \u001b[0;32mif\u001b[0m \u001b[0mmask\u001b[0m\u001b[0;34m.\u001b[0m\u001b[0many\u001b[0m\u001b[0;34m(\u001b[0m\u001b[0;34m)\u001b[0m\u001b[0;34m:\u001b[0m\u001b[0;34m\u001b[0m\u001b[0;34m\u001b[0m\u001b[0m\n\u001b[1;32m   6933\u001b[0m             \u001b[0;32mif\u001b[0m \u001b[0merrors\u001b[0m \u001b[0;34m!=\u001b[0m \u001b[0;34m\"ignore\"\u001b[0m\u001b[0;34m:\u001b[0m\u001b[0;34m\u001b[0m\u001b[0;34m\u001b[0m\u001b[0m\n\u001b[0;32m-> 6934\u001b[0;31m                 \u001b[0;32mraise\u001b[0m \u001b[0mKeyError\u001b[0m\u001b[0;34m(\u001b[0m\u001b[0;34mf\"{list(labels[mask])} not found in axis\"\u001b[0m\u001b[0;34m)\u001b[0m\u001b[0;34m\u001b[0m\u001b[0;34m\u001b[0m\u001b[0m\n\u001b[0m\u001b[1;32m   6935\u001b[0m             \u001b[0mindexer\u001b[0m \u001b[0;34m=\u001b[0m \u001b[0mindexer\u001b[0m\u001b[0;34m[\u001b[0m\u001b[0;34m~\u001b[0m\u001b[0mmask\u001b[0m\u001b[0;34m]\u001b[0m\u001b[0;34m\u001b[0m\u001b[0;34m\u001b[0m\u001b[0m\n\u001b[1;32m   6936\u001b[0m         \u001b[0;32mreturn\u001b[0m \u001b[0mself\u001b[0m\u001b[0;34m.\u001b[0m\u001b[0mdelete\u001b[0m\u001b[0;34m(\u001b[0m\u001b[0mindexer\u001b[0m\u001b[0;34m)\u001b[0m\u001b[0;34m\u001b[0m\u001b[0;34m\u001b[0m\u001b[0m\n",
            "\u001b[0;31mKeyError\u001b[0m: \"['Fund profile: US-SIF member'] not found in axis\""
          ]
        }
      ]
    },
    {
      "cell_type": "code",
      "source": [
        "df['Gender Equality Funds: Gender equality grade'].fillna('Unknown', inplace=True)"
      ],
      "metadata": {
        "id": "6fgAwA3PvjM6"
      },
      "execution_count": null,
      "outputs": []
    },
    {
      "cell_type": "code",
      "source": [
        "# Replace NaN values with mean value\n",
        "mean_value = df_subset['Gender Equality Funds: Gender equality score (out of 100 points)'].mean()\n",
        "df_subset['Gender Equality Funds: Gender equality score (out of 100 points)'].fillna(mean_value, inplace=True)\n"
      ],
      "metadata": {
        "id": "6uqElmKn-VQC"
      },
      "execution_count": null,
      "outputs": []
    },
    {
      "cell_type": "code",
      "source": [
        "# Replace NaN values with mean value\n",
        "mean_value = df_subset['Gender Equality Funds: Gender equality score, gender balance (out of 100 points)'].mean()\n",
        "df_subset['Gender Equality Funds: Gender equality score, gender balance (out of 100 points)'].fillna(mean_value, inplace=True)\n"
      ],
      "metadata": {
        "id": "JGoO0k_iuCoK"
      },
      "execution_count": null,
      "outputs": []
    },
    {
      "cell_type": "code",
      "source": [
        "# Replace NaN values with mean value\n",
        "mean_value = df_subset['Gender Equality Funds: Gender equality score, gender policies (out of 100 points)'].mean()\n",
        "df_subset['Gender Equality Funds: Gender equality score, gender policies (out of 100 points)'].fillna(mean_value, inplace=True)"
      ],
      "metadata": {
        "id": "nWfkgqpevwP6"
      },
      "execution_count": null,
      "outputs": []
    },
    {
      "cell_type": "code",
      "source": [
        "column_with_nan ='Fossil Free Funds: Fossil fuel grade'\n",
        "df_subset = df_subset.dropna(subset=[column_with_nan])"
      ],
      "metadata": {
        "id": "VIHXaGPzumES"
      },
      "execution_count": null,
      "outputs": []
    },
    {
      "cell_type": "markdown",
      "source": [
        "**Making target and features**\n"
      ],
      "metadata": {
        "id": "ZRU_PRxsxW5r"
      }
    },
    {
      "cell_type": "code",
      "source": [
        "columns = [\n",
        "    'Fossil Free Funds: Relative carbon intensity (tonnes CO2 / $1M USD revenue)',\n",
        "    'Fossil Free Funds: Total financed emissions scope 1 + 2 (tCO2e)',\n",
        "    'Fossil Free Funds: Total financed emissions scope 1 + 2 + 3 (tCO2e)',\n",
        "    'Fossil Free Funds: Carbon footprint portfolio coverage by market value weight',\n",
        "    'Fossil Free Funds: Carbon footprint portfolio coverage by number of disclosing titles',\n",
        "    'Fossil Free Funds: Fossil fuel holdings, count',\n",
        "    'Fossil Free Funds: Fossil fuel holdings, weight',\n",
        "    'Deforestation Free Funds: Deforestation-risk producer, count',\n",
        "    'Deforestation Free Funds: Deforestation-risk producer, weight',\n",
        "    'Fund profile: Shareclass type',\n",
        "    'Fund profile: Fund net assets',\n",
        "    'Fund profile: Percent rated',\n",
        "    'Fund profile: Shareclass inception date',\n",
        "    'Deforestation Free Funds: Deforestation grade',\n",
        "    'Gender Equality Funds: Gender equality grade',\n",
        "    'Fund profile: Asset manager',\n",
        "    'Fund profile: Category group',\n",
        "    'Fossil Free Funds: Relative carbon footprint (tonnes CO2 / $1M USD invested)',\n",
        "    'Fossil Free Funds: Total financed emissions scope 1 + 2 (tCO2e)',\n",
        "    'Fossil Free Funds: Total financed emissions scope 1 + 2 + 3 (tCO2e)'\n",
        "]\n",
        "\n",
        "# Selecting features (inputs)\n",
        "features = df_subset[columns[:-8]]  # Selecting all columns except the last three, which are potential targets\n",
        "\n",
        "# Selecting target variable (output)\n",
        "target = df_subset['Fossil Free Funds: Relative carbon footprint (tonnes CO2 / $1M USD invested)']  # Choose appropriate target column"
      ],
      "metadata": {
        "id": "dS4DeMHqTABT"
      },
      "execution_count": null,
      "outputs": []
    },
    {
      "cell_type": "code",
      "source": [
        "features.head()"
      ],
      "metadata": {
        "colab": {
          "base_uri": "https://localhost:8080/",
          "height": 449
        },
        "id": "1O6roPRB2ps8",
        "outputId": "a3591de1-67db-4c61-ed12-fe4f9c3c4ba3"
      },
      "execution_count": null,
      "outputs": [
        {
          "output_type": "execute_result",
          "data": {
            "text/plain": [
              "   Fossil Free Funds: Relative carbon intensity (tonnes CO2 / $1M USD revenue)  \\\n",
              "0                                             104.21                             \n",
              "1                                             104.21                             \n",
              "2                                             104.21                             \n",
              "3                                             104.21                             \n",
              "4                                              63.08                             \n",
              "\n",
              "   Fossil Free Funds: Total financed emissions scope 1 + 2 (tCO2e)  \\\n",
              "0                                            1846.27                 \n",
              "1                                            1846.27                 \n",
              "2                                            1846.27                 \n",
              "3                                            1846.27                 \n",
              "4                                           25580.25                 \n",
              "\n",
              "   Fossil Free Funds: Total financed emissions scope 1 + 2 + 3 (tCO2e)  \\\n",
              "0                                            5965.91                     \n",
              "1                                            5965.91                     \n",
              "2                                            5965.91                     \n",
              "3                                            5965.91                     \n",
              "4                                          104767.63                     \n",
              "\n",
              "   Fossil Free Funds: Carbon footprint portfolio coverage by market value weight  \\\n",
              "0                                           0.981044                               \n",
              "1                                           0.981044                               \n",
              "2                                           0.981044                               \n",
              "3                                           0.981044                               \n",
              "4                                           0.806359                               \n",
              "\n",
              "   Fossil Free Funds: Carbon footprint portfolio coverage by number of disclosing titles  \\\n",
              "0                                           0.844560                                       \n",
              "1                                           0.844560                                       \n",
              "2                                           0.844560                                       \n",
              "3                                           0.844560                                       \n",
              "4                                           0.333333                                       \n",
              "\n",
              "   Fossil Free Funds: Fossil fuel holdings, count  \\\n",
              "0                                              29   \n",
              "1                                              29   \n",
              "2                                              29   \n",
              "3                                              29   \n",
              "4                                               1   \n",
              "\n",
              "   Fossil Free Funds: Fossil fuel holdings, weight  \\\n",
              "0                                         0.058496   \n",
              "1                                         0.058496   \n",
              "2                                         0.058496   \n",
              "3                                         0.058496   \n",
              "4                                         0.037922   \n",
              "\n",
              "   Deforestation Free Funds: Deforestation-risk producer, count  \\\n",
              "0                                                  5              \n",
              "1                                                  5              \n",
              "2                                                  5              \n",
              "3                                                  5              \n",
              "4                                                  0              \n",
              "\n",
              "   Deforestation Free Funds: Deforestation-risk producer, weight  \\\n",
              "0                                           0.005136               \n",
              "1                                           0.005136               \n",
              "2                                           0.005136               \n",
              "3                                           0.005136               \n",
              "4                                           0.000000               \n",
              "\n",
              "  Fund profile: Shareclass type  Fund profile: Fund net assets  \\\n",
              "0          Open-end mutual fund                       32236053   \n",
              "1          Open-end mutual fund                       32236053   \n",
              "2          Open-end mutual fund                       32236053   \n",
              "3          Open-end mutual fund                       32236053   \n",
              "4          Open-end mutual fund                      346536813   \n",
              "\n",
              "   Fund profile: Percent rated  \n",
              "0                     0.981064  \n",
              "1                     0.981064  \n",
              "2                     0.981064  \n",
              "3                     0.981064  \n",
              "4                     0.806360  "
            ],
            "text/html": [
              "\n",
              "  <div id=\"df-035e29d6-6f11-4541-a358-9aa8c9bd1142\" class=\"colab-df-container\">\n",
              "    <div>\n",
              "<style scoped>\n",
              "    .dataframe tbody tr th:only-of-type {\n",
              "        vertical-align: middle;\n",
              "    }\n",
              "\n",
              "    .dataframe tbody tr th {\n",
              "        vertical-align: top;\n",
              "    }\n",
              "\n",
              "    .dataframe thead th {\n",
              "        text-align: right;\n",
              "    }\n",
              "</style>\n",
              "<table border=\"1\" class=\"dataframe\">\n",
              "  <thead>\n",
              "    <tr style=\"text-align: right;\">\n",
              "      <th></th>\n",
              "      <th>Fossil Free Funds: Relative carbon intensity (tonnes CO2 / $1M USD revenue)</th>\n",
              "      <th>Fossil Free Funds: Total financed emissions scope 1 + 2 (tCO2e)</th>\n",
              "      <th>Fossil Free Funds: Total financed emissions scope 1 + 2 + 3 (tCO2e)</th>\n",
              "      <th>Fossil Free Funds: Carbon footprint portfolio coverage by market value weight</th>\n",
              "      <th>Fossil Free Funds: Carbon footprint portfolio coverage by number of disclosing titles</th>\n",
              "      <th>Fossil Free Funds: Fossil fuel holdings, count</th>\n",
              "      <th>Fossil Free Funds: Fossil fuel holdings, weight</th>\n",
              "      <th>Deforestation Free Funds: Deforestation-risk producer, count</th>\n",
              "      <th>Deforestation Free Funds: Deforestation-risk producer, weight</th>\n",
              "      <th>Fund profile: Shareclass type</th>\n",
              "      <th>Fund profile: Fund net assets</th>\n",
              "      <th>Fund profile: Percent rated</th>\n",
              "    </tr>\n",
              "  </thead>\n",
              "  <tbody>\n",
              "    <tr>\n",
              "      <th>0</th>\n",
              "      <td>104.21</td>\n",
              "      <td>1846.27</td>\n",
              "      <td>5965.91</td>\n",
              "      <td>0.981044</td>\n",
              "      <td>0.844560</td>\n",
              "      <td>29</td>\n",
              "      <td>0.058496</td>\n",
              "      <td>5</td>\n",
              "      <td>0.005136</td>\n",
              "      <td>Open-end mutual fund</td>\n",
              "      <td>32236053</td>\n",
              "      <td>0.981064</td>\n",
              "    </tr>\n",
              "    <tr>\n",
              "      <th>1</th>\n",
              "      <td>104.21</td>\n",
              "      <td>1846.27</td>\n",
              "      <td>5965.91</td>\n",
              "      <td>0.981044</td>\n",
              "      <td>0.844560</td>\n",
              "      <td>29</td>\n",
              "      <td>0.058496</td>\n",
              "      <td>5</td>\n",
              "      <td>0.005136</td>\n",
              "      <td>Open-end mutual fund</td>\n",
              "      <td>32236053</td>\n",
              "      <td>0.981064</td>\n",
              "    </tr>\n",
              "    <tr>\n",
              "      <th>2</th>\n",
              "      <td>104.21</td>\n",
              "      <td>1846.27</td>\n",
              "      <td>5965.91</td>\n",
              "      <td>0.981044</td>\n",
              "      <td>0.844560</td>\n",
              "      <td>29</td>\n",
              "      <td>0.058496</td>\n",
              "      <td>5</td>\n",
              "      <td>0.005136</td>\n",
              "      <td>Open-end mutual fund</td>\n",
              "      <td>32236053</td>\n",
              "      <td>0.981064</td>\n",
              "    </tr>\n",
              "    <tr>\n",
              "      <th>3</th>\n",
              "      <td>104.21</td>\n",
              "      <td>1846.27</td>\n",
              "      <td>5965.91</td>\n",
              "      <td>0.981044</td>\n",
              "      <td>0.844560</td>\n",
              "      <td>29</td>\n",
              "      <td>0.058496</td>\n",
              "      <td>5</td>\n",
              "      <td>0.005136</td>\n",
              "      <td>Open-end mutual fund</td>\n",
              "      <td>32236053</td>\n",
              "      <td>0.981064</td>\n",
              "    </tr>\n",
              "    <tr>\n",
              "      <th>4</th>\n",
              "      <td>63.08</td>\n",
              "      <td>25580.25</td>\n",
              "      <td>104767.63</td>\n",
              "      <td>0.806359</td>\n",
              "      <td>0.333333</td>\n",
              "      <td>1</td>\n",
              "      <td>0.037922</td>\n",
              "      <td>0</td>\n",
              "      <td>0.000000</td>\n",
              "      <td>Open-end mutual fund</td>\n",
              "      <td>346536813</td>\n",
              "      <td>0.806360</td>\n",
              "    </tr>\n",
              "  </tbody>\n",
              "</table>\n",
              "</div>\n",
              "    <div class=\"colab-df-buttons\">\n",
              "\n",
              "  <div class=\"colab-df-container\">\n",
              "    <button class=\"colab-df-convert\" onclick=\"convertToInteractive('df-035e29d6-6f11-4541-a358-9aa8c9bd1142')\"\n",
              "            title=\"Convert this dataframe to an interactive table.\"\n",
              "            style=\"display:none;\">\n",
              "\n",
              "  <svg xmlns=\"http://www.w3.org/2000/svg\" height=\"24px\" viewBox=\"0 -960 960 960\">\n",
              "    <path d=\"M120-120v-720h720v720H120Zm60-500h600v-160H180v160Zm220 220h160v-160H400v160Zm0 220h160v-160H400v160ZM180-400h160v-160H180v160Zm440 0h160v-160H620v160ZM180-180h160v-160H180v160Zm440 0h160v-160H620v160Z\"/>\n",
              "  </svg>\n",
              "    </button>\n",
              "\n",
              "  <style>\n",
              "    .colab-df-container {\n",
              "      display:flex;\n",
              "      gap: 12px;\n",
              "    }\n",
              "\n",
              "    .colab-df-convert {\n",
              "      background-color: #E8F0FE;\n",
              "      border: none;\n",
              "      border-radius: 50%;\n",
              "      cursor: pointer;\n",
              "      display: none;\n",
              "      fill: #1967D2;\n",
              "      height: 32px;\n",
              "      padding: 0 0 0 0;\n",
              "      width: 32px;\n",
              "    }\n",
              "\n",
              "    .colab-df-convert:hover {\n",
              "      background-color: #E2EBFA;\n",
              "      box-shadow: 0px 1px 2px rgba(60, 64, 67, 0.3), 0px 1px 3px 1px rgba(60, 64, 67, 0.15);\n",
              "      fill: #174EA6;\n",
              "    }\n",
              "\n",
              "    .colab-df-buttons div {\n",
              "      margin-bottom: 4px;\n",
              "    }\n",
              "\n",
              "    [theme=dark] .colab-df-convert {\n",
              "      background-color: #3B4455;\n",
              "      fill: #D2E3FC;\n",
              "    }\n",
              "\n",
              "    [theme=dark] .colab-df-convert:hover {\n",
              "      background-color: #434B5C;\n",
              "      box-shadow: 0px 1px 3px 1px rgba(0, 0, 0, 0.15);\n",
              "      filter: drop-shadow(0px 1px 2px rgba(0, 0, 0, 0.3));\n",
              "      fill: #FFFFFF;\n",
              "    }\n",
              "  </style>\n",
              "\n",
              "    <script>\n",
              "      const buttonEl =\n",
              "        document.querySelector('#df-035e29d6-6f11-4541-a358-9aa8c9bd1142 button.colab-df-convert');\n",
              "      buttonEl.style.display =\n",
              "        google.colab.kernel.accessAllowed ? 'block' : 'none';\n",
              "\n",
              "      async function convertToInteractive(key) {\n",
              "        const element = document.querySelector('#df-035e29d6-6f11-4541-a358-9aa8c9bd1142');\n",
              "        const dataTable =\n",
              "          await google.colab.kernel.invokeFunction('convertToInteractive',\n",
              "                                                    [key], {});\n",
              "        if (!dataTable) return;\n",
              "\n",
              "        const docLinkHtml = 'Like what you see? Visit the ' +\n",
              "          '<a target=\"_blank\" href=https://colab.research.google.com/notebooks/data_table.ipynb>data table notebook</a>'\n",
              "          + ' to learn more about interactive tables.';\n",
              "        element.innerHTML = '';\n",
              "        dataTable['output_type'] = 'display_data';\n",
              "        await google.colab.output.renderOutput(dataTable, element);\n",
              "        const docLink = document.createElement('div');\n",
              "        docLink.innerHTML = docLinkHtml;\n",
              "        element.appendChild(docLink);\n",
              "      }\n",
              "    </script>\n",
              "  </div>\n",
              "\n",
              "\n",
              "<div id=\"df-cdff80e9-6451-4efc-b480-281f9fa7345f\">\n",
              "  <button class=\"colab-df-quickchart\" onclick=\"quickchart('df-cdff80e9-6451-4efc-b480-281f9fa7345f')\"\n",
              "            title=\"Suggest charts\"\n",
              "            style=\"display:none;\">\n",
              "\n",
              "<svg xmlns=\"http://www.w3.org/2000/svg\" height=\"24px\"viewBox=\"0 0 24 24\"\n",
              "     width=\"24px\">\n",
              "    <g>\n",
              "        <path d=\"M19 3H5c-1.1 0-2 .9-2 2v14c0 1.1.9 2 2 2h14c1.1 0 2-.9 2-2V5c0-1.1-.9-2-2-2zM9 17H7v-7h2v7zm4 0h-2V7h2v10zm4 0h-2v-4h2v4z\"/>\n",
              "    </g>\n",
              "</svg>\n",
              "  </button>\n",
              "\n",
              "<style>\n",
              "  .colab-df-quickchart {\n",
              "      --bg-color: #E8F0FE;\n",
              "      --fill-color: #1967D2;\n",
              "      --hover-bg-color: #E2EBFA;\n",
              "      --hover-fill-color: #174EA6;\n",
              "      --disabled-fill-color: #AAA;\n",
              "      --disabled-bg-color: #DDD;\n",
              "  }\n",
              "\n",
              "  [theme=dark] .colab-df-quickchart {\n",
              "      --bg-color: #3B4455;\n",
              "      --fill-color: #D2E3FC;\n",
              "      --hover-bg-color: #434B5C;\n",
              "      --hover-fill-color: #FFFFFF;\n",
              "      --disabled-bg-color: #3B4455;\n",
              "      --disabled-fill-color: #666;\n",
              "  }\n",
              "\n",
              "  .colab-df-quickchart {\n",
              "    background-color: var(--bg-color);\n",
              "    border: none;\n",
              "    border-radius: 50%;\n",
              "    cursor: pointer;\n",
              "    display: none;\n",
              "    fill: var(--fill-color);\n",
              "    height: 32px;\n",
              "    padding: 0;\n",
              "    width: 32px;\n",
              "  }\n",
              "\n",
              "  .colab-df-quickchart:hover {\n",
              "    background-color: var(--hover-bg-color);\n",
              "    box-shadow: 0 1px 2px rgba(60, 64, 67, 0.3), 0 1px 3px 1px rgba(60, 64, 67, 0.15);\n",
              "    fill: var(--button-hover-fill-color);\n",
              "  }\n",
              "\n",
              "  .colab-df-quickchart-complete:disabled,\n",
              "  .colab-df-quickchart-complete:disabled:hover {\n",
              "    background-color: var(--disabled-bg-color);\n",
              "    fill: var(--disabled-fill-color);\n",
              "    box-shadow: none;\n",
              "  }\n",
              "\n",
              "  .colab-df-spinner {\n",
              "    border: 2px solid var(--fill-color);\n",
              "    border-color: transparent;\n",
              "    border-bottom-color: var(--fill-color);\n",
              "    animation:\n",
              "      spin 1s steps(1) infinite;\n",
              "  }\n",
              "\n",
              "  @keyframes spin {\n",
              "    0% {\n",
              "      border-color: transparent;\n",
              "      border-bottom-color: var(--fill-color);\n",
              "      border-left-color: var(--fill-color);\n",
              "    }\n",
              "    20% {\n",
              "      border-color: transparent;\n",
              "      border-left-color: var(--fill-color);\n",
              "      border-top-color: var(--fill-color);\n",
              "    }\n",
              "    30% {\n",
              "      border-color: transparent;\n",
              "      border-left-color: var(--fill-color);\n",
              "      border-top-color: var(--fill-color);\n",
              "      border-right-color: var(--fill-color);\n",
              "    }\n",
              "    40% {\n",
              "      border-color: transparent;\n",
              "      border-right-color: var(--fill-color);\n",
              "      border-top-color: var(--fill-color);\n",
              "    }\n",
              "    60% {\n",
              "      border-color: transparent;\n",
              "      border-right-color: var(--fill-color);\n",
              "    }\n",
              "    80% {\n",
              "      border-color: transparent;\n",
              "      border-right-color: var(--fill-color);\n",
              "      border-bottom-color: var(--fill-color);\n",
              "    }\n",
              "    90% {\n",
              "      border-color: transparent;\n",
              "      border-bottom-color: var(--fill-color);\n",
              "    }\n",
              "  }\n",
              "</style>\n",
              "\n",
              "  <script>\n",
              "    async function quickchart(key) {\n",
              "      const quickchartButtonEl =\n",
              "        document.querySelector('#' + key + ' button');\n",
              "      quickchartButtonEl.disabled = true;  // To prevent multiple clicks.\n",
              "      quickchartButtonEl.classList.add('colab-df-spinner');\n",
              "      try {\n",
              "        const charts = await google.colab.kernel.invokeFunction(\n",
              "            'suggestCharts', [key], {});\n",
              "      } catch (error) {\n",
              "        console.error('Error during call to suggestCharts:', error);\n",
              "      }\n",
              "      quickchartButtonEl.classList.remove('colab-df-spinner');\n",
              "      quickchartButtonEl.classList.add('colab-df-quickchart-complete');\n",
              "    }\n",
              "    (() => {\n",
              "      let quickchartButtonEl =\n",
              "        document.querySelector('#df-cdff80e9-6451-4efc-b480-281f9fa7345f button');\n",
              "      quickchartButtonEl.style.display =\n",
              "        google.colab.kernel.accessAllowed ? 'block' : 'none';\n",
              "    })();\n",
              "  </script>\n",
              "</div>\n",
              "\n",
              "    </div>\n",
              "  </div>\n"
            ],
            "application/vnd.google.colaboratory.intrinsic+json": {
              "type": "dataframe",
              "variable_name": "features"
            }
          },
          "metadata": {},
          "execution_count": 206
        }
      ]
    },
    {
      "cell_type": "code",
      "source": [
        "# Check data types of columns\n",
        "print(features.dtypes)"
      ],
      "metadata": {
        "colab": {
          "base_uri": "https://localhost:8080/"
        },
        "id": "WRaj3TYuVxsr",
        "outputId": "e4f88910-0ab6-49b3-97c0-3b71e6de61f0"
      },
      "execution_count": null,
      "outputs": [
        {
          "output_type": "stream",
          "name": "stdout",
          "text": [
            "Fossil Free Funds: Relative carbon intensity (tonnes CO2 / $1M USD revenue)              float64\n",
            "Fossil Free Funds: Total financed emissions scope 1 + 2 (tCO2e)                          float64\n",
            "Fossil Free Funds: Total financed emissions scope 1 + 2 + 3 (tCO2e)                      float64\n",
            "Fossil Free Funds: Carbon footprint portfolio coverage by market value weight            float64\n",
            "Fossil Free Funds: Carbon footprint portfolio coverage by number of disclosing titles    float64\n",
            "Fossil Free Funds: Fossil fuel holdings, count                                             int64\n",
            "Fossil Free Funds: Fossil fuel holdings, weight                                          float64\n",
            "Deforestation Free Funds: Deforestation-risk producer, count                               int64\n",
            "Deforestation Free Funds: Deforestation-risk producer, weight                            float64\n",
            "Fund profile: Fund net assets                                                              int64\n",
            "Fund profile: Percent rated                                                              float64\n",
            "dtype: object\n"
          ]
        }
      ]
    },
    {
      "cell_type": "code",
      "source": [
        "del_cols = ['Fund profile: Shareclass type']\n",
        "features = features.drop(columns=del_cols, axis=1)\n"
      ],
      "metadata": {
        "id": "5K5VOaYEWcGT"
      },
      "execution_count": null,
      "outputs": []
    },
    {
      "cell_type": "code",
      "source": [
        "'Fossil Free Funds: Relative carbon footprint (tonnes CO2 / $1M USD invested)' in df_subset.columns\n",
        "'Fossil Free Funds: Relative carbon intensity (tonnes CO2 / $1M USD revenue)' in df_subset.columns"
      ],
      "metadata": {
        "colab": {
          "base_uri": "https://localhost:8080/"
        },
        "id": "gbJu5mywNo6_",
        "outputId": "dc7d3de9-ccdc-4b0e-a5f6-e00d33f8230c"
      },
      "execution_count": null,
      "outputs": [
        {
          "output_type": "execute_result",
          "data": {
            "text/plain": [
              "True"
            ]
          },
          "metadata": {},
          "execution_count": 209
        }
      ]
    },
    {
      "cell_type": "code",
      "source": [
        "target.head()"
      ],
      "metadata": {
        "colab": {
          "base_uri": "https://localhost:8080/"
        },
        "id": "qAzA5WD25PNc",
        "outputId": "e00891a6-d891-4bd8-e6e8-99c5ae2806c7"
      },
      "execution_count": null,
      "outputs": [
        {
          "output_type": "execute_result",
          "data": {
            "text/plain": [
              "0    56.19\n",
              "1    56.19\n",
              "2    56.19\n",
              "3    56.19\n",
              "4    59.52\n",
              "Name: Fossil Free Funds: Relative carbon footprint (tonnes CO2 / $1M USD invested), dtype: float64"
            ]
          },
          "metadata": {},
          "execution_count": 210
        }
      ]
    },
    {
      "cell_type": "code",
      "source": [],
      "metadata": {
        "id": "EzLRVAN3T1C7"
      },
      "execution_count": null,
      "outputs": []
    },
    {
      "cell_type": "markdown",
      "source": [
        "**SPLITTING DATASET**"
      ],
      "metadata": {
        "id": "t8KeNJzU6Reb"
      }
    },
    {
      "cell_type": "code",
      "source": [
        "# Split data into training and testing sets\n",
        "X_train, X_test, y_train, y_test = train_test_split(features, target, test_size=0.2, random_state=42)"
      ],
      "metadata": {
        "id": "bEpV9JYL6Q5J"
      },
      "execution_count": null,
      "outputs": []
    },
    {
      "cell_type": "markdown",
      "source": [
        "***TRAINING MODELS***"
      ],
      "metadata": {
        "id": "Hdo85boVjOkV"
      }
    },
    {
      "cell_type": "markdown",
      "source": [
        "LINEAR REGRESSION MODEL"
      ],
      "metadata": {
        "id": "7tBuHH5TjTCU"
      }
    },
    {
      "cell_type": "code",
      "source": [
        "from sklearn.linear_model import LinearRegression\n",
        "\n",
        "# Initialize and train Linear Regression model\n",
        "model = LinearRegression()\n",
        "model.fit(X_train, y_train)\n"
      ],
      "metadata": {
        "colab": {
          "base_uri": "https://localhost:8080/",
          "height": 75
        },
        "id": "r6ClT9Px76VS",
        "outputId": "d322cb16-3d0d-4cac-918f-45004d8ea587"
      },
      "execution_count": null,
      "outputs": [
        {
          "output_type": "execute_result",
          "data": {
            "text/plain": [
              "LinearRegression()"
            ],
            "text/html": [
              "<style>#sk-container-id-4 {color: black;background-color: white;}#sk-container-id-4 pre{padding: 0;}#sk-container-id-4 div.sk-toggleable {background-color: white;}#sk-container-id-4 label.sk-toggleable__label {cursor: pointer;display: block;width: 100%;margin-bottom: 0;padding: 0.3em;box-sizing: border-box;text-align: center;}#sk-container-id-4 label.sk-toggleable__label-arrow:before {content: \"▸\";float: left;margin-right: 0.25em;color: #696969;}#sk-container-id-4 label.sk-toggleable__label-arrow:hover:before {color: black;}#sk-container-id-4 div.sk-estimator:hover label.sk-toggleable__label-arrow:before {color: black;}#sk-container-id-4 div.sk-toggleable__content {max-height: 0;max-width: 0;overflow: hidden;text-align: left;background-color: #f0f8ff;}#sk-container-id-4 div.sk-toggleable__content pre {margin: 0.2em;color: black;border-radius: 0.25em;background-color: #f0f8ff;}#sk-container-id-4 input.sk-toggleable__control:checked~div.sk-toggleable__content {max-height: 200px;max-width: 100%;overflow: auto;}#sk-container-id-4 input.sk-toggleable__control:checked~label.sk-toggleable__label-arrow:before {content: \"▾\";}#sk-container-id-4 div.sk-estimator input.sk-toggleable__control:checked~label.sk-toggleable__label {background-color: #d4ebff;}#sk-container-id-4 div.sk-label input.sk-toggleable__control:checked~label.sk-toggleable__label {background-color: #d4ebff;}#sk-container-id-4 input.sk-hidden--visually {border: 0;clip: rect(1px 1px 1px 1px);clip: rect(1px, 1px, 1px, 1px);height: 1px;margin: -1px;overflow: hidden;padding: 0;position: absolute;width: 1px;}#sk-container-id-4 div.sk-estimator {font-family: monospace;background-color: #f0f8ff;border: 1px dotted black;border-radius: 0.25em;box-sizing: border-box;margin-bottom: 0.5em;}#sk-container-id-4 div.sk-estimator:hover {background-color: #d4ebff;}#sk-container-id-4 div.sk-parallel-item::after {content: \"\";width: 100%;border-bottom: 1px solid gray;flex-grow: 1;}#sk-container-id-4 div.sk-label:hover label.sk-toggleable__label {background-color: #d4ebff;}#sk-container-id-4 div.sk-serial::before {content: \"\";position: absolute;border-left: 1px solid gray;box-sizing: border-box;top: 0;bottom: 0;left: 50%;z-index: 0;}#sk-container-id-4 div.sk-serial {display: flex;flex-direction: column;align-items: center;background-color: white;padding-right: 0.2em;padding-left: 0.2em;position: relative;}#sk-container-id-4 div.sk-item {position: relative;z-index: 1;}#sk-container-id-4 div.sk-parallel {display: flex;align-items: stretch;justify-content: center;background-color: white;position: relative;}#sk-container-id-4 div.sk-item::before, #sk-container-id-4 div.sk-parallel-item::before {content: \"\";position: absolute;border-left: 1px solid gray;box-sizing: border-box;top: 0;bottom: 0;left: 50%;z-index: -1;}#sk-container-id-4 div.sk-parallel-item {display: flex;flex-direction: column;z-index: 1;position: relative;background-color: white;}#sk-container-id-4 div.sk-parallel-item:first-child::after {align-self: flex-end;width: 50%;}#sk-container-id-4 div.sk-parallel-item:last-child::after {align-self: flex-start;width: 50%;}#sk-container-id-4 div.sk-parallel-item:only-child::after {width: 0;}#sk-container-id-4 div.sk-dashed-wrapped {border: 1px dashed gray;margin: 0 0.4em 0.5em 0.4em;box-sizing: border-box;padding-bottom: 0.4em;background-color: white;}#sk-container-id-4 div.sk-label label {font-family: monospace;font-weight: bold;display: inline-block;line-height: 1.2em;}#sk-container-id-4 div.sk-label-container {text-align: center;}#sk-container-id-4 div.sk-container {/* jupyter's `normalize.less` sets `[hidden] { display: none; }` but bootstrap.min.css set `[hidden] { display: none !important; }` so we also need the `!important` here to be able to override the default hidden behavior on the sphinx rendered scikit-learn.org. See: https://github.com/scikit-learn/scikit-learn/issues/21755 */display: inline-block !important;position: relative;}#sk-container-id-4 div.sk-text-repr-fallback {display: none;}</style><div id=\"sk-container-id-4\" class=\"sk-top-container\"><div class=\"sk-text-repr-fallback\"><pre>LinearRegression()</pre><b>In a Jupyter environment, please rerun this cell to show the HTML representation or trust the notebook. <br />On GitHub, the HTML representation is unable to render, please try loading this page with nbviewer.org.</b></div><div class=\"sk-container\" hidden><div class=\"sk-item\"><div class=\"sk-estimator sk-toggleable\"><input class=\"sk-toggleable__control sk-hidden--visually\" id=\"sk-estimator-id-4\" type=\"checkbox\" checked><label for=\"sk-estimator-id-4\" class=\"sk-toggleable__label sk-toggleable__label-arrow\">LinearRegression</label><div class=\"sk-toggleable__content\"><pre>LinearRegression()</pre></div></div></div></div></div>"
            ]
          },
          "metadata": {},
          "execution_count": 212
        }
      ]
    },
    {
      "cell_type": "code",
      "source": [
        "from sklearn.metrics import mean_squared_error, r2_score\n",
        "\n",
        "# Make predictions on test set\n",
        "y_pred = model.predict(X_test)\n",
        "\n",
        "# Evaluate model performance\n",
        "mse = mean_squared_error(y_test, y_pred)\n",
        "r2 = r2_score(y_test, y_pred)\n",
        "print(f'Mean Squared Error: {mse}')\n",
        "print(f'R-squared: {r2}')\n"
      ],
      "metadata": {
        "colab": {
          "base_uri": "https://localhost:8080/"
        },
        "id": "Ct_QMpR4By2e",
        "outputId": "81cd4739-73c0-4a32-cd5a-32fcff1d8ccb"
      },
      "execution_count": null,
      "outputs": [
        {
          "output_type": "stream",
          "name": "stdout",
          "text": [
            "Mean Squared Error: 4544.854191530387\n",
            "R-squared: 0.7685474913724896\n"
          ]
        }
      ]
    },
    {
      "cell_type": "code",
      "source": [
        "from sklearn.metrics import mean_squared_error, r2_score\n",
        "\n",
        "# Make predictions on test set\n",
        "y_pred = model.predict(X_test)\n",
        "\n",
        "# Calculate R-squared (R2) score using model.score\n",
        "r2 = model.score(X_test, y_test)\n",
        "\n",
        "print(f'R-squared (R2) Score using model.score: {r2}')\n"
      ],
      "metadata": {
        "colab": {
          "base_uri": "https://localhost:8080/"
        },
        "id": "8v-8daK8B9ex",
        "outputId": "b2e0bd75-b341-461b-c3f9-5dd04208476d"
      },
      "execution_count": null,
      "outputs": [
        {
          "output_type": "stream",
          "name": "stdout",
          "text": [
            "R-squared (R2) Score using model.score: 0.7685474913724896\n"
          ]
        }
      ]
    },
    {
      "cell_type": "code",
      "source": [
        "features.shape"
      ],
      "metadata": {
        "colab": {
          "base_uri": "https://localhost:8080/"
        },
        "id": "qxlAp0sijo0O",
        "outputId": "8be974d0-ab93-441b-8784-a793ced3d6af"
      },
      "execution_count": null,
      "outputs": [
        {
          "output_type": "execute_result",
          "data": {
            "text/plain": [
              "(110505, 11)"
            ]
          },
          "metadata": {},
          "execution_count": 224
        }
      ]
    },
    {
      "cell_type": "markdown",
      "source": [
        "**Using Random Forest**"
      ],
      "metadata": {
        "id": "JqDtZZ2BEZNl"
      }
    },
    {
      "cell_type": "code",
      "source": [
        "from sklearn.ensemble import RandomForestRegressor\n",
        "# Initialize Random Forest Regressor with desired hyperparameters\n",
        "rf_model = RandomForestRegressor(n_estimators=100, random_state=42)\n",
        "\n",
        "# Train the model using the training data\n",
        "rf_model.fit(X_train, y_train)\n"
      ],
      "metadata": {
        "colab": {
          "base_uri": "https://localhost:8080/",
          "height": 75
        },
        "id": "dsYxJS4yEco8",
        "outputId": "8f9d341c-8d4b-4e90-a508-57dc19b9d7ed"
      },
      "execution_count": null,
      "outputs": [
        {
          "output_type": "execute_result",
          "data": {
            "text/plain": [
              "RandomForestRegressor(random_state=42)"
            ],
            "text/html": [
              "<style>#sk-container-id-5 {color: black;background-color: white;}#sk-container-id-5 pre{padding: 0;}#sk-container-id-5 div.sk-toggleable {background-color: white;}#sk-container-id-5 label.sk-toggleable__label {cursor: pointer;display: block;width: 100%;margin-bottom: 0;padding: 0.3em;box-sizing: border-box;text-align: center;}#sk-container-id-5 label.sk-toggleable__label-arrow:before {content: \"▸\";float: left;margin-right: 0.25em;color: #696969;}#sk-container-id-5 label.sk-toggleable__label-arrow:hover:before {color: black;}#sk-container-id-5 div.sk-estimator:hover label.sk-toggleable__label-arrow:before {color: black;}#sk-container-id-5 div.sk-toggleable__content {max-height: 0;max-width: 0;overflow: hidden;text-align: left;background-color: #f0f8ff;}#sk-container-id-5 div.sk-toggleable__content pre {margin: 0.2em;color: black;border-radius: 0.25em;background-color: #f0f8ff;}#sk-container-id-5 input.sk-toggleable__control:checked~div.sk-toggleable__content {max-height: 200px;max-width: 100%;overflow: auto;}#sk-container-id-5 input.sk-toggleable__control:checked~label.sk-toggleable__label-arrow:before {content: \"▾\";}#sk-container-id-5 div.sk-estimator input.sk-toggleable__control:checked~label.sk-toggleable__label {background-color: #d4ebff;}#sk-container-id-5 div.sk-label input.sk-toggleable__control:checked~label.sk-toggleable__label {background-color: #d4ebff;}#sk-container-id-5 input.sk-hidden--visually {border: 0;clip: rect(1px 1px 1px 1px);clip: rect(1px, 1px, 1px, 1px);height: 1px;margin: -1px;overflow: hidden;padding: 0;position: absolute;width: 1px;}#sk-container-id-5 div.sk-estimator {font-family: monospace;background-color: #f0f8ff;border: 1px dotted black;border-radius: 0.25em;box-sizing: border-box;margin-bottom: 0.5em;}#sk-container-id-5 div.sk-estimator:hover {background-color: #d4ebff;}#sk-container-id-5 div.sk-parallel-item::after {content: \"\";width: 100%;border-bottom: 1px solid gray;flex-grow: 1;}#sk-container-id-5 div.sk-label:hover label.sk-toggleable__label {background-color: #d4ebff;}#sk-container-id-5 div.sk-serial::before {content: \"\";position: absolute;border-left: 1px solid gray;box-sizing: border-box;top: 0;bottom: 0;left: 50%;z-index: 0;}#sk-container-id-5 div.sk-serial {display: flex;flex-direction: column;align-items: center;background-color: white;padding-right: 0.2em;padding-left: 0.2em;position: relative;}#sk-container-id-5 div.sk-item {position: relative;z-index: 1;}#sk-container-id-5 div.sk-parallel {display: flex;align-items: stretch;justify-content: center;background-color: white;position: relative;}#sk-container-id-5 div.sk-item::before, #sk-container-id-5 div.sk-parallel-item::before {content: \"\";position: absolute;border-left: 1px solid gray;box-sizing: border-box;top: 0;bottom: 0;left: 50%;z-index: -1;}#sk-container-id-5 div.sk-parallel-item {display: flex;flex-direction: column;z-index: 1;position: relative;background-color: white;}#sk-container-id-5 div.sk-parallel-item:first-child::after {align-self: flex-end;width: 50%;}#sk-container-id-5 div.sk-parallel-item:last-child::after {align-self: flex-start;width: 50%;}#sk-container-id-5 div.sk-parallel-item:only-child::after {width: 0;}#sk-container-id-5 div.sk-dashed-wrapped {border: 1px dashed gray;margin: 0 0.4em 0.5em 0.4em;box-sizing: border-box;padding-bottom: 0.4em;background-color: white;}#sk-container-id-5 div.sk-label label {font-family: monospace;font-weight: bold;display: inline-block;line-height: 1.2em;}#sk-container-id-5 div.sk-label-container {text-align: center;}#sk-container-id-5 div.sk-container {/* jupyter's `normalize.less` sets `[hidden] { display: none; }` but bootstrap.min.css set `[hidden] { display: none !important; }` so we also need the `!important` here to be able to override the default hidden behavior on the sphinx rendered scikit-learn.org. See: https://github.com/scikit-learn/scikit-learn/issues/21755 */display: inline-block !important;position: relative;}#sk-container-id-5 div.sk-text-repr-fallback {display: none;}</style><div id=\"sk-container-id-5\" class=\"sk-top-container\"><div class=\"sk-text-repr-fallback\"><pre>RandomForestRegressor(random_state=42)</pre><b>In a Jupyter environment, please rerun this cell to show the HTML representation or trust the notebook. <br />On GitHub, the HTML representation is unable to render, please try loading this page with nbviewer.org.</b></div><div class=\"sk-container\" hidden><div class=\"sk-item\"><div class=\"sk-estimator sk-toggleable\"><input class=\"sk-toggleable__control sk-hidden--visually\" id=\"sk-estimator-id-5\" type=\"checkbox\" checked><label for=\"sk-estimator-id-5\" class=\"sk-toggleable__label sk-toggleable__label-arrow\">RandomForestRegressor</label><div class=\"sk-toggleable__content\"><pre>RandomForestRegressor(random_state=42)</pre></div></div></div></div></div>"
            ]
          },
          "metadata": {},
          "execution_count": 216
        }
      ]
    },
    {
      "cell_type": "code",
      "source": [
        "# Make predictions on test set using the trained model\n",
        "rf_y_pred = rf_model.predict(X_test)\n",
        "\n",
        "# Calculate R-squared (R2) score for Random Forest model\n",
        "rf_r2 = rf_model.score(X_test, y_test)\n",
        "\n",
        "print(f'R-squared (R2) Score for Random Forest Model: {rf_r2}')\n"
      ],
      "metadata": {
        "colab": {
          "base_uri": "https://localhost:8080/"
        },
        "id": "_w4ZxWhTEiZl",
        "outputId": "bece001a-aa3d-4181-bfb5-d38dfb05d9b1"
      },
      "execution_count": null,
      "outputs": [
        {
          "output_type": "stream",
          "name": "stdout",
          "text": [
            "R-squared (R2) Score for Random Forest Model: 0.9922454533299528\n"
          ]
        }
      ]
    },
    {
      "cell_type": "markdown",
      "source": [
        "**Analysis of models**"
      ],
      "metadata": {
        "id": "U0CiVHJNZ3fs"
      }
    },
    {
      "cell_type": "markdown",
      "source": [
        "Linear Regression\n"
      ],
      "metadata": {
        "id": "slIjtVLon8i8"
      }
    },
    {
      "cell_type": "code",
      "source": [
        "import pandas as pd\n",
        "from sklearn.model_selection import train_test_split, cross_val_score\n",
        "from sklearn.linear_model import LinearRegression\n",
        "from sklearn.metrics import mean_squared_error, mean_absolute_error\n",
        "import numpy as np\n",
        "\n",
        "# Assuming 'features' and 'target' are your feature and target variables\n",
        "\n",
        "# Split the data into training and testing sets\n",
        "X_train, X_test, y_train, y_test = train_test_split(features, target, test_size=0.2, random_state=42)\n",
        "\n",
        "# Initialize and train Linear Regression model\n",
        "model = LinearRegression()\n",
        "model.fit(X_train, y_train)\n",
        "\n",
        "# Cross-validation\n",
        "cv_scores = cross_val_score(model, features, target, cv=5)  # 5-fold cross-validation\n",
        "print(\"Cross-Validation Scores:\", cv_scores)\n",
        "print(\"Mean Cross-Validation Score:\", np.mean(cv_scores))\n",
        "\n",
        "# Make predictions on the test set\n",
        "predictions = model.predict(X_test)\n",
        "\n",
        "# Calculate evaluation metrics\n",
        "mse = mean_squared_error(y_test, predictions)\n",
        "mae = mean_absolute_error(y_test, predictions)\n",
        "rmse = np.sqrt(mse)\n",
        "\n",
        "print(\"Mean Squared Error (MSE):\", mse)\n",
        "print(\"Mean Absolute Error (MAE):\", mae)\n",
        "print(\"Root Mean Squared Error (RMSE):\", rmse)\n"
      ],
      "metadata": {
        "id": "LphCq1JqJD-G",
        "colab": {
          "base_uri": "https://localhost:8080/"
        },
        "outputId": "59df5ec8-8ddd-4c60-bbff-a718d436061d"
      },
      "execution_count": null,
      "outputs": [
        {
          "output_type": "stream",
          "name": "stdout",
          "text": [
            "Cross-Validation Scores: [0.75335639 0.7641953  0.76511516 0.78857379 0.77647992]\n",
            "Mean Cross-Validation Score: 0.7695441120120703\n",
            "Mean Squared Error (MSE): 4544.854191530387\n",
            "Mean Absolute Error (MAE): 38.578335426459006\n",
            "Root Mean Squared Error (RMSE): 67.41553375543641\n"
          ]
        }
      ]
    },
    {
      "cell_type": "markdown",
      "source": [
        "Random forest"
      ],
      "metadata": {
        "id": "78qlYGTXn_xa"
      }
    },
    {
      "cell_type": "code",
      "source": [
        "from sklearn.ensemble import RandomForestRegressor\n",
        "\n",
        "# Assuming 'features' and 'target' are your feature and target variables\n",
        "\n",
        "# Split the data into training and testing sets\n",
        "X_train, X_test, y_train, y_test = train_test_split(features, target, test_size=0.2, random_state=42)\n",
        "\n",
        "# Initialize and train Random Forest model\n",
        "rf_model = RandomForestRegressor(n_estimators=100, random_state=42)  # Adjust hyperparameters as needed\n",
        "rf_model.fit(X_train, y_train)\n",
        "\n",
        "# Cross-validation\n",
        "# cv_scores_rf = cross_val_score(rf_model, features, target, cv=5)  # 5-fold cross-validation\n",
        "# print(\"Cross-Validation Scores (Random Forest):\", cv_scores_rf)\n",
        "# print(\"Mean Cross-Validation Score (Random Forest):\", np.mean(cv_scores_rf))\n",
        "\n",
        "# Make predictions on the test set\n",
        "predictions_rf = rf_model.predict(X_test)\n",
        "\n",
        "# Calculate evaluation metrics\n",
        "mse_rf = mean_squared_error(y_test, predictions_rf)\n",
        "mae_rf = mean_absolute_error(y_test, predictions_rf)\n",
        "rmse_rf = np.sqrt(mse_rf)\n",
        "\n",
        "print(\"Mean Squared Error (MSE) - Random Forest:\", mse_rf)\n",
        "print(\"Mean Absolute Error (MAE) - Random Forest:\", mae_rf)\n",
        "print(\"Root Mean Squared Error (RMSE) - Random Forest:\", rmse_rf)\n"
      ],
      "metadata": {
        "colab": {
          "base_uri": "https://localhost:8080/"
        },
        "id": "X5WhGNb4oBPO",
        "outputId": "5477d3c9-0c6e-4cde-d3d7-89651db48173"
      },
      "execution_count": null,
      "outputs": [
        {
          "output_type": "stream",
          "name": "stdout",
          "text": [
            "Mean Squared Error (MSE) - Random Forest: 152.2700451413163\n",
            "Mean Absolute Error (MAE) - Random Forest: 2.593131021220802\n",
            "Root Mean Squared Error (RMSE) - Random Forest: 12.339774922636\n"
          ]
        }
      ]
    },
    {
      "cell_type": "markdown",
      "source": [
        "**NN**"
      ],
      "metadata": {
        "id": "c3AYxQQ8Fa4x"
      }
    },
    {
      "cell_type": "code",
      "source": [
        "!pip install tensorflow\n"
      ],
      "metadata": {
        "id": "EHbny_WqJHVx",
        "colab": {
          "base_uri": "https://localhost:8080/"
        },
        "outputId": "c8ba026c-2083-418d-c697-4a9849ab8dc1"
      },
      "execution_count": null,
      "outputs": [
        {
          "output_type": "stream",
          "name": "stdout",
          "text": [
            "Requirement already satisfied: tensorflow in /usr/local/lib/python3.10/dist-packages (2.15.0)\n",
            "Requirement already satisfied: absl-py>=1.0.0 in /usr/local/lib/python3.10/dist-packages (from tensorflow) (1.4.0)\n",
            "Requirement already satisfied: astunparse>=1.6.0 in /usr/local/lib/python3.10/dist-packages (from tensorflow) (1.6.3)\n",
            "Requirement already satisfied: flatbuffers>=23.5.26 in /usr/local/lib/python3.10/dist-packages (from tensorflow) (24.3.25)\n",
            "Requirement already satisfied: gast!=0.5.0,!=0.5.1,!=0.5.2,>=0.2.1 in /usr/local/lib/python3.10/dist-packages (from tensorflow) (0.5.4)\n",
            "Requirement already satisfied: google-pasta>=0.1.1 in /usr/local/lib/python3.10/dist-packages (from tensorflow) (0.2.0)\n",
            "Requirement already satisfied: h5py>=2.9.0 in /usr/local/lib/python3.10/dist-packages (from tensorflow) (3.9.0)\n",
            "Requirement already satisfied: libclang>=13.0.0 in /usr/local/lib/python3.10/dist-packages (from tensorflow) (18.1.1)\n",
            "Requirement already satisfied: ml-dtypes~=0.2.0 in /usr/local/lib/python3.10/dist-packages (from tensorflow) (0.2.0)\n",
            "Requirement already satisfied: numpy<2.0.0,>=1.23.5 in /usr/local/lib/python3.10/dist-packages (from tensorflow) (1.25.2)\n",
            "Requirement already satisfied: opt-einsum>=2.3.2 in /usr/local/lib/python3.10/dist-packages (from tensorflow) (3.3.0)\n",
            "Requirement already satisfied: packaging in /usr/local/lib/python3.10/dist-packages (from tensorflow) (24.0)\n",
            "Requirement already satisfied: protobuf!=4.21.0,!=4.21.1,!=4.21.2,!=4.21.3,!=4.21.4,!=4.21.5,<5.0.0dev,>=3.20.3 in /usr/local/lib/python3.10/dist-packages (from tensorflow) (3.20.3)\n",
            "Requirement already satisfied: setuptools in /usr/local/lib/python3.10/dist-packages (from tensorflow) (67.7.2)\n",
            "Requirement already satisfied: six>=1.12.0 in /usr/local/lib/python3.10/dist-packages (from tensorflow) (1.16.0)\n",
            "Requirement already satisfied: termcolor>=1.1.0 in /usr/local/lib/python3.10/dist-packages (from tensorflow) (2.4.0)\n",
            "Requirement already satisfied: typing-extensions>=3.6.6 in /usr/local/lib/python3.10/dist-packages (from tensorflow) (4.10.0)\n",
            "Requirement already satisfied: wrapt<1.15,>=1.11.0 in /usr/local/lib/python3.10/dist-packages (from tensorflow) (1.14.1)\n",
            "Requirement already satisfied: tensorflow-io-gcs-filesystem>=0.23.1 in /usr/local/lib/python3.10/dist-packages (from tensorflow) (0.36.0)\n",
            "Requirement already satisfied: grpcio<2.0,>=1.24.3 in /usr/local/lib/python3.10/dist-packages (from tensorflow) (1.62.1)\n",
            "Requirement already satisfied: tensorboard<2.16,>=2.15 in /usr/local/lib/python3.10/dist-packages (from tensorflow) (2.15.2)\n",
            "Requirement already satisfied: tensorflow-estimator<2.16,>=2.15.0 in /usr/local/lib/python3.10/dist-packages (from tensorflow) (2.15.0)\n",
            "Requirement already satisfied: keras<2.16,>=2.15.0 in /usr/local/lib/python3.10/dist-packages (from tensorflow) (2.15.0)\n",
            "Requirement already satisfied: wheel<1.0,>=0.23.0 in /usr/local/lib/python3.10/dist-packages (from astunparse>=1.6.0->tensorflow) (0.43.0)\n",
            "Requirement already satisfied: google-auth<3,>=1.6.3 in /usr/local/lib/python3.10/dist-packages (from tensorboard<2.16,>=2.15->tensorflow) (2.27.0)\n",
            "Requirement already satisfied: google-auth-oauthlib<2,>=0.5 in /usr/local/lib/python3.10/dist-packages (from tensorboard<2.16,>=2.15->tensorflow) (1.2.0)\n",
            "Requirement already satisfied: markdown>=2.6.8 in /usr/local/lib/python3.10/dist-packages (from tensorboard<2.16,>=2.15->tensorflow) (3.6)\n",
            "Requirement already satisfied: requests<3,>=2.21.0 in /usr/local/lib/python3.10/dist-packages (from tensorboard<2.16,>=2.15->tensorflow) (2.31.0)\n",
            "Requirement already satisfied: tensorboard-data-server<0.8.0,>=0.7.0 in /usr/local/lib/python3.10/dist-packages (from tensorboard<2.16,>=2.15->tensorflow) (0.7.2)\n",
            "Requirement already satisfied: werkzeug>=1.0.1 in /usr/local/lib/python3.10/dist-packages (from tensorboard<2.16,>=2.15->tensorflow) (3.0.1)\n",
            "Requirement already satisfied: cachetools<6.0,>=2.0.0 in /usr/local/lib/python3.10/dist-packages (from google-auth<3,>=1.6.3->tensorboard<2.16,>=2.15->tensorflow) (5.3.3)\n",
            "Requirement already satisfied: pyasn1-modules>=0.2.1 in /usr/local/lib/python3.10/dist-packages (from google-auth<3,>=1.6.3->tensorboard<2.16,>=2.15->tensorflow) (0.4.0)\n",
            "Requirement already satisfied: rsa<5,>=3.1.4 in /usr/local/lib/python3.10/dist-packages (from google-auth<3,>=1.6.3->tensorboard<2.16,>=2.15->tensorflow) (4.9)\n",
            "Requirement already satisfied: requests-oauthlib>=0.7.0 in /usr/local/lib/python3.10/dist-packages (from google-auth-oauthlib<2,>=0.5->tensorboard<2.16,>=2.15->tensorflow) (1.4.1)\n",
            "Requirement already satisfied: charset-normalizer<4,>=2 in /usr/local/lib/python3.10/dist-packages (from requests<3,>=2.21.0->tensorboard<2.16,>=2.15->tensorflow) (3.3.2)\n",
            "Requirement already satisfied: idna<4,>=2.5 in /usr/local/lib/python3.10/dist-packages (from requests<3,>=2.21.0->tensorboard<2.16,>=2.15->tensorflow) (3.6)\n",
            "Requirement already satisfied: urllib3<3,>=1.21.1 in /usr/local/lib/python3.10/dist-packages (from requests<3,>=2.21.0->tensorboard<2.16,>=2.15->tensorflow) (2.0.7)\n",
            "Requirement already satisfied: certifi>=2017.4.17 in /usr/local/lib/python3.10/dist-packages (from requests<3,>=2.21.0->tensorboard<2.16,>=2.15->tensorflow) (2024.2.2)\n",
            "Requirement already satisfied: MarkupSafe>=2.1.1 in /usr/local/lib/python3.10/dist-packages (from werkzeug>=1.0.1->tensorboard<2.16,>=2.15->tensorflow) (2.1.5)\n",
            "Requirement already satisfied: pyasn1<0.7.0,>=0.4.6 in /usr/local/lib/python3.10/dist-packages (from pyasn1-modules>=0.2.1->google-auth<3,>=1.6.3->tensorboard<2.16,>=2.15->tensorflow) (0.6.0)\n",
            "Requirement already satisfied: oauthlib>=3.0.0 in /usr/local/lib/python3.10/dist-packages (from requests-oauthlib>=0.7.0->google-auth-oauthlib<2,>=0.5->tensorboard<2.16,>=2.15->tensorflow) (3.2.2)\n"
          ]
        }
      ]
    },
    {
      "cell_type": "code",
      "source": [
        "import pandas as pd\n",
        "import numpy as np\n",
        "from sklearn.model_selection import train_test_split\n",
        "from sklearn.preprocessing import StandardScaler\n",
        "from tensorflow import keras\n",
        "from tensorflow.keras import layers\n",
        "from sklearn.metrics import mean_squared_error, mean_absolute_error\n",
        "\n",
        "# Load your dataset and preprocess if needed\n",
        "# Assuming 'features' and 'target' are your feature and target variables\n",
        "\n",
        "# Split the data into training and testing sets\n",
        "X_train, X_test, y_train, y_test = train_test_split(features, target, test_size=0.2, random_state=42)\n",
        "\n",
        "# Standardize the features (optional but recommended for neural networks)\n",
        "scaler = StandardScaler()\n",
        "X_train_scaled = scaler.fit_transform(X_train)\n",
        "X_test_scaled = scaler.transform(X_test)\n",
        "\n",
        "# Define the neural network model\n",
        "model = keras.Sequential([\n",
        "    layers.Dense(64, activation='relu', input_shape=[X_train_scaled.shape[1]]),\n",
        "    layers.Dense(32, activation='relu'),\n",
        "    layers.Dense(1)  # Output layer with 1 neuron for regression task\n",
        "])\n",
        "\n",
        "# Compile the model\n",
        "model.compile(optimizer='adam', loss='mean_squared_error')\n",
        "\n",
        "# Train the model\n",
        "history = model.fit(X_train_scaled, y_train, epochs=100, batch_size=32, validation_split=0.2, verbose=1)\n",
        "\n",
        "# Evaluate the model on test data\n",
        "predictions = model.predict(X_test_scaled)\n",
        "\n",
        "# Calculate evaluation metrics\n",
        "mse_nn = mean_squared_error(y_test, predictions)\n",
        "mae_nn = mean_absolute_error(y_test, predictions)\n",
        "rmse_nn = np.sqrt(mse_nn)\n",
        "\n",
        "print(\"Mean Squared Error (MSE) - Neural Network:\", mse_nn)\n",
        "print(\"Mean Absolute Error (MAE) - Neural Network:\", mae_nn)\n",
        "print(\"Root Mean Squared Error (RMSE) - Neural Network:\", rmse_nn)\n"
      ],
      "metadata": {
        "id": "R8kNxxiwMH2h",
        "colab": {
          "base_uri": "https://localhost:8080/"
        },
        "outputId": "78c44c88-fb41-4c2c-ccbe-6e6f9c238c96"
      },
      "execution_count": null,
      "outputs": [
        {
          "output_type": "stream",
          "name": "stdout",
          "text": [
            "Epoch 1/100\n",
            "2211/2211 [==============================] - 8s 3ms/step - loss: 7248.8228 - val_loss: 4007.5398\n",
            "Epoch 2/100\n",
            "2211/2211 [==============================] - 10s 5ms/step - loss: 3641.3267 - val_loss: 3645.2661\n",
            "Epoch 3/100\n",
            "2211/2211 [==============================] - 14s 6ms/step - loss: 3470.8152 - val_loss: 3558.9319\n",
            "Epoch 4/100\n",
            "2211/2211 [==============================] - 10s 4ms/step - loss: 3366.9543 - val_loss: 3426.1782\n",
            "Epoch 5/100\n",
            "2211/2211 [==============================] - 5s 2ms/step - loss: 3284.2649 - val_loss: 3338.7349\n",
            "Epoch 6/100\n",
            "2211/2211 [==============================] - 6s 3ms/step - loss: 3214.9604 - val_loss: 3294.6719\n",
            "Epoch 7/100\n",
            "2211/2211 [==============================] - 5s 2ms/step - loss: 3148.6069 - val_loss: 3304.0950\n",
            "Epoch 8/100\n",
            "2211/2211 [==============================] - 6s 3ms/step - loss: 3096.2317 - val_loss: 3173.8403\n",
            "Epoch 9/100\n",
            "2211/2211 [==============================] - 7s 3ms/step - loss: 3048.1631 - val_loss: 3089.9314\n",
            "Epoch 10/100\n",
            "2211/2211 [==============================] - 5s 2ms/step - loss: 2996.1494 - val_loss: 3061.1565\n",
            "Epoch 11/100\n",
            "2211/2211 [==============================] - 6s 3ms/step - loss: 2941.0671 - val_loss: 3033.4250\n",
            "Epoch 12/100\n",
            "2211/2211 [==============================] - 6s 2ms/step - loss: 2895.1079 - val_loss: 2992.4910\n",
            "Epoch 13/100\n",
            "2211/2211 [==============================] - 6s 3ms/step - loss: 2846.6282 - val_loss: 2933.8262\n",
            "Epoch 14/100\n",
            "2211/2211 [==============================] - 5s 2ms/step - loss: 2804.9512 - val_loss: 2908.1416\n",
            "Epoch 15/100\n",
            "2211/2211 [==============================] - 5s 2ms/step - loss: 2749.1794 - val_loss: 2866.6523\n",
            "Epoch 16/100\n",
            "2211/2211 [==============================] - 6s 3ms/step - loss: 2691.6389 - val_loss: 2793.5107\n",
            "Epoch 17/100\n",
            "2211/2211 [==============================] - 5s 2ms/step - loss: 2638.3538 - val_loss: 2762.8499\n",
            "Epoch 18/100\n",
            "2211/2211 [==============================] - 6s 3ms/step - loss: 2587.4734 - val_loss: 2782.2039\n",
            "Epoch 19/100\n",
            "2211/2211 [==============================] - 6s 3ms/step - loss: 2541.5571 - val_loss: 2673.2661\n",
            "Epoch 20/100\n",
            "2211/2211 [==============================] - 5s 2ms/step - loss: 2489.1003 - val_loss: 2669.0159\n",
            "Epoch 21/100\n",
            "2211/2211 [==============================] - 7s 3ms/step - loss: 2443.8196 - val_loss: 2618.2976\n",
            "Epoch 22/100\n",
            "2211/2211 [==============================] - 5s 2ms/step - loss: 2396.6545 - val_loss: 2534.2556\n",
            "Epoch 23/100\n",
            "2211/2211 [==============================] - 7s 3ms/step - loss: 2347.7412 - val_loss: 2507.5012\n",
            "Epoch 24/100\n",
            "2211/2211 [==============================] - 5s 2ms/step - loss: 2312.9180 - val_loss: 2461.2312\n",
            "Epoch 25/100\n",
            "2211/2211 [==============================] - 5s 2ms/step - loss: 2260.4255 - val_loss: 2441.2104\n",
            "Epoch 26/100\n",
            "2211/2211 [==============================] - 7s 3ms/step - loss: 2228.9719 - val_loss: 2433.8062\n",
            "Epoch 27/100\n",
            "2211/2211 [==============================] - 5s 2ms/step - loss: 2187.9390 - val_loss: 2361.5342\n",
            "Epoch 28/100\n",
            "2211/2211 [==============================] - 6s 3ms/step - loss: 2150.0320 - val_loss: 2362.5098\n",
            "Epoch 29/100\n",
            "2211/2211 [==============================] - 5s 2ms/step - loss: 2113.1836 - val_loss: 2307.9446\n",
            "Epoch 30/100\n",
            "2211/2211 [==============================] - 5s 2ms/step - loss: 2078.4231 - val_loss: 2255.6917\n",
            "Epoch 31/100\n",
            "2211/2211 [==============================] - 7s 3ms/step - loss: 2047.8459 - val_loss: 2216.3335\n",
            "Epoch 32/100\n",
            "2211/2211 [==============================] - 5s 2ms/step - loss: 2003.9915 - val_loss: 2191.2595\n",
            "Epoch 33/100\n",
            "2211/2211 [==============================] - 6s 3ms/step - loss: 1980.3649 - val_loss: 2187.5518\n",
            "Epoch 34/100\n",
            "2211/2211 [==============================] - 5s 2ms/step - loss: 1954.3450 - val_loss: 2143.7764\n",
            "Epoch 35/100\n",
            "2211/2211 [==============================] - 5s 2ms/step - loss: 1925.1475 - val_loss: 2118.6001\n",
            "Epoch 36/100\n",
            "2211/2211 [==============================] - 7s 3ms/step - loss: 1913.9398 - val_loss: 2128.4983\n",
            "Epoch 37/100\n",
            "2211/2211 [==============================] - 5s 2ms/step - loss: 1889.6588 - val_loss: 2039.7391\n",
            "Epoch 38/100\n",
            "2211/2211 [==============================] - 5s 2ms/step - loss: 1861.9994 - val_loss: 2079.8396\n",
            "Epoch 39/100\n",
            "2211/2211 [==============================] - 6s 3ms/step - loss: 1837.1844 - val_loss: 2067.5127\n",
            "Epoch 40/100\n",
            "2211/2211 [==============================] - 5s 2ms/step - loss: 1827.1261 - val_loss: 1999.5358\n",
            "Epoch 41/100\n",
            "2211/2211 [==============================] - 6s 3ms/step - loss: 1801.6788 - val_loss: 2024.1500\n",
            "Epoch 42/100\n",
            "2211/2211 [==============================] - 5s 2ms/step - loss: 1781.4791 - val_loss: 1921.1215\n",
            "Epoch 43/100\n",
            "2211/2211 [==============================] - 5s 2ms/step - loss: 1763.1147 - val_loss: 1959.8046\n",
            "Epoch 44/100\n",
            "2211/2211 [==============================] - 6s 3ms/step - loss: 1759.9540 - val_loss: 1908.3656\n",
            "Epoch 45/100\n",
            "2211/2211 [==============================] - 5s 2ms/step - loss: 1738.5255 - val_loss: 1968.2288\n",
            "Epoch 46/100\n",
            "2211/2211 [==============================] - 6s 3ms/step - loss: 1730.0526 - val_loss: 1890.1381\n",
            "Epoch 47/100\n",
            "2211/2211 [==============================] - 5s 2ms/step - loss: 1706.8860 - val_loss: 1852.6757\n",
            "Epoch 48/100\n",
            "2211/2211 [==============================] - 5s 2ms/step - loss: 1693.2726 - val_loss: 1863.2946\n",
            "Epoch 49/100\n",
            "2211/2211 [==============================] - 7s 3ms/step - loss: 1683.3523 - val_loss: 1815.4441\n",
            "Epoch 50/100\n",
            "2211/2211 [==============================] - 5s 2ms/step - loss: 1676.8417 - val_loss: 1821.8931\n",
            "Epoch 51/100\n",
            "2211/2211 [==============================] - 7s 3ms/step - loss: 1661.2229 - val_loss: 1820.5706\n",
            "Epoch 52/100\n",
            "2211/2211 [==============================] - 5s 2ms/step - loss: 1656.2678 - val_loss: 1826.9823\n",
            "Epoch 53/100\n",
            "2211/2211 [==============================] - 6s 2ms/step - loss: 1633.8129 - val_loss: 1837.3777\n",
            "Epoch 54/100\n",
            "2211/2211 [==============================] - 6s 3ms/step - loss: 1631.9274 - val_loss: 1763.8829\n",
            "Epoch 55/100\n",
            "2211/2211 [==============================] - 5s 2ms/step - loss: 1628.2346 - val_loss: 1799.2382\n",
            "Epoch 56/100\n",
            "2211/2211 [==============================] - 6s 3ms/step - loss: 1619.1219 - val_loss: 1711.8781\n",
            "Epoch 57/100\n",
            "2211/2211 [==============================] - 5s 2ms/step - loss: 1599.7515 - val_loss: 1759.5707\n",
            "Epoch 58/100\n",
            "2211/2211 [==============================] - 5s 2ms/step - loss: 1605.2540 - val_loss: 1802.5767\n",
            "Epoch 59/100\n",
            "2211/2211 [==============================] - 6s 3ms/step - loss: 1579.8422 - val_loss: 1715.4639\n",
            "Epoch 60/100\n",
            "2211/2211 [==============================] - 5s 2ms/step - loss: 1571.1384 - val_loss: 1759.8528\n",
            "Epoch 61/100\n",
            "2211/2211 [==============================] - 7s 3ms/step - loss: 1567.6813 - val_loss: 1866.2460\n",
            "Epoch 62/100\n",
            "2211/2211 [==============================] - 5s 2ms/step - loss: 1558.9603 - val_loss: 1764.1519\n",
            "Epoch 63/100\n",
            "2211/2211 [==============================] - 5s 2ms/step - loss: 1540.2366 - val_loss: 1698.7533\n",
            "Epoch 64/100\n",
            "2211/2211 [==============================] - 6s 3ms/step - loss: 1534.8245 - val_loss: 1655.7844\n",
            "Epoch 65/100\n",
            "2211/2211 [==============================] - 5s 2ms/step - loss: 1530.0686 - val_loss: 1671.8820\n",
            "Epoch 66/100\n",
            "2211/2211 [==============================] - 6s 3ms/step - loss: 1526.2977 - val_loss: 1718.1038\n",
            "Epoch 67/100\n",
            "2211/2211 [==============================] - 5s 2ms/step - loss: 1522.7156 - val_loss: 1674.4951\n",
            "Epoch 68/100\n",
            "2211/2211 [==============================] - 5s 2ms/step - loss: 1511.6631 - val_loss: 1709.5063\n",
            "Epoch 69/100\n",
            "2211/2211 [==============================] - 6s 3ms/step - loss: 1508.1542 - val_loss: 1604.6809\n",
            "Epoch 70/100\n",
            "2211/2211 [==============================] - 5s 2ms/step - loss: 1498.5649 - val_loss: 1638.1489\n",
            "Epoch 71/100\n",
            "2211/2211 [==============================] - 6s 3ms/step - loss: 1496.0702 - val_loss: 1676.8660\n",
            "Epoch 72/100\n",
            "2211/2211 [==============================] - 5s 2ms/step - loss: 1481.3257 - val_loss: 1618.6317\n",
            "Epoch 73/100\n",
            "2211/2211 [==============================] - 5s 2ms/step - loss: 1473.9564 - val_loss: 1590.2285\n",
            "Epoch 74/100\n",
            "2211/2211 [==============================] - 7s 3ms/step - loss: 1464.1582 - val_loss: 1581.5088\n",
            "Epoch 75/100\n",
            "2211/2211 [==============================] - 14s 6ms/step - loss: 1467.3402 - val_loss: 1692.6313\n",
            "Epoch 76/100\n",
            "2211/2211 [==============================] - 9s 4ms/step - loss: 1455.2640 - val_loss: 1592.3743\n",
            "Epoch 77/100\n",
            "2211/2211 [==============================] - 6s 3ms/step - loss: 1433.4218 - val_loss: 1654.4230\n",
            "Epoch 78/100\n",
            "2211/2211 [==============================] - 5s 2ms/step - loss: 1431.3322 - val_loss: 1630.7798\n",
            "Epoch 79/100\n",
            "2211/2211 [==============================] - 5s 2ms/step - loss: 1431.5028 - val_loss: 1583.0686\n",
            "Epoch 80/100\n",
            "2211/2211 [==============================] - 6s 3ms/step - loss: 1420.0664 - val_loss: 1694.1379\n",
            "Epoch 81/100\n",
            "2211/2211 [==============================] - 5s 2ms/step - loss: 1425.8629 - val_loss: 1577.8799\n",
            "Epoch 82/100\n",
            "2211/2211 [==============================] - 7s 3ms/step - loss: 1407.3904 - val_loss: 1523.4486\n",
            "Epoch 83/100\n",
            "2211/2211 [==============================] - 5s 2ms/step - loss: 1394.1847 - val_loss: 1665.9814\n",
            "Epoch 84/100\n",
            "2211/2211 [==============================] - 6s 3ms/step - loss: 1392.6541 - val_loss: 1512.4906\n",
            "Epoch 85/100\n",
            "2211/2211 [==============================] - 5s 2ms/step - loss: 1373.0164 - val_loss: 1550.8647\n",
            "Epoch 86/100\n",
            "2211/2211 [==============================] - 5s 2ms/step - loss: 1381.9548 - val_loss: 1461.6334\n",
            "Epoch 87/100\n",
            "2211/2211 [==============================] - 6s 3ms/step - loss: 1378.4166 - val_loss: 1456.3247\n",
            "Epoch 88/100\n",
            "2211/2211 [==============================] - 5s 2ms/step - loss: 1377.7850 - val_loss: 1462.9055\n",
            "Epoch 89/100\n",
            "2211/2211 [==============================] - 5s 2ms/step - loss: 1369.1621 - val_loss: 1478.5175\n",
            "Epoch 90/100\n",
            "2211/2211 [==============================] - 5s 2ms/step - loss: 1357.3831 - val_loss: 1550.4854\n",
            "Epoch 91/100\n",
            "2211/2211 [==============================] - 5s 2ms/step - loss: 1347.4250 - val_loss: 1481.2197\n",
            "Epoch 92/100\n",
            "2211/2211 [==============================] - 7s 3ms/step - loss: 1343.2913 - val_loss: 1516.1641\n",
            "Epoch 93/100\n",
            "2211/2211 [==============================] - 5s 2ms/step - loss: 1341.5116 - val_loss: 1449.4891\n",
            "Epoch 94/100\n",
            "2211/2211 [==============================] - 6s 3ms/step - loss: 1341.6675 - val_loss: 1452.0282\n",
            "Epoch 95/100\n",
            "2211/2211 [==============================] - 6s 3ms/step - loss: 1324.8059 - val_loss: 1507.2155\n",
            "Epoch 96/100\n",
            "2211/2211 [==============================] - 5s 2ms/step - loss: 1324.2965 - val_loss: 1545.2161\n",
            "Epoch 97/100\n",
            "2211/2211 [==============================] - 7s 3ms/step - loss: 1321.4604 - val_loss: 1653.2727\n",
            "Epoch 98/100\n",
            "2211/2211 [==============================] - 5s 2ms/step - loss: 1312.7211 - val_loss: 1449.4679\n",
            "Epoch 99/100\n",
            "2211/2211 [==============================] - 6s 3ms/step - loss: 1320.4326 - val_loss: 1514.3463\n",
            "Epoch 100/100\n",
            "2211/2211 [==============================] - 6s 2ms/step - loss: 1304.2006 - val_loss: 1436.6226\n",
            "691/691 [==============================] - 1s 1ms/step\n",
            "Mean Squared Error (MSE) - Neural Network: 1371.874360534548\n",
            "Mean Absolute Error (MAE) - Neural Network: 19.344496124905756\n",
            "Root Mean Squared Error (RMSE) - Neural Network: 37.03882234270615\n"
          ]
        }
      ]
    }
  ]
}