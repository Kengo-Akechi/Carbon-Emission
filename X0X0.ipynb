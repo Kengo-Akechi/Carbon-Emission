{
  "nbformat": 4,
  "nbformat_minor": 0,
  "metadata": {
    "colab": {
      "provenance": [],
      "authorship_tag": "ABX9TyOE2J7yiSXgd3cu6iJozwo+",
      "include_colab_link": true
    },
    "kernelspec": {
      "name": "python3",
      "display_name": "Python 3"
    },
    "language_info": {
      "name": "python"
    }
  },
  "cells": [
    {
      "cell_type": "markdown",
      "metadata": {
        "id": "view-in-github",
        "colab_type": "text"
      },
      "source": [
        "<a href=\"https://colab.research.google.com/github/Kengo-Akechi/Carbon-Emission/blob/main/X0X0.ipynb\" target=\"_parent\"><img src=\"https://colab.research.google.com/assets/colab-badge.svg\" alt=\"Open In Colab\"/></a>"
      ]
    },
    {
      "cell_type": "markdown",
      "source": [
        "**Uploading the Dataset**"
      ],
      "metadata": {
        "id": "5tRpNPX97-WR"
      }
    },
    {
      "cell_type": "code",
      "source": [
        "from google.colab import drive\n",
        "drive.mount('/content/drive')\n"
      ],
      "metadata": {
        "colab": {
          "base_uri": "https://localhost:8080/"
        },
        "id": "HxR_4-VKMmUP",
        "outputId": "f46b725e-c757-4463-978c-d0286cb30034"
      },
      "execution_count": null,
      "outputs": [
        {
          "output_type": "stream",
          "name": "stdout",
          "text": [
            "Drive already mounted at /content/drive; to attempt to forcibly remount, call drive.mount(\"/content/drive\", force_remount=True).\n"
          ]
        }
      ]
    },
    {
      "cell_type": "code",
      "source": [
        "import pandas as pd\n",
        "file_path = '/content/drive/MyDrive/fossilfund_dataset.csv'\n",
        "df = pd.read_csv(file_path)\n"
      ],
      "metadata": {
        "id": "MOLhuHhyJF33"
      },
      "execution_count": null,
      "outputs": []
    },
    {
      "cell_type": "code",
      "execution_count": null,
      "metadata": {
        "colab": {
          "base_uri": "https://localhost:8080/",
          "height": 707
        },
        "id": "xrAT43HZ6r_e",
        "outputId": "ca583c50-5c54-4837-dc8d-d17c1ecd73ae"
      },
      "outputs": [
        {
          "output_type": "execute_result",
          "data": {
            "text/plain": [
              "  Fund profile: Shareclass name Fund profile: Ticker  \\\n",
              "0       1290 SmartBeta Equity A                TNBRX   \n",
              "1       1290 SmartBeta Equity I                TNBRX   \n",
              "2       1290 SmartBeta Equity R                TNBRX   \n",
              "3       1290 SmartBeta Equity T                TNBRX   \n",
              "4                13D Activist A                DDDCX   \n",
              "\n",
              "      Fund profile: Fund name Fund profile: Asset manager  \\\n",
              "0  1290 SmartBeta Equity Fund                  1290 Funds   \n",
              "1  1290 SmartBeta Equity Fund                  1290 Funds   \n",
              "2  1290 SmartBeta Equity Fund                  1290 Funds   \n",
              "3  1290 SmartBeta Equity Fund                  1290 Funds   \n",
              "4           13D Activist Fund           13D Activist Fund   \n",
              "\n",
              "  Fund profile: Shareclass type Fund profile: Shareclass inception date  \\\n",
              "0          Open-end mutual fund                              2014-11-12   \n",
              "1          Open-end mutual fund                              2014-11-12   \n",
              "2          Open-end mutual fund                              2014-11-12   \n",
              "3          Open-end mutual fund                              2014-11-12   \n",
              "4          Open-end mutual fund                              2011-12-28   \n",
              "\n",
              "  Fund profile: Category group Fund profile: Sustainability mandate  \\\n",
              "0   International Equity Funds                                    Y   \n",
              "1   International Equity Funds                                    Y   \n",
              "2   International Equity Funds                                    Y   \n",
              "3   International Equity Funds                                    Y   \n",
              "4             U.S. Equity Fund                                    Y   \n",
              "\n",
              "  Fund profile: US-SIF member Fund profile: Oldest shareclass inception date  \\\n",
              "0                         NaN                                     2014-11-12   \n",
              "1                         NaN                                     2014-11-12   \n",
              "2                         NaN                                     2014-11-12   \n",
              "3                         NaN                                     2014-11-12   \n",
              "4                         NaN                                     2011-12-28   \n",
              "\n",
              "   ... Prison Free Funds: Border industry, higher risk, weight  \\\n",
              "0  ...                                                NaN        \n",
              "1  ...                                                NaN        \n",
              "2  ...                                                NaN        \n",
              "3  ...                                                NaN        \n",
              "4  ...                                                NaN        \n",
              "\n",
              "  Prison Free Funds: Border industry, higher risk, asset  \\\n",
              "0                                                NaN       \n",
              "1                                                NaN       \n",
              "2                                                NaN       \n",
              "3                                                NaN       \n",
              "4                                                NaN       \n",
              "\n",
              "   Prison Free Funds: Private prison operators, count  \\\n",
              "0                                                NaN    \n",
              "1                                                NaN    \n",
              "2                                                NaN    \n",
              "3                                                NaN    \n",
              "4                                                NaN    \n",
              "\n",
              "   Prison Free Funds: Private prison operators, weight  \\\n",
              "0                                                NaN     \n",
              "1                                                NaN     \n",
              "2                                                NaN     \n",
              "3                                                NaN     \n",
              "4                                                NaN     \n",
              "\n",
              "  Prison Free Funds: Private prison operators, asset  \\\n",
              "0                                                NaN   \n",
              "1                                                NaN   \n",
              "2                                                NaN   \n",
              "3                                                NaN   \n",
              "4                                                NaN   \n",
              "\n",
              "   Gender Equality Funds: Gender equality score - Overall score (out of 100 points)  \\\n",
              "0                                                NaN                                  \n",
              "1                                                NaN                                  \n",
              "2                                                NaN                                  \n",
              "3                                                NaN                                  \n",
              "4                                                NaN                                  \n",
              "\n",
              "   Gender Equality Funds: Gender equality score - Gender balance in leadership and workforce (out of 40 points)  \\\n",
              "0                                                NaN                                                              \n",
              "1                                                NaN                                                              \n",
              "2                                                NaN                                                              \n",
              "3                                                NaN                                                              \n",
              "4                                                NaN                                                              \n",
              "\n",
              "   Gender Equality Funds: Gender equality score - Equal compensation and work life balance (out of 30 points)  \\\n",
              "0                                                NaN                                                            \n",
              "1                                                NaN                                                            \n",
              "2                                                NaN                                                            \n",
              "3                                                NaN                                                            \n",
              "4                                                NaN                                                            \n",
              "\n",
              "   Gender Equality Funds: Gender equality score - Policies promoting gender equality (out of 20 points)  \\\n",
              "0                                                NaN                                                      \n",
              "1                                                NaN                                                      \n",
              "2                                                NaN                                                      \n",
              "3                                                NaN                                                      \n",
              "4                                                NaN                                                      \n",
              "\n",
              "   Gender Equality Funds: Gender equality score - Commitment, transparency, and accountability (out of 10 points)  \n",
              "0                                                NaN                                                               \n",
              "1                                                NaN                                                               \n",
              "2                                                NaN                                                               \n",
              "3                                                NaN                                                               \n",
              "4                                                NaN                                                               \n",
              "\n",
              "[5 rows x 121 columns]"
            ],
            "text/html": [
              "\n",
              "  <div id=\"df-d6c14445-20ba-414f-bca9-28dbab442a43\" class=\"colab-df-container\">\n",
              "    <div>\n",
              "<style scoped>\n",
              "    .dataframe tbody tr th:only-of-type {\n",
              "        vertical-align: middle;\n",
              "    }\n",
              "\n",
              "    .dataframe tbody tr th {\n",
              "        vertical-align: top;\n",
              "    }\n",
              "\n",
              "    .dataframe thead th {\n",
              "        text-align: right;\n",
              "    }\n",
              "</style>\n",
              "<table border=\"1\" class=\"dataframe\">\n",
              "  <thead>\n",
              "    <tr style=\"text-align: right;\">\n",
              "      <th></th>\n",
              "      <th>Fund profile: Shareclass name</th>\n",
              "      <th>Fund profile: Ticker</th>\n",
              "      <th>Fund profile: Fund name</th>\n",
              "      <th>Fund profile: Asset manager</th>\n",
              "      <th>Fund profile: Shareclass type</th>\n",
              "      <th>Fund profile: Shareclass inception date</th>\n",
              "      <th>Fund profile: Category group</th>\n",
              "      <th>Fund profile: Sustainability mandate</th>\n",
              "      <th>Fund profile: US-SIF member</th>\n",
              "      <th>Fund profile: Oldest shareclass inception date</th>\n",
              "      <th>...</th>\n",
              "      <th>Prison Free Funds: Border industry, higher risk, weight</th>\n",
              "      <th>Prison Free Funds: Border industry, higher risk, asset</th>\n",
              "      <th>Prison Free Funds: Private prison operators, count</th>\n",
              "      <th>Prison Free Funds: Private prison operators, weight</th>\n",
              "      <th>Prison Free Funds: Private prison operators, asset</th>\n",
              "      <th>Gender Equality Funds: Gender equality score - Overall score (out of 100 points)</th>\n",
              "      <th>Gender Equality Funds: Gender equality score - Gender balance in leadership and workforce (out of 40 points)</th>\n",
              "      <th>Gender Equality Funds: Gender equality score - Equal compensation and work life balance (out of 30 points)</th>\n",
              "      <th>Gender Equality Funds: Gender equality score - Policies promoting gender equality (out of 20 points)</th>\n",
              "      <th>Gender Equality Funds: Gender equality score - Commitment, transparency, and accountability (out of 10 points)</th>\n",
              "    </tr>\n",
              "  </thead>\n",
              "  <tbody>\n",
              "    <tr>\n",
              "      <th>0</th>\n",
              "      <td>1290 SmartBeta Equity A</td>\n",
              "      <td>TNBRX</td>\n",
              "      <td>1290 SmartBeta Equity Fund</td>\n",
              "      <td>1290 Funds</td>\n",
              "      <td>Open-end mutual fund</td>\n",
              "      <td>2014-11-12</td>\n",
              "      <td>International Equity Funds</td>\n",
              "      <td>Y</td>\n",
              "      <td>NaN</td>\n",
              "      <td>2014-11-12</td>\n",
              "      <td>...</td>\n",
              "      <td>NaN</td>\n",
              "      <td>NaN</td>\n",
              "      <td>NaN</td>\n",
              "      <td>NaN</td>\n",
              "      <td>NaN</td>\n",
              "      <td>NaN</td>\n",
              "      <td>NaN</td>\n",
              "      <td>NaN</td>\n",
              "      <td>NaN</td>\n",
              "      <td>NaN</td>\n",
              "    </tr>\n",
              "    <tr>\n",
              "      <th>1</th>\n",
              "      <td>1290 SmartBeta Equity I</td>\n",
              "      <td>TNBRX</td>\n",
              "      <td>1290 SmartBeta Equity Fund</td>\n",
              "      <td>1290 Funds</td>\n",
              "      <td>Open-end mutual fund</td>\n",
              "      <td>2014-11-12</td>\n",
              "      <td>International Equity Funds</td>\n",
              "      <td>Y</td>\n",
              "      <td>NaN</td>\n",
              "      <td>2014-11-12</td>\n",
              "      <td>...</td>\n",
              "      <td>NaN</td>\n",
              "      <td>NaN</td>\n",
              "      <td>NaN</td>\n",
              "      <td>NaN</td>\n",
              "      <td>NaN</td>\n",
              "      <td>NaN</td>\n",
              "      <td>NaN</td>\n",
              "      <td>NaN</td>\n",
              "      <td>NaN</td>\n",
              "      <td>NaN</td>\n",
              "    </tr>\n",
              "    <tr>\n",
              "      <th>2</th>\n",
              "      <td>1290 SmartBeta Equity R</td>\n",
              "      <td>TNBRX</td>\n",
              "      <td>1290 SmartBeta Equity Fund</td>\n",
              "      <td>1290 Funds</td>\n",
              "      <td>Open-end mutual fund</td>\n",
              "      <td>2014-11-12</td>\n",
              "      <td>International Equity Funds</td>\n",
              "      <td>Y</td>\n",
              "      <td>NaN</td>\n",
              "      <td>2014-11-12</td>\n",
              "      <td>...</td>\n",
              "      <td>NaN</td>\n",
              "      <td>NaN</td>\n",
              "      <td>NaN</td>\n",
              "      <td>NaN</td>\n",
              "      <td>NaN</td>\n",
              "      <td>NaN</td>\n",
              "      <td>NaN</td>\n",
              "      <td>NaN</td>\n",
              "      <td>NaN</td>\n",
              "      <td>NaN</td>\n",
              "    </tr>\n",
              "    <tr>\n",
              "      <th>3</th>\n",
              "      <td>1290 SmartBeta Equity T</td>\n",
              "      <td>TNBRX</td>\n",
              "      <td>1290 SmartBeta Equity Fund</td>\n",
              "      <td>1290 Funds</td>\n",
              "      <td>Open-end mutual fund</td>\n",
              "      <td>2014-11-12</td>\n",
              "      <td>International Equity Funds</td>\n",
              "      <td>Y</td>\n",
              "      <td>NaN</td>\n",
              "      <td>2014-11-12</td>\n",
              "      <td>...</td>\n",
              "      <td>NaN</td>\n",
              "      <td>NaN</td>\n",
              "      <td>NaN</td>\n",
              "      <td>NaN</td>\n",
              "      <td>NaN</td>\n",
              "      <td>NaN</td>\n",
              "      <td>NaN</td>\n",
              "      <td>NaN</td>\n",
              "      <td>NaN</td>\n",
              "      <td>NaN</td>\n",
              "    </tr>\n",
              "    <tr>\n",
              "      <th>4</th>\n",
              "      <td>13D Activist A</td>\n",
              "      <td>DDDCX</td>\n",
              "      <td>13D Activist Fund</td>\n",
              "      <td>13D Activist Fund</td>\n",
              "      <td>Open-end mutual fund</td>\n",
              "      <td>2011-12-28</td>\n",
              "      <td>U.S. Equity Fund</td>\n",
              "      <td>Y</td>\n",
              "      <td>NaN</td>\n",
              "      <td>2011-12-28</td>\n",
              "      <td>...</td>\n",
              "      <td>NaN</td>\n",
              "      <td>NaN</td>\n",
              "      <td>NaN</td>\n",
              "      <td>NaN</td>\n",
              "      <td>NaN</td>\n",
              "      <td>NaN</td>\n",
              "      <td>NaN</td>\n",
              "      <td>NaN</td>\n",
              "      <td>NaN</td>\n",
              "      <td>NaN</td>\n",
              "    </tr>\n",
              "  </tbody>\n",
              "</table>\n",
              "<p>5 rows × 121 columns</p>\n",
              "</div>\n",
              "    <div class=\"colab-df-buttons\">\n",
              "\n",
              "  <div class=\"colab-df-container\">\n",
              "    <button class=\"colab-df-convert\" onclick=\"convertToInteractive('df-d6c14445-20ba-414f-bca9-28dbab442a43')\"\n",
              "            title=\"Convert this dataframe to an interactive table.\"\n",
              "            style=\"display:none;\">\n",
              "\n",
              "  <svg xmlns=\"http://www.w3.org/2000/svg\" height=\"24px\" viewBox=\"0 -960 960 960\">\n",
              "    <path d=\"M120-120v-720h720v720H120Zm60-500h600v-160H180v160Zm220 220h160v-160H400v160Zm0 220h160v-160H400v160ZM180-400h160v-160H180v160Zm440 0h160v-160H620v160ZM180-180h160v-160H180v160Zm440 0h160v-160H620v160Z\"/>\n",
              "  </svg>\n",
              "    </button>\n",
              "\n",
              "  <style>\n",
              "    .colab-df-container {\n",
              "      display:flex;\n",
              "      gap: 12px;\n",
              "    }\n",
              "\n",
              "    .colab-df-convert {\n",
              "      background-color: #E8F0FE;\n",
              "      border: none;\n",
              "      border-radius: 50%;\n",
              "      cursor: pointer;\n",
              "      display: none;\n",
              "      fill: #1967D2;\n",
              "      height: 32px;\n",
              "      padding: 0 0 0 0;\n",
              "      width: 32px;\n",
              "    }\n",
              "\n",
              "    .colab-df-convert:hover {\n",
              "      background-color: #E2EBFA;\n",
              "      box-shadow: 0px 1px 2px rgba(60, 64, 67, 0.3), 0px 1px 3px 1px rgba(60, 64, 67, 0.15);\n",
              "      fill: #174EA6;\n",
              "    }\n",
              "\n",
              "    .colab-df-buttons div {\n",
              "      margin-bottom: 4px;\n",
              "    }\n",
              "\n",
              "    [theme=dark] .colab-df-convert {\n",
              "      background-color: #3B4455;\n",
              "      fill: #D2E3FC;\n",
              "    }\n",
              "\n",
              "    [theme=dark] .colab-df-convert:hover {\n",
              "      background-color: #434B5C;\n",
              "      box-shadow: 0px 1px 3px 1px rgba(0, 0, 0, 0.15);\n",
              "      filter: drop-shadow(0px 1px 2px rgba(0, 0, 0, 0.3));\n",
              "      fill: #FFFFFF;\n",
              "    }\n",
              "  </style>\n",
              "\n",
              "    <script>\n",
              "      const buttonEl =\n",
              "        document.querySelector('#df-d6c14445-20ba-414f-bca9-28dbab442a43 button.colab-df-convert');\n",
              "      buttonEl.style.display =\n",
              "        google.colab.kernel.accessAllowed ? 'block' : 'none';\n",
              "\n",
              "      async function convertToInteractive(key) {\n",
              "        const element = document.querySelector('#df-d6c14445-20ba-414f-bca9-28dbab442a43');\n",
              "        const dataTable =\n",
              "          await google.colab.kernel.invokeFunction('convertToInteractive',\n",
              "                                                    [key], {});\n",
              "        if (!dataTable) return;\n",
              "\n",
              "        const docLinkHtml = 'Like what you see? Visit the ' +\n",
              "          '<a target=\"_blank\" href=https://colab.research.google.com/notebooks/data_table.ipynb>data table notebook</a>'\n",
              "          + ' to learn more about interactive tables.';\n",
              "        element.innerHTML = '';\n",
              "        dataTable['output_type'] = 'display_data';\n",
              "        await google.colab.output.renderOutput(dataTable, element);\n",
              "        const docLink = document.createElement('div');\n",
              "        docLink.innerHTML = docLinkHtml;\n",
              "        element.appendChild(docLink);\n",
              "      }\n",
              "    </script>\n",
              "  </div>\n",
              "\n",
              "\n",
              "<div id=\"df-b6cb164f-8da4-40f0-b74c-529c32a98cd9\">\n",
              "  <button class=\"colab-df-quickchart\" onclick=\"quickchart('df-b6cb164f-8da4-40f0-b74c-529c32a98cd9')\"\n",
              "            title=\"Suggest charts\"\n",
              "            style=\"display:none;\">\n",
              "\n",
              "<svg xmlns=\"http://www.w3.org/2000/svg\" height=\"24px\"viewBox=\"0 0 24 24\"\n",
              "     width=\"24px\">\n",
              "    <g>\n",
              "        <path d=\"M19 3H5c-1.1 0-2 .9-2 2v14c0 1.1.9 2 2 2h14c1.1 0 2-.9 2-2V5c0-1.1-.9-2-2-2zM9 17H7v-7h2v7zm4 0h-2V7h2v10zm4 0h-2v-4h2v4z\"/>\n",
              "    </g>\n",
              "</svg>\n",
              "  </button>\n",
              "\n",
              "<style>\n",
              "  .colab-df-quickchart {\n",
              "      --bg-color: #E8F0FE;\n",
              "      --fill-color: #1967D2;\n",
              "      --hover-bg-color: #E2EBFA;\n",
              "      --hover-fill-color: #174EA6;\n",
              "      --disabled-fill-color: #AAA;\n",
              "      --disabled-bg-color: #DDD;\n",
              "  }\n",
              "\n",
              "  [theme=dark] .colab-df-quickchart {\n",
              "      --bg-color: #3B4455;\n",
              "      --fill-color: #D2E3FC;\n",
              "      --hover-bg-color: #434B5C;\n",
              "      --hover-fill-color: #FFFFFF;\n",
              "      --disabled-bg-color: #3B4455;\n",
              "      --disabled-fill-color: #666;\n",
              "  }\n",
              "\n",
              "  .colab-df-quickchart {\n",
              "    background-color: var(--bg-color);\n",
              "    border: none;\n",
              "    border-radius: 50%;\n",
              "    cursor: pointer;\n",
              "    display: none;\n",
              "    fill: var(--fill-color);\n",
              "    height: 32px;\n",
              "    padding: 0;\n",
              "    width: 32px;\n",
              "  }\n",
              "\n",
              "  .colab-df-quickchart:hover {\n",
              "    background-color: var(--hover-bg-color);\n",
              "    box-shadow: 0 1px 2px rgba(60, 64, 67, 0.3), 0 1px 3px 1px rgba(60, 64, 67, 0.15);\n",
              "    fill: var(--button-hover-fill-color);\n",
              "  }\n",
              "\n",
              "  .colab-df-quickchart-complete:disabled,\n",
              "  .colab-df-quickchart-complete:disabled:hover {\n",
              "    background-color: var(--disabled-bg-color);\n",
              "    fill: var(--disabled-fill-color);\n",
              "    box-shadow: none;\n",
              "  }\n",
              "\n",
              "  .colab-df-spinner {\n",
              "    border: 2px solid var(--fill-color);\n",
              "    border-color: transparent;\n",
              "    border-bottom-color: var(--fill-color);\n",
              "    animation:\n",
              "      spin 1s steps(1) infinite;\n",
              "  }\n",
              "\n",
              "  @keyframes spin {\n",
              "    0% {\n",
              "      border-color: transparent;\n",
              "      border-bottom-color: var(--fill-color);\n",
              "      border-left-color: var(--fill-color);\n",
              "    }\n",
              "    20% {\n",
              "      border-color: transparent;\n",
              "      border-left-color: var(--fill-color);\n",
              "      border-top-color: var(--fill-color);\n",
              "    }\n",
              "    30% {\n",
              "      border-color: transparent;\n",
              "      border-left-color: var(--fill-color);\n",
              "      border-top-color: var(--fill-color);\n",
              "      border-right-color: var(--fill-color);\n",
              "    }\n",
              "    40% {\n",
              "      border-color: transparent;\n",
              "      border-right-color: var(--fill-color);\n",
              "      border-top-color: var(--fill-color);\n",
              "    }\n",
              "    60% {\n",
              "      border-color: transparent;\n",
              "      border-right-color: var(--fill-color);\n",
              "    }\n",
              "    80% {\n",
              "      border-color: transparent;\n",
              "      border-right-color: var(--fill-color);\n",
              "      border-bottom-color: var(--fill-color);\n",
              "    }\n",
              "    90% {\n",
              "      border-color: transparent;\n",
              "      border-bottom-color: var(--fill-color);\n",
              "    }\n",
              "  }\n",
              "</style>\n",
              "\n",
              "  <script>\n",
              "    async function quickchart(key) {\n",
              "      const quickchartButtonEl =\n",
              "        document.querySelector('#' + key + ' button');\n",
              "      quickchartButtonEl.disabled = true;  // To prevent multiple clicks.\n",
              "      quickchartButtonEl.classList.add('colab-df-spinner');\n",
              "      try {\n",
              "        const charts = await google.colab.kernel.invokeFunction(\n",
              "            'suggestCharts', [key], {});\n",
              "      } catch (error) {\n",
              "        console.error('Error during call to suggestCharts:', error);\n",
              "      }\n",
              "      quickchartButtonEl.classList.remove('colab-df-spinner');\n",
              "      quickchartButtonEl.classList.add('colab-df-quickchart-complete');\n",
              "    }\n",
              "    (() => {\n",
              "      let quickchartButtonEl =\n",
              "        document.querySelector('#df-b6cb164f-8da4-40f0-b74c-529c32a98cd9 button');\n",
              "      quickchartButtonEl.style.display =\n",
              "        google.colab.kernel.accessAllowed ? 'block' : 'none';\n",
              "    })();\n",
              "  </script>\n",
              "</div>\n",
              "\n",
              "    </div>\n",
              "  </div>\n"
            ],
            "application/vnd.google.colaboratory.intrinsic+json": {
              "type": "dataframe",
              "variable_name": "df"
            }
          },
          "metadata": {},
          "execution_count": 101
        }
      ],
      "source": [
        "df.head()"
      ]
    },
    {
      "cell_type": "code",
      "source": [
        "df['Prison Free Funds: Private prison operators, count'].value_counts()"
      ],
      "metadata": {
        "id": "NC48t7MC8lHp",
        "colab": {
          "base_uri": "https://localhost:8080/"
        },
        "outputId": "f2638742-f79d-4e3e-deae-c8b2de8567c4"
      },
      "execution_count": null,
      "outputs": [
        {
          "output_type": "execute_result",
          "data": {
            "text/plain": [
              "0.0    66457\n",
              "1.0     3406\n",
              "2.0     2770\n",
              "3.0      394\n",
              "5.0      175\n",
              "4.0       76\n",
              "6.0       25\n",
              "7.0       24\n",
              "Name: Prison Free Funds: Private prison operators, count, dtype: int64"
            ]
          },
          "metadata": {},
          "execution_count": 102
        }
      ]
    },
    {
      "cell_type": "code",
      "source": [
        "df['Prison Free Funds: Private prison operators, count'].isnull()"
      ],
      "metadata": {
        "colab": {
          "base_uri": "https://localhost:8080/"
        },
        "id": "KQhh0fD8Ouah",
        "outputId": "24c768a4-7a47-4de3-de51-e18529f116a3"
      },
      "execution_count": null,
      "outputs": [
        {
          "output_type": "execute_result",
          "data": {
            "text/plain": [
              "0          True\n",
              "1          True\n",
              "2          True\n",
              "3          True\n",
              "4          True\n",
              "          ...  \n",
              "110505    False\n",
              "110506    False\n",
              "110507    False\n",
              "110508    False\n",
              "110509    False\n",
              "Name: Prison Free Funds: Private prison operators, count, Length: 110510, dtype: bool"
            ]
          },
          "metadata": {},
          "execution_count": 103
        }
      ]
    },
    {
      "cell_type": "code",
      "source": [
        "#importing dependencies\n",
        "import numpy as np\n",
        "import pandas as pd\n",
        "\n",
        "import re\n",
        "from nltk.corpus import stopwords\n",
        "from nltk.stem.porter import PorterStemmer\n",
        "from sklearn.feature_extraction.text import TfidfVectorizer\n",
        "\n",
        "from sklearn.model_selection import train_test_split\n",
        "from sklearn.linear_model import LogisticRegression\n",
        "from sklearn.metrics import accuracy_score\n",
        "\n",
        "import matplotlib.pyplot as plt\n",
        "import seaborn as sns\n",
        "\n",
        "import string\n",
        "import warnings\n",
        "warnings.filterwarnings('ignore')"
      ],
      "metadata": {
        "id": "y5ky4df3WgdN"
      },
      "execution_count": null,
      "outputs": []
    },
    {
      "cell_type": "code",
      "source": [],
      "metadata": {
        "id": "97GGxpCR9OmP"
      },
      "execution_count": null,
      "outputs": []
    },
    {
      "cell_type": "code",
      "source": [
        "df.shape\n"
      ],
      "metadata": {
        "colab": {
          "base_uri": "https://localhost:8080/"
        },
        "id": "JOC2BnKr9Z7Y",
        "outputId": "c74023f7-bf08-41b8-ef12-2cb8d02771e8"
      },
      "execution_count": null,
      "outputs": [
        {
          "output_type": "execute_result",
          "data": {
            "text/plain": [
              "(110510, 121)"
            ]
          },
          "metadata": {},
          "execution_count": 105
        }
      ]
    },
    {
      "cell_type": "code",
      "source": [],
      "metadata": {
        "colab": {
          "base_uri": "https://localhost:8080/",
          "height": 141
        },
        "id": "_vgS6ctc9aqj",
        "outputId": "c8aafc2d-5f6b-4776-cbf4-8e380c1ece1b"
      },
      "execution_count": null,
      "outputs": [
        {
          "output_type": "error",
          "ename": "NameError",
          "evalue": "name 'data' is not defined",
          "traceback": [
            "\u001b[0;31m---------------------------------------------------------------------------\u001b[0m",
            "\u001b[0;31mNameError\u001b[0m                                 Traceback (most recent call last)",
            "\u001b[0;32m<ipython-input-34-304fa4ce4ebd>\u001b[0m in \u001b[0;36m<cell line: 1>\u001b[0;34m()\u001b[0m\n\u001b[0;32m----> 1\u001b[0;31m \u001b[0mdata\u001b[0m\u001b[0;34m.\u001b[0m\u001b[0mhead\u001b[0m\u001b[0;34m(\u001b[0m\u001b[0;34m)\u001b[0m\u001b[0;34m\u001b[0m\u001b[0;34m\u001b[0m\u001b[0m\n\u001b[0m",
            "\u001b[0;31mNameError\u001b[0m: name 'data' is not defined"
          ]
        }
      ]
    },
    {
      "cell_type": "code",
      "source": [
        "# List of columns to keep\n",
        "columns_to_keep = [\n",
        "    'Fossil Free Funds: Relative carbon footprint (tonnes CO2 / $1M USD invested)',\n",
        "    'Fossil Free Funds: Relative carbon intensity (tonnes CO2 / $1M USD revenue)',\n",
        "    'Fossil Free Funds: Total financed emissions scope 1 + 2 (tCO2e)',\n",
        "    'Fossil Free Funds: Total financed emissions scope 1 + 2 + 3 (tCO2e)',\n",
        "    'Fossil Free Funds: Carbon footprint portfolio coverage by market value weight',\n",
        "    'Fossil Free Funds: Carbon footprint portfolio coverage by number of disclosing titles',\n",
        "    'Fossil Free Funds: Fossil fuel holdings, count',\n",
        "    'Fossil Free Funds: Fossil fuel holdings, weight',\n",
        "    'Deforestation Free Funds: Deforestation-risk producer, count',\n",
        "    'Deforestation Free Funds: Deforestation-risk producer, weight',\n",
        "    'Gender Equality Funds: Gender equality score (out of 100 points)',\n",
        "    'Gender Equality Funds: Gender equality score, gender balance (out of 100 points)',\n",
        "    'Gender Equality Funds: Gender equality score, gender policies (out of 100 points)',\n",
        "    'Fund profile: Shareclass type',\n",
        "    'Fund profile: Fund net assets',\n",
        "    'Fund profile: Percent rated',\n",
        "    'Fund profile: Shareclass inception date',\n",
        "    'Fossil Free Funds: Fossil fuel grade',\n",
        "    'Deforestation Free Funds: Deforestation grade',\n",
        "    'Gender Equality Funds: Gender equality grade',\n",
        "    'Fund profile: Asset manager',\n",
        "    'Fund profile: Category group',\n",
        "    'Fund profile: Sustainability mandate',\n",
        "    'Fund profile: US-SIF member'\n",
        "]\n",
        "\n",
        "# Keep only the selected columns\n",
        "df_subset = df[columns_to_keep]\n",
        "\n",
        "# Save the subset to a new CSV file or use it for further analysis\n",
        "df_subset.to_csv('subset_dataset.csv', index=False)"
      ],
      "metadata": {
        "id": "LDtrpQ1d_UJG"
      },
      "execution_count": null,
      "outputs": []
    },
    {
      "cell_type": "code",
      "source": [
        "df_subset.head()"
      ],
      "metadata": {
        "colab": {
          "base_uri": "https://localhost:8080/",
          "height": 603
        },
        "id": "tzBXx7RBcngf",
        "outputId": "fa174dee-144c-405e-cab1-88eb3649f8ae"
      },
      "execution_count": null,
      "outputs": [
        {
          "output_type": "execute_result",
          "data": {
            "text/plain": [
              "   Fossil Free Funds: Relative carbon footprint (tonnes CO2 / $1M USD invested)  \\\n",
              "0                                              56.19                              \n",
              "1                                              56.19                              \n",
              "2                                              56.19                              \n",
              "3                                              56.19                              \n",
              "4                                              59.52                              \n",
              "\n",
              "   Fossil Free Funds: Relative carbon intensity (tonnes CO2 / $1M USD revenue)  \\\n",
              "0                                             104.21                             \n",
              "1                                             104.21                             \n",
              "2                                             104.21                             \n",
              "3                                             104.21                             \n",
              "4                                              63.08                             \n",
              "\n",
              "   Fossil Free Funds: Total financed emissions scope 1 + 2 (tCO2e)  \\\n",
              "0                                            1846.27                 \n",
              "1                                            1846.27                 \n",
              "2                                            1846.27                 \n",
              "3                                            1846.27                 \n",
              "4                                           25580.25                 \n",
              "\n",
              "   Fossil Free Funds: Total financed emissions scope 1 + 2 + 3 (tCO2e)  \\\n",
              "0                                            5965.91                     \n",
              "1                                            5965.91                     \n",
              "2                                            5965.91                     \n",
              "3                                            5965.91                     \n",
              "4                                          104767.63                     \n",
              "\n",
              "   Fossil Free Funds: Carbon footprint portfolio coverage by market value weight  \\\n",
              "0                                           0.981044                               \n",
              "1                                           0.981044                               \n",
              "2                                           0.981044                               \n",
              "3                                           0.981044                               \n",
              "4                                           0.806359                               \n",
              "\n",
              "   Fossil Free Funds: Carbon footprint portfolio coverage by number of disclosing titles  \\\n",
              "0                                           0.844560                                       \n",
              "1                                           0.844560                                       \n",
              "2                                           0.844560                                       \n",
              "3                                           0.844560                                       \n",
              "4                                           0.333333                                       \n",
              "\n",
              "   Fossil Free Funds: Fossil fuel holdings, count  \\\n",
              "0                                              29   \n",
              "1                                              29   \n",
              "2                                              29   \n",
              "3                                              29   \n",
              "4                                               1   \n",
              "\n",
              "   Fossil Free Funds: Fossil fuel holdings, weight  \\\n",
              "0                                         0.058496   \n",
              "1                                         0.058496   \n",
              "2                                         0.058496   \n",
              "3                                         0.058496   \n",
              "4                                         0.037922   \n",
              "\n",
              "   Deforestation Free Funds: Deforestation-risk producer, count  \\\n",
              "0                                                  5              \n",
              "1                                                  5              \n",
              "2                                                  5              \n",
              "3                                                  5              \n",
              "4                                                  0              \n",
              "\n",
              "   Deforestation Free Funds: Deforestation-risk producer, weight  ...  \\\n",
              "0                                           0.005136              ...   \n",
              "1                                           0.005136              ...   \n",
              "2                                           0.005136              ...   \n",
              "3                                           0.005136              ...   \n",
              "4                                           0.000000              ...   \n",
              "\n",
              "   Fund profile: Fund net assets  Fund profile: Percent rated  \\\n",
              "0                       32236053                     0.981064   \n",
              "1                       32236053                     0.981064   \n",
              "2                       32236053                     0.981064   \n",
              "3                       32236053                     0.981064   \n",
              "4                      346536813                     0.806360   \n",
              "\n",
              "   Fund profile: Shareclass inception date  \\\n",
              "0                               2014-11-12   \n",
              "1                               2014-11-12   \n",
              "2                               2014-11-12   \n",
              "3                               2014-11-12   \n",
              "4                               2011-12-28   \n",
              "\n",
              "  Fossil Free Funds: Fossil fuel grade  \\\n",
              "0                                    C   \n",
              "1                                    C   \n",
              "2                                    C   \n",
              "3                                    C   \n",
              "4                                    B   \n",
              "\n",
              "   Deforestation Free Funds: Deforestation grade  \\\n",
              "0                                              F   \n",
              "1                                              F   \n",
              "2                                              F   \n",
              "3                                              F   \n",
              "4                                              B   \n",
              "\n",
              "   Gender Equality Funds: Gender equality grade Fund profile: Asset manager  \\\n",
              "0                                             A                  1290 Funds   \n",
              "1                                             A                  1290 Funds   \n",
              "2                                             A                  1290 Funds   \n",
              "3                                             A                  1290 Funds   \n",
              "4                                             D           13D Activist Fund   \n",
              "\n",
              "  Fund profile: Category group Fund profile: Sustainability mandate  \\\n",
              "0   International Equity Funds                                    Y   \n",
              "1   International Equity Funds                                    Y   \n",
              "2   International Equity Funds                                    Y   \n",
              "3   International Equity Funds                                    Y   \n",
              "4             U.S. Equity Fund                                    Y   \n",
              "\n",
              "  Fund profile: US-SIF member  \n",
              "0                         NaN  \n",
              "1                         NaN  \n",
              "2                         NaN  \n",
              "3                         NaN  \n",
              "4                         NaN  \n",
              "\n",
              "[5 rows x 24 columns]"
            ],
            "text/html": [
              "\n",
              "  <div id=\"df-8b867928-c0ee-4390-8c69-673464d89850\" class=\"colab-df-container\">\n",
              "    <div>\n",
              "<style scoped>\n",
              "    .dataframe tbody tr th:only-of-type {\n",
              "        vertical-align: middle;\n",
              "    }\n",
              "\n",
              "    .dataframe tbody tr th {\n",
              "        vertical-align: top;\n",
              "    }\n",
              "\n",
              "    .dataframe thead th {\n",
              "        text-align: right;\n",
              "    }\n",
              "</style>\n",
              "<table border=\"1\" class=\"dataframe\">\n",
              "  <thead>\n",
              "    <tr style=\"text-align: right;\">\n",
              "      <th></th>\n",
              "      <th>Fossil Free Funds: Relative carbon footprint (tonnes CO2 / $1M USD invested)</th>\n",
              "      <th>Fossil Free Funds: Relative carbon intensity (tonnes CO2 / $1M USD revenue)</th>\n",
              "      <th>Fossil Free Funds: Total financed emissions scope 1 + 2 (tCO2e)</th>\n",
              "      <th>Fossil Free Funds: Total financed emissions scope 1 + 2 + 3 (tCO2e)</th>\n",
              "      <th>Fossil Free Funds: Carbon footprint portfolio coverage by market value weight</th>\n",
              "      <th>Fossil Free Funds: Carbon footprint portfolio coverage by number of disclosing titles</th>\n",
              "      <th>Fossil Free Funds: Fossil fuel holdings, count</th>\n",
              "      <th>Fossil Free Funds: Fossil fuel holdings, weight</th>\n",
              "      <th>Deforestation Free Funds: Deforestation-risk producer, count</th>\n",
              "      <th>Deforestation Free Funds: Deforestation-risk producer, weight</th>\n",
              "      <th>...</th>\n",
              "      <th>Fund profile: Fund net assets</th>\n",
              "      <th>Fund profile: Percent rated</th>\n",
              "      <th>Fund profile: Shareclass inception date</th>\n",
              "      <th>Fossil Free Funds: Fossil fuel grade</th>\n",
              "      <th>Deforestation Free Funds: Deforestation grade</th>\n",
              "      <th>Gender Equality Funds: Gender equality grade</th>\n",
              "      <th>Fund profile: Asset manager</th>\n",
              "      <th>Fund profile: Category group</th>\n",
              "      <th>Fund profile: Sustainability mandate</th>\n",
              "      <th>Fund profile: US-SIF member</th>\n",
              "    </tr>\n",
              "  </thead>\n",
              "  <tbody>\n",
              "    <tr>\n",
              "      <th>0</th>\n",
              "      <td>56.19</td>\n",
              "      <td>104.21</td>\n",
              "      <td>1846.27</td>\n",
              "      <td>5965.91</td>\n",
              "      <td>0.981044</td>\n",
              "      <td>0.844560</td>\n",
              "      <td>29</td>\n",
              "      <td>0.058496</td>\n",
              "      <td>5</td>\n",
              "      <td>0.005136</td>\n",
              "      <td>...</td>\n",
              "      <td>32236053</td>\n",
              "      <td>0.981064</td>\n",
              "      <td>2014-11-12</td>\n",
              "      <td>C</td>\n",
              "      <td>F</td>\n",
              "      <td>A</td>\n",
              "      <td>1290 Funds</td>\n",
              "      <td>International Equity Funds</td>\n",
              "      <td>Y</td>\n",
              "      <td>NaN</td>\n",
              "    </tr>\n",
              "    <tr>\n",
              "      <th>1</th>\n",
              "      <td>56.19</td>\n",
              "      <td>104.21</td>\n",
              "      <td>1846.27</td>\n",
              "      <td>5965.91</td>\n",
              "      <td>0.981044</td>\n",
              "      <td>0.844560</td>\n",
              "      <td>29</td>\n",
              "      <td>0.058496</td>\n",
              "      <td>5</td>\n",
              "      <td>0.005136</td>\n",
              "      <td>...</td>\n",
              "      <td>32236053</td>\n",
              "      <td>0.981064</td>\n",
              "      <td>2014-11-12</td>\n",
              "      <td>C</td>\n",
              "      <td>F</td>\n",
              "      <td>A</td>\n",
              "      <td>1290 Funds</td>\n",
              "      <td>International Equity Funds</td>\n",
              "      <td>Y</td>\n",
              "      <td>NaN</td>\n",
              "    </tr>\n",
              "    <tr>\n",
              "      <th>2</th>\n",
              "      <td>56.19</td>\n",
              "      <td>104.21</td>\n",
              "      <td>1846.27</td>\n",
              "      <td>5965.91</td>\n",
              "      <td>0.981044</td>\n",
              "      <td>0.844560</td>\n",
              "      <td>29</td>\n",
              "      <td>0.058496</td>\n",
              "      <td>5</td>\n",
              "      <td>0.005136</td>\n",
              "      <td>...</td>\n",
              "      <td>32236053</td>\n",
              "      <td>0.981064</td>\n",
              "      <td>2014-11-12</td>\n",
              "      <td>C</td>\n",
              "      <td>F</td>\n",
              "      <td>A</td>\n",
              "      <td>1290 Funds</td>\n",
              "      <td>International Equity Funds</td>\n",
              "      <td>Y</td>\n",
              "      <td>NaN</td>\n",
              "    </tr>\n",
              "    <tr>\n",
              "      <th>3</th>\n",
              "      <td>56.19</td>\n",
              "      <td>104.21</td>\n",
              "      <td>1846.27</td>\n",
              "      <td>5965.91</td>\n",
              "      <td>0.981044</td>\n",
              "      <td>0.844560</td>\n",
              "      <td>29</td>\n",
              "      <td>0.058496</td>\n",
              "      <td>5</td>\n",
              "      <td>0.005136</td>\n",
              "      <td>...</td>\n",
              "      <td>32236053</td>\n",
              "      <td>0.981064</td>\n",
              "      <td>2014-11-12</td>\n",
              "      <td>C</td>\n",
              "      <td>F</td>\n",
              "      <td>A</td>\n",
              "      <td>1290 Funds</td>\n",
              "      <td>International Equity Funds</td>\n",
              "      <td>Y</td>\n",
              "      <td>NaN</td>\n",
              "    </tr>\n",
              "    <tr>\n",
              "      <th>4</th>\n",
              "      <td>59.52</td>\n",
              "      <td>63.08</td>\n",
              "      <td>25580.25</td>\n",
              "      <td>104767.63</td>\n",
              "      <td>0.806359</td>\n",
              "      <td>0.333333</td>\n",
              "      <td>1</td>\n",
              "      <td>0.037922</td>\n",
              "      <td>0</td>\n",
              "      <td>0.000000</td>\n",
              "      <td>...</td>\n",
              "      <td>346536813</td>\n",
              "      <td>0.806360</td>\n",
              "      <td>2011-12-28</td>\n",
              "      <td>B</td>\n",
              "      <td>B</td>\n",
              "      <td>D</td>\n",
              "      <td>13D Activist Fund</td>\n",
              "      <td>U.S. Equity Fund</td>\n",
              "      <td>Y</td>\n",
              "      <td>NaN</td>\n",
              "    </tr>\n",
              "  </tbody>\n",
              "</table>\n",
              "<p>5 rows × 24 columns</p>\n",
              "</div>\n",
              "    <div class=\"colab-df-buttons\">\n",
              "\n",
              "  <div class=\"colab-df-container\">\n",
              "    <button class=\"colab-df-convert\" onclick=\"convertToInteractive('df-8b867928-c0ee-4390-8c69-673464d89850')\"\n",
              "            title=\"Convert this dataframe to an interactive table.\"\n",
              "            style=\"display:none;\">\n",
              "\n",
              "  <svg xmlns=\"http://www.w3.org/2000/svg\" height=\"24px\" viewBox=\"0 -960 960 960\">\n",
              "    <path d=\"M120-120v-720h720v720H120Zm60-500h600v-160H180v160Zm220 220h160v-160H400v160Zm0 220h160v-160H400v160ZM180-400h160v-160H180v160Zm440 0h160v-160H620v160ZM180-180h160v-160H180v160Zm440 0h160v-160H620v160Z\"/>\n",
              "  </svg>\n",
              "    </button>\n",
              "\n",
              "  <style>\n",
              "    .colab-df-container {\n",
              "      display:flex;\n",
              "      gap: 12px;\n",
              "    }\n",
              "\n",
              "    .colab-df-convert {\n",
              "      background-color: #E8F0FE;\n",
              "      border: none;\n",
              "      border-radius: 50%;\n",
              "      cursor: pointer;\n",
              "      display: none;\n",
              "      fill: #1967D2;\n",
              "      height: 32px;\n",
              "      padding: 0 0 0 0;\n",
              "      width: 32px;\n",
              "    }\n",
              "\n",
              "    .colab-df-convert:hover {\n",
              "      background-color: #E2EBFA;\n",
              "      box-shadow: 0px 1px 2px rgba(60, 64, 67, 0.3), 0px 1px 3px 1px rgba(60, 64, 67, 0.15);\n",
              "      fill: #174EA6;\n",
              "    }\n",
              "\n",
              "    .colab-df-buttons div {\n",
              "      margin-bottom: 4px;\n",
              "    }\n",
              "\n",
              "    [theme=dark] .colab-df-convert {\n",
              "      background-color: #3B4455;\n",
              "      fill: #D2E3FC;\n",
              "    }\n",
              "\n",
              "    [theme=dark] .colab-df-convert:hover {\n",
              "      background-color: #434B5C;\n",
              "      box-shadow: 0px 1px 3px 1px rgba(0, 0, 0, 0.15);\n",
              "      filter: drop-shadow(0px 1px 2px rgba(0, 0, 0, 0.3));\n",
              "      fill: #FFFFFF;\n",
              "    }\n",
              "  </style>\n",
              "\n",
              "    <script>\n",
              "      const buttonEl =\n",
              "        document.querySelector('#df-8b867928-c0ee-4390-8c69-673464d89850 button.colab-df-convert');\n",
              "      buttonEl.style.display =\n",
              "        google.colab.kernel.accessAllowed ? 'block' : 'none';\n",
              "\n",
              "      async function convertToInteractive(key) {\n",
              "        const element = document.querySelector('#df-8b867928-c0ee-4390-8c69-673464d89850');\n",
              "        const dataTable =\n",
              "          await google.colab.kernel.invokeFunction('convertToInteractive',\n",
              "                                                    [key], {});\n",
              "        if (!dataTable) return;\n",
              "\n",
              "        const docLinkHtml = 'Like what you see? Visit the ' +\n",
              "          '<a target=\"_blank\" href=https://colab.research.google.com/notebooks/data_table.ipynb>data table notebook</a>'\n",
              "          + ' to learn more about interactive tables.';\n",
              "        element.innerHTML = '';\n",
              "        dataTable['output_type'] = 'display_data';\n",
              "        await google.colab.output.renderOutput(dataTable, element);\n",
              "        const docLink = document.createElement('div');\n",
              "        docLink.innerHTML = docLinkHtml;\n",
              "        element.appendChild(docLink);\n",
              "      }\n",
              "    </script>\n",
              "  </div>\n",
              "\n",
              "\n",
              "<div id=\"df-8ce521f2-a891-4fa8-a28e-bef02bcfa1bc\">\n",
              "  <button class=\"colab-df-quickchart\" onclick=\"quickchart('df-8ce521f2-a891-4fa8-a28e-bef02bcfa1bc')\"\n",
              "            title=\"Suggest charts\"\n",
              "            style=\"display:none;\">\n",
              "\n",
              "<svg xmlns=\"http://www.w3.org/2000/svg\" height=\"24px\"viewBox=\"0 0 24 24\"\n",
              "     width=\"24px\">\n",
              "    <g>\n",
              "        <path d=\"M19 3H5c-1.1 0-2 .9-2 2v14c0 1.1.9 2 2 2h14c1.1 0 2-.9 2-2V5c0-1.1-.9-2-2-2zM9 17H7v-7h2v7zm4 0h-2V7h2v10zm4 0h-2v-4h2v4z\"/>\n",
              "    </g>\n",
              "</svg>\n",
              "  </button>\n",
              "\n",
              "<style>\n",
              "  .colab-df-quickchart {\n",
              "      --bg-color: #E8F0FE;\n",
              "      --fill-color: #1967D2;\n",
              "      --hover-bg-color: #E2EBFA;\n",
              "      --hover-fill-color: #174EA6;\n",
              "      --disabled-fill-color: #AAA;\n",
              "      --disabled-bg-color: #DDD;\n",
              "  }\n",
              "\n",
              "  [theme=dark] .colab-df-quickchart {\n",
              "      --bg-color: #3B4455;\n",
              "      --fill-color: #D2E3FC;\n",
              "      --hover-bg-color: #434B5C;\n",
              "      --hover-fill-color: #FFFFFF;\n",
              "      --disabled-bg-color: #3B4455;\n",
              "      --disabled-fill-color: #666;\n",
              "  }\n",
              "\n",
              "  .colab-df-quickchart {\n",
              "    background-color: var(--bg-color);\n",
              "    border: none;\n",
              "    border-radius: 50%;\n",
              "    cursor: pointer;\n",
              "    display: none;\n",
              "    fill: var(--fill-color);\n",
              "    height: 32px;\n",
              "    padding: 0;\n",
              "    width: 32px;\n",
              "  }\n",
              "\n",
              "  .colab-df-quickchart:hover {\n",
              "    background-color: var(--hover-bg-color);\n",
              "    box-shadow: 0 1px 2px rgba(60, 64, 67, 0.3), 0 1px 3px 1px rgba(60, 64, 67, 0.15);\n",
              "    fill: var(--button-hover-fill-color);\n",
              "  }\n",
              "\n",
              "  .colab-df-quickchart-complete:disabled,\n",
              "  .colab-df-quickchart-complete:disabled:hover {\n",
              "    background-color: var(--disabled-bg-color);\n",
              "    fill: var(--disabled-fill-color);\n",
              "    box-shadow: none;\n",
              "  }\n",
              "\n",
              "  .colab-df-spinner {\n",
              "    border: 2px solid var(--fill-color);\n",
              "    border-color: transparent;\n",
              "    border-bottom-color: var(--fill-color);\n",
              "    animation:\n",
              "      spin 1s steps(1) infinite;\n",
              "  }\n",
              "\n",
              "  @keyframes spin {\n",
              "    0% {\n",
              "      border-color: transparent;\n",
              "      border-bottom-color: var(--fill-color);\n",
              "      border-left-color: var(--fill-color);\n",
              "    }\n",
              "    20% {\n",
              "      border-color: transparent;\n",
              "      border-left-color: var(--fill-color);\n",
              "      border-top-color: var(--fill-color);\n",
              "    }\n",
              "    30% {\n",
              "      border-color: transparent;\n",
              "      border-left-color: var(--fill-color);\n",
              "      border-top-color: var(--fill-color);\n",
              "      border-right-color: var(--fill-color);\n",
              "    }\n",
              "    40% {\n",
              "      border-color: transparent;\n",
              "      border-right-color: var(--fill-color);\n",
              "      border-top-color: var(--fill-color);\n",
              "    }\n",
              "    60% {\n",
              "      border-color: transparent;\n",
              "      border-right-color: var(--fill-color);\n",
              "    }\n",
              "    80% {\n",
              "      border-color: transparent;\n",
              "      border-right-color: var(--fill-color);\n",
              "      border-bottom-color: var(--fill-color);\n",
              "    }\n",
              "    90% {\n",
              "      border-color: transparent;\n",
              "      border-bottom-color: var(--fill-color);\n",
              "    }\n",
              "  }\n",
              "</style>\n",
              "\n",
              "  <script>\n",
              "    async function quickchart(key) {\n",
              "      const quickchartButtonEl =\n",
              "        document.querySelector('#' + key + ' button');\n",
              "      quickchartButtonEl.disabled = true;  // To prevent multiple clicks.\n",
              "      quickchartButtonEl.classList.add('colab-df-spinner');\n",
              "      try {\n",
              "        const charts = await google.colab.kernel.invokeFunction(\n",
              "            'suggestCharts', [key], {});\n",
              "      } catch (error) {\n",
              "        console.error('Error during call to suggestCharts:', error);\n",
              "      }\n",
              "      quickchartButtonEl.classList.remove('colab-df-spinner');\n",
              "      quickchartButtonEl.classList.add('colab-df-quickchart-complete');\n",
              "    }\n",
              "    (() => {\n",
              "      let quickchartButtonEl =\n",
              "        document.querySelector('#df-8ce521f2-a891-4fa8-a28e-bef02bcfa1bc button');\n",
              "      quickchartButtonEl.style.display =\n",
              "        google.colab.kernel.accessAllowed ? 'block' : 'none';\n",
              "    })();\n",
              "  </script>\n",
              "</div>\n",
              "\n",
              "    </div>\n",
              "  </div>\n"
            ],
            "application/vnd.google.colaboratory.intrinsic+json": {
              "type": "dataframe",
              "variable_name": "df_subset"
            }
          },
          "metadata": {},
          "execution_count": 107
        }
      ]
    },
    {
      "cell_type": "code",
      "source": [
        "df_subset.shape"
      ],
      "metadata": {
        "colab": {
          "base_uri": "https://localhost:8080/"
        },
        "id": "kVKvW3KucqSV",
        "outputId": "beedc814-19a5-4f65-a3de-34b7197dddc0"
      },
      "execution_count": null,
      "outputs": [
        {
          "output_type": "execute_result",
          "data": {
            "text/plain": [
              "(110510, 24)"
            ]
          },
          "metadata": {},
          "execution_count": 108
        }
      ]
    },
    {
      "cell_type": "markdown",
      "source": [
        "**Handling Missing values**\n"
      ],
      "metadata": {
        "id": "-xYBqNkfmwRK"
      }
    },
    {
      "cell_type": "code",
      "source": [
        "for col in df_subset.columns:\n",
        "    nan_count = df_subset[col].isna().sum()\n",
        "    print(f\"Number of NaN values in '{col}': {nan_count}\")"
      ],
      "metadata": {
        "colab": {
          "base_uri": "https://localhost:8080/"
        },
        "id": "7bjTh5YVhGBC",
        "outputId": "997db27a-ea8e-48bb-c387-e2e1e1f128c1"
      },
      "execution_count": null,
      "outputs": [
        {
          "output_type": "stream",
          "name": "stdout",
          "text": [
            "Number of NaN values in 'Fossil Free Funds: Relative carbon footprint (tonnes CO2 / $1M USD invested)': 0\n",
            "Number of NaN values in 'Fossil Free Funds: Relative carbon intensity (tonnes CO2 / $1M USD revenue)': 0\n",
            "Number of NaN values in 'Fossil Free Funds: Total financed emissions scope 1 + 2 (tCO2e)': 0\n",
            "Number of NaN values in 'Fossil Free Funds: Total financed emissions scope 1 + 2 + 3 (tCO2e)': 0\n",
            "Number of NaN values in 'Fossil Free Funds: Carbon footprint portfolio coverage by market value weight': 0\n",
            "Number of NaN values in 'Fossil Free Funds: Carbon footprint portfolio coverage by number of disclosing titles': 0\n",
            "Number of NaN values in 'Fossil Free Funds: Fossil fuel holdings, count': 0\n",
            "Number of NaN values in 'Fossil Free Funds: Fossil fuel holdings, weight': 0\n",
            "Number of NaN values in 'Deforestation Free Funds: Deforestation-risk producer, count': 0\n",
            "Number of NaN values in 'Deforestation Free Funds: Deforestation-risk producer, weight': 0\n",
            "Number of NaN values in 'Gender Equality Funds: Gender equality score (out of 100 points)': 54862\n",
            "Number of NaN values in 'Gender Equality Funds: Gender equality score, gender balance (out of 100 points)': 54862\n",
            "Number of NaN values in 'Gender Equality Funds: Gender equality score, gender policies (out of 100 points)': 54862\n",
            "Number of NaN values in 'Fund profile: Shareclass type': 0\n",
            "Number of NaN values in 'Fund profile: Fund net assets': 0\n",
            "Number of NaN values in 'Fund profile: Percent rated': 0\n",
            "Number of NaN values in 'Fund profile: Shareclass inception date': 0\n",
            "Number of NaN values in 'Fossil Free Funds: Fossil fuel grade': 5\n",
            "Number of NaN values in 'Deforestation Free Funds: Deforestation grade': 0\n",
            "Number of NaN values in 'Gender Equality Funds: Gender equality grade': 4260\n",
            "Number of NaN values in 'Fund profile: Asset manager': 0\n",
            "Number of NaN values in 'Fund profile: Category group': 0\n",
            "Number of NaN values in 'Fund profile: Sustainability mandate': 87707\n",
            "Number of NaN values in 'Fund profile: US-SIF member': 108803\n"
          ]
        }
      ]
    },
    {
      "cell_type": "code",
      "source": [
        "df_subset.drop(columns=['Fund profile: US-SIF member'], inplace=True)"
      ],
      "metadata": {
        "id": "Nrg0W0Fwi5bJ"
      },
      "execution_count": null,
      "outputs": []
    },
    {
      "cell_type": "code",
      "source": [
        "# Replace NaN values with mean value\n",
        "mean_value = df_subset['Gender Equality Funds: Gender equality score (out of 100 points)'].mean()\n",
        "df_subset['Gender Equality Funds: Gender equality score (out of 100 points)'].fillna(mean_value, inplace=True)\n"
      ],
      "metadata": {
        "id": "6uqElmKn-VQC"
      },
      "execution_count": null,
      "outputs": []
    },
    {
      "cell_type": "markdown",
      "source": [
        "**Making target and features**\n"
      ],
      "metadata": {
        "id": "ZRU_PRxsxW5r"
      }
    },
    {
      "cell_type": "code",
      "source": [
        "features = df_subset[['Fossil Free Funds: Fossil fuel holdings, count', 'Deforestation Free Funds: Deforestation-risk producer, count', 'Gender Equality Funds: Gender equality score (out of 100 points)']]"
      ],
      "metadata": {
        "id": "HuKUv5zoxWXp"
      },
      "execution_count": null,
      "outputs": []
    },
    {
      "cell_type": "code",
      "source": [
        "features.head()"
      ],
      "metadata": {
        "colab": {
          "base_uri": "https://localhost:8080/",
          "height": 224
        },
        "id": "1O6roPRB2ps8",
        "outputId": "a33b0acc-a020-49b0-a0ff-ae73d4af5ab0"
      },
      "execution_count": null,
      "outputs": [
        {
          "output_type": "execute_result",
          "data": {
            "text/plain": [
              "   Fossil Free Funds: Fossil fuel holdings, count  \\\n",
              "0                                              29   \n",
              "1                                              29   \n",
              "2                                              29   \n",
              "3                                              29   \n",
              "4                                               1   \n",
              "\n",
              "   Deforestation Free Funds: Deforestation-risk producer, count  \\\n",
              "0                                                  5              \n",
              "1                                                  5              \n",
              "2                                                  5              \n",
              "3                                                  5              \n",
              "4                                                  0              \n",
              "\n",
              "   Gender Equality Funds: Gender equality score (out of 100 points)  \n",
              "0                                               57.0                 \n",
              "1                                               57.0                 \n",
              "2                                               57.0                 \n",
              "3                                               57.0                 \n",
              "4                                               37.0                 "
            ],
            "text/html": [
              "\n",
              "  <div id=\"df-c2b380b3-67f3-479d-a841-8be47351332a\" class=\"colab-df-container\">\n",
              "    <div>\n",
              "<style scoped>\n",
              "    .dataframe tbody tr th:only-of-type {\n",
              "        vertical-align: middle;\n",
              "    }\n",
              "\n",
              "    .dataframe tbody tr th {\n",
              "        vertical-align: top;\n",
              "    }\n",
              "\n",
              "    .dataframe thead th {\n",
              "        text-align: right;\n",
              "    }\n",
              "</style>\n",
              "<table border=\"1\" class=\"dataframe\">\n",
              "  <thead>\n",
              "    <tr style=\"text-align: right;\">\n",
              "      <th></th>\n",
              "      <th>Fossil Free Funds: Fossil fuel holdings, count</th>\n",
              "      <th>Deforestation Free Funds: Deforestation-risk producer, count</th>\n",
              "      <th>Gender Equality Funds: Gender equality score (out of 100 points)</th>\n",
              "    </tr>\n",
              "  </thead>\n",
              "  <tbody>\n",
              "    <tr>\n",
              "      <th>0</th>\n",
              "      <td>29</td>\n",
              "      <td>5</td>\n",
              "      <td>57.0</td>\n",
              "    </tr>\n",
              "    <tr>\n",
              "      <th>1</th>\n",
              "      <td>29</td>\n",
              "      <td>5</td>\n",
              "      <td>57.0</td>\n",
              "    </tr>\n",
              "    <tr>\n",
              "      <th>2</th>\n",
              "      <td>29</td>\n",
              "      <td>5</td>\n",
              "      <td>57.0</td>\n",
              "    </tr>\n",
              "    <tr>\n",
              "      <th>3</th>\n",
              "      <td>29</td>\n",
              "      <td>5</td>\n",
              "      <td>57.0</td>\n",
              "    </tr>\n",
              "    <tr>\n",
              "      <th>4</th>\n",
              "      <td>1</td>\n",
              "      <td>0</td>\n",
              "      <td>37.0</td>\n",
              "    </tr>\n",
              "  </tbody>\n",
              "</table>\n",
              "</div>\n",
              "    <div class=\"colab-df-buttons\">\n",
              "\n",
              "  <div class=\"colab-df-container\">\n",
              "    <button class=\"colab-df-convert\" onclick=\"convertToInteractive('df-c2b380b3-67f3-479d-a841-8be47351332a')\"\n",
              "            title=\"Convert this dataframe to an interactive table.\"\n",
              "            style=\"display:none;\">\n",
              "\n",
              "  <svg xmlns=\"http://www.w3.org/2000/svg\" height=\"24px\" viewBox=\"0 -960 960 960\">\n",
              "    <path d=\"M120-120v-720h720v720H120Zm60-500h600v-160H180v160Zm220 220h160v-160H400v160Zm0 220h160v-160H400v160ZM180-400h160v-160H180v160Zm440 0h160v-160H620v160ZM180-180h160v-160H180v160Zm440 0h160v-160H620v160Z\"/>\n",
              "  </svg>\n",
              "    </button>\n",
              "\n",
              "  <style>\n",
              "    .colab-df-container {\n",
              "      display:flex;\n",
              "      gap: 12px;\n",
              "    }\n",
              "\n",
              "    .colab-df-convert {\n",
              "      background-color: #E8F0FE;\n",
              "      border: none;\n",
              "      border-radius: 50%;\n",
              "      cursor: pointer;\n",
              "      display: none;\n",
              "      fill: #1967D2;\n",
              "      height: 32px;\n",
              "      padding: 0 0 0 0;\n",
              "      width: 32px;\n",
              "    }\n",
              "\n",
              "    .colab-df-convert:hover {\n",
              "      background-color: #E2EBFA;\n",
              "      box-shadow: 0px 1px 2px rgba(60, 64, 67, 0.3), 0px 1px 3px 1px rgba(60, 64, 67, 0.15);\n",
              "      fill: #174EA6;\n",
              "    }\n",
              "\n",
              "    .colab-df-buttons div {\n",
              "      margin-bottom: 4px;\n",
              "    }\n",
              "\n",
              "    [theme=dark] .colab-df-convert {\n",
              "      background-color: #3B4455;\n",
              "      fill: #D2E3FC;\n",
              "    }\n",
              "\n",
              "    [theme=dark] .colab-df-convert:hover {\n",
              "      background-color: #434B5C;\n",
              "      box-shadow: 0px 1px 3px 1px rgba(0, 0, 0, 0.15);\n",
              "      filter: drop-shadow(0px 1px 2px rgba(0, 0, 0, 0.3));\n",
              "      fill: #FFFFFF;\n",
              "    }\n",
              "  </style>\n",
              "\n",
              "    <script>\n",
              "      const buttonEl =\n",
              "        document.querySelector('#df-c2b380b3-67f3-479d-a841-8be47351332a button.colab-df-convert');\n",
              "      buttonEl.style.display =\n",
              "        google.colab.kernel.accessAllowed ? 'block' : 'none';\n",
              "\n",
              "      async function convertToInteractive(key) {\n",
              "        const element = document.querySelector('#df-c2b380b3-67f3-479d-a841-8be47351332a');\n",
              "        const dataTable =\n",
              "          await google.colab.kernel.invokeFunction('convertToInteractive',\n",
              "                                                    [key], {});\n",
              "        if (!dataTable) return;\n",
              "\n",
              "        const docLinkHtml = 'Like what you see? Visit the ' +\n",
              "          '<a target=\"_blank\" href=https://colab.research.google.com/notebooks/data_table.ipynb>data table notebook</a>'\n",
              "          + ' to learn more about interactive tables.';\n",
              "        element.innerHTML = '';\n",
              "        dataTable['output_type'] = 'display_data';\n",
              "        await google.colab.output.renderOutput(dataTable, element);\n",
              "        const docLink = document.createElement('div');\n",
              "        docLink.innerHTML = docLinkHtml;\n",
              "        element.appendChild(docLink);\n",
              "      }\n",
              "    </script>\n",
              "  </div>\n",
              "\n",
              "\n",
              "<div id=\"df-3c786855-22b6-49b8-a7bc-d5cc555e2518\">\n",
              "  <button class=\"colab-df-quickchart\" onclick=\"quickchart('df-3c786855-22b6-49b8-a7bc-d5cc555e2518')\"\n",
              "            title=\"Suggest charts\"\n",
              "            style=\"display:none;\">\n",
              "\n",
              "<svg xmlns=\"http://www.w3.org/2000/svg\" height=\"24px\"viewBox=\"0 0 24 24\"\n",
              "     width=\"24px\">\n",
              "    <g>\n",
              "        <path d=\"M19 3H5c-1.1 0-2 .9-2 2v14c0 1.1.9 2 2 2h14c1.1 0 2-.9 2-2V5c0-1.1-.9-2-2-2zM9 17H7v-7h2v7zm4 0h-2V7h2v10zm4 0h-2v-4h2v4z\"/>\n",
              "    </g>\n",
              "</svg>\n",
              "  </button>\n",
              "\n",
              "<style>\n",
              "  .colab-df-quickchart {\n",
              "      --bg-color: #E8F0FE;\n",
              "      --fill-color: #1967D2;\n",
              "      --hover-bg-color: #E2EBFA;\n",
              "      --hover-fill-color: #174EA6;\n",
              "      --disabled-fill-color: #AAA;\n",
              "      --disabled-bg-color: #DDD;\n",
              "  }\n",
              "\n",
              "  [theme=dark] .colab-df-quickchart {\n",
              "      --bg-color: #3B4455;\n",
              "      --fill-color: #D2E3FC;\n",
              "      --hover-bg-color: #434B5C;\n",
              "      --hover-fill-color: #FFFFFF;\n",
              "      --disabled-bg-color: #3B4455;\n",
              "      --disabled-fill-color: #666;\n",
              "  }\n",
              "\n",
              "  .colab-df-quickchart {\n",
              "    background-color: var(--bg-color);\n",
              "    border: none;\n",
              "    border-radius: 50%;\n",
              "    cursor: pointer;\n",
              "    display: none;\n",
              "    fill: var(--fill-color);\n",
              "    height: 32px;\n",
              "    padding: 0;\n",
              "    width: 32px;\n",
              "  }\n",
              "\n",
              "  .colab-df-quickchart:hover {\n",
              "    background-color: var(--hover-bg-color);\n",
              "    box-shadow: 0 1px 2px rgba(60, 64, 67, 0.3), 0 1px 3px 1px rgba(60, 64, 67, 0.15);\n",
              "    fill: var(--button-hover-fill-color);\n",
              "  }\n",
              "\n",
              "  .colab-df-quickchart-complete:disabled,\n",
              "  .colab-df-quickchart-complete:disabled:hover {\n",
              "    background-color: var(--disabled-bg-color);\n",
              "    fill: var(--disabled-fill-color);\n",
              "    box-shadow: none;\n",
              "  }\n",
              "\n",
              "  .colab-df-spinner {\n",
              "    border: 2px solid var(--fill-color);\n",
              "    border-color: transparent;\n",
              "    border-bottom-color: var(--fill-color);\n",
              "    animation:\n",
              "      spin 1s steps(1) infinite;\n",
              "  }\n",
              "\n",
              "  @keyframes spin {\n",
              "    0% {\n",
              "      border-color: transparent;\n",
              "      border-bottom-color: var(--fill-color);\n",
              "      border-left-color: var(--fill-color);\n",
              "    }\n",
              "    20% {\n",
              "      border-color: transparent;\n",
              "      border-left-color: var(--fill-color);\n",
              "      border-top-color: var(--fill-color);\n",
              "    }\n",
              "    30% {\n",
              "      border-color: transparent;\n",
              "      border-left-color: var(--fill-color);\n",
              "      border-top-color: var(--fill-color);\n",
              "      border-right-color: var(--fill-color);\n",
              "    }\n",
              "    40% {\n",
              "      border-color: transparent;\n",
              "      border-right-color: var(--fill-color);\n",
              "      border-top-color: var(--fill-color);\n",
              "    }\n",
              "    60% {\n",
              "      border-color: transparent;\n",
              "      border-right-color: var(--fill-color);\n",
              "    }\n",
              "    80% {\n",
              "      border-color: transparent;\n",
              "      border-right-color: var(--fill-color);\n",
              "      border-bottom-color: var(--fill-color);\n",
              "    }\n",
              "    90% {\n",
              "      border-color: transparent;\n",
              "      border-bottom-color: var(--fill-color);\n",
              "    }\n",
              "  }\n",
              "</style>\n",
              "\n",
              "  <script>\n",
              "    async function quickchart(key) {\n",
              "      const quickchartButtonEl =\n",
              "        document.querySelector('#' + key + ' button');\n",
              "      quickchartButtonEl.disabled = true;  // To prevent multiple clicks.\n",
              "      quickchartButtonEl.classList.add('colab-df-spinner');\n",
              "      try {\n",
              "        const charts = await google.colab.kernel.invokeFunction(\n",
              "            'suggestCharts', [key], {});\n",
              "      } catch (error) {\n",
              "        console.error('Error during call to suggestCharts:', error);\n",
              "      }\n",
              "      quickchartButtonEl.classList.remove('colab-df-spinner');\n",
              "      quickchartButtonEl.classList.add('colab-df-quickchart-complete');\n",
              "    }\n",
              "    (() => {\n",
              "      let quickchartButtonEl =\n",
              "        document.querySelector('#df-3c786855-22b6-49b8-a7bc-d5cc555e2518 button');\n",
              "      quickchartButtonEl.style.display =\n",
              "        google.colab.kernel.accessAllowed ? 'block' : 'none';\n",
              "    })();\n",
              "  </script>\n",
              "</div>\n",
              "\n",
              "    </div>\n",
              "  </div>\n"
            ],
            "application/vnd.google.colaboratory.intrinsic+json": {
              "type": "dataframe",
              "variable_name": "features"
            }
          },
          "metadata": {},
          "execution_count": 113
        }
      ]
    },
    {
      "cell_type": "code",
      "source": [
        "features['Gender Equality Funds: Gender equality score (out of 100 points)'].isna().value_counts()"
      ],
      "metadata": {
        "colab": {
          "base_uri": "https://localhost:8080/"
        },
        "id": "HWdG5FY1_Rp0",
        "outputId": "f9f49d8a-a983-43fb-d778-26cc20e48e46"
      },
      "execution_count": null,
      "outputs": [
        {
          "output_type": "execute_result",
          "data": {
            "text/plain": [
              "False    110510\n",
              "Name: Gender Equality Funds: Gender equality score (out of 100 points), dtype: int64"
            ]
          },
          "metadata": {},
          "execution_count": 114
        }
      ]
    },
    {
      "cell_type": "code",
      "source": [
        "target = df_subset['Fossil Free Funds: Relative carbon footprint (tonnes CO2 / $1M USD invested)']"
      ],
      "metadata": {
        "id": "J98QiyEp2r-K"
      },
      "execution_count": null,
      "outputs": []
    },
    {
      "cell_type": "code",
      "source": [
        "features['Deforestation Free Funds: Deforestation-risk producer, count'].value_counts()"
      ],
      "metadata": {
        "colab": {
          "base_uri": "https://localhost:8080/"
        },
        "id": "YAhM-9jN5Q-9",
        "outputId": "01a0b806-bc6b-4842-fa5d-8c9d49684419"
      },
      "execution_count": null,
      "outputs": [
        {
          "output_type": "execute_result",
          "data": {
            "text/plain": [
              "0     69361\n",
              "1     16133\n",
              "2      6513\n",
              "3      4399\n",
              "5      3268\n",
              "      ...  \n",
              "50        2\n",
              "92        2\n",
              "97        1\n",
              "51        1\n",
              "90        1\n",
              "Name: Deforestation Free Funds: Deforestation-risk producer, count, Length: 83, dtype: int64"
            ]
          },
          "metadata": {},
          "execution_count": 116
        }
      ]
    },
    {
      "cell_type": "code",
      "source": [
        "target.head()"
      ],
      "metadata": {
        "colab": {
          "base_uri": "https://localhost:8080/"
        },
        "id": "qAzA5WD25PNc",
        "outputId": "f3edb504-9f60-44fa-8f39-fc9f634aa8c7"
      },
      "execution_count": null,
      "outputs": [
        {
          "output_type": "execute_result",
          "data": {
            "text/plain": [
              "0    56.19\n",
              "1    56.19\n",
              "2    56.19\n",
              "3    56.19\n",
              "4    59.52\n",
              "Name: Fossil Free Funds: Relative carbon footprint (tonnes CO2 / $1M USD invested), dtype: float64"
            ]
          },
          "metadata": {},
          "execution_count": 117
        }
      ]
    },
    {
      "cell_type": "markdown",
      "source": [
        "Splitting the dataset"
      ],
      "metadata": {
        "id": "t8KeNJzU6Reb"
      }
    },
    {
      "cell_type": "code",
      "source": [
        "# Split data into training and testing sets\n",
        "X_train, X_test, y_train, y_test = train_test_split(features, target, test_size=0.2, random_state=42)"
      ],
      "metadata": {
        "id": "bEpV9JYL6Q5J"
      },
      "execution_count": null,
      "outputs": []
    },
    {
      "cell_type": "code",
      "source": [
        "from sklearn.preprocessing import StandardScaler"
      ],
      "metadata": {
        "id": "JRZQ0vs87W4_"
      },
      "execution_count": null,
      "outputs": []
    },
    {
      "cell_type": "code",
      "source": [
        "# Scale numerical features\n",
        "scaler = StandardScaler()\n",
        "X_train_scaled = scaler.fit_transform(X_train)\n",
        "X_test_scaled = scaler.transform(X_test)"
      ],
      "metadata": {
        "id": "fEeVWRqs5QhM"
      },
      "execution_count": null,
      "outputs": []
    },
    {
      "cell_type": "code",
      "source": [
        "from sklearn.linear_model import LinearRegression\n",
        "\n",
        "# Initialize and train Linear Regression model\n",
        "model = LinearRegression()\n",
        "model.fit(X_train_scaled, y_train)\n"
      ],
      "metadata": {
        "colab": {
          "base_uri": "https://localhost:8080/",
          "height": 75
        },
        "id": "r6ClT9Px76VS",
        "outputId": "ce2a0621-653a-43c2-a9d3-906030c42cea"
      },
      "execution_count": null,
      "outputs": [
        {
          "output_type": "execute_result",
          "data": {
            "text/plain": [
              "LinearRegression()"
            ],
            "text/html": [
              "<style>#sk-container-id-3 {color: black;background-color: white;}#sk-container-id-3 pre{padding: 0;}#sk-container-id-3 div.sk-toggleable {background-color: white;}#sk-container-id-3 label.sk-toggleable__label {cursor: pointer;display: block;width: 100%;margin-bottom: 0;padding: 0.3em;box-sizing: border-box;text-align: center;}#sk-container-id-3 label.sk-toggleable__label-arrow:before {content: \"▸\";float: left;margin-right: 0.25em;color: #696969;}#sk-container-id-3 label.sk-toggleable__label-arrow:hover:before {color: black;}#sk-container-id-3 div.sk-estimator:hover label.sk-toggleable__label-arrow:before {color: black;}#sk-container-id-3 div.sk-toggleable__content {max-height: 0;max-width: 0;overflow: hidden;text-align: left;background-color: #f0f8ff;}#sk-container-id-3 div.sk-toggleable__content pre {margin: 0.2em;color: black;border-radius: 0.25em;background-color: #f0f8ff;}#sk-container-id-3 input.sk-toggleable__control:checked~div.sk-toggleable__content {max-height: 200px;max-width: 100%;overflow: auto;}#sk-container-id-3 input.sk-toggleable__control:checked~label.sk-toggleable__label-arrow:before {content: \"▾\";}#sk-container-id-3 div.sk-estimator input.sk-toggleable__control:checked~label.sk-toggleable__label {background-color: #d4ebff;}#sk-container-id-3 div.sk-label input.sk-toggleable__control:checked~label.sk-toggleable__label {background-color: #d4ebff;}#sk-container-id-3 input.sk-hidden--visually {border: 0;clip: rect(1px 1px 1px 1px);clip: rect(1px, 1px, 1px, 1px);height: 1px;margin: -1px;overflow: hidden;padding: 0;position: absolute;width: 1px;}#sk-container-id-3 div.sk-estimator {font-family: monospace;background-color: #f0f8ff;border: 1px dotted black;border-radius: 0.25em;box-sizing: border-box;margin-bottom: 0.5em;}#sk-container-id-3 div.sk-estimator:hover {background-color: #d4ebff;}#sk-container-id-3 div.sk-parallel-item::after {content: \"\";width: 100%;border-bottom: 1px solid gray;flex-grow: 1;}#sk-container-id-3 div.sk-label:hover label.sk-toggleable__label {background-color: #d4ebff;}#sk-container-id-3 div.sk-serial::before {content: \"\";position: absolute;border-left: 1px solid gray;box-sizing: border-box;top: 0;bottom: 0;left: 50%;z-index: 0;}#sk-container-id-3 div.sk-serial {display: flex;flex-direction: column;align-items: center;background-color: white;padding-right: 0.2em;padding-left: 0.2em;position: relative;}#sk-container-id-3 div.sk-item {position: relative;z-index: 1;}#sk-container-id-3 div.sk-parallel {display: flex;align-items: stretch;justify-content: center;background-color: white;position: relative;}#sk-container-id-3 div.sk-item::before, #sk-container-id-3 div.sk-parallel-item::before {content: \"\";position: absolute;border-left: 1px solid gray;box-sizing: border-box;top: 0;bottom: 0;left: 50%;z-index: -1;}#sk-container-id-3 div.sk-parallel-item {display: flex;flex-direction: column;z-index: 1;position: relative;background-color: white;}#sk-container-id-3 div.sk-parallel-item:first-child::after {align-self: flex-end;width: 50%;}#sk-container-id-3 div.sk-parallel-item:last-child::after {align-self: flex-start;width: 50%;}#sk-container-id-3 div.sk-parallel-item:only-child::after {width: 0;}#sk-container-id-3 div.sk-dashed-wrapped {border: 1px dashed gray;margin: 0 0.4em 0.5em 0.4em;box-sizing: border-box;padding-bottom: 0.4em;background-color: white;}#sk-container-id-3 div.sk-label label {font-family: monospace;font-weight: bold;display: inline-block;line-height: 1.2em;}#sk-container-id-3 div.sk-label-container {text-align: center;}#sk-container-id-3 div.sk-container {/* jupyter's `normalize.less` sets `[hidden] { display: none; }` but bootstrap.min.css set `[hidden] { display: none !important; }` so we also need the `!important` here to be able to override the default hidden behavior on the sphinx rendered scikit-learn.org. See: https://github.com/scikit-learn/scikit-learn/issues/21755 */display: inline-block !important;position: relative;}#sk-container-id-3 div.sk-text-repr-fallback {display: none;}</style><div id=\"sk-container-id-3\" class=\"sk-top-container\"><div class=\"sk-text-repr-fallback\"><pre>LinearRegression()</pre><b>In a Jupyter environment, please rerun this cell to show the HTML representation or trust the notebook. <br />On GitHub, the HTML representation is unable to render, please try loading this page with nbviewer.org.</b></div><div class=\"sk-container\" hidden><div class=\"sk-item\"><div class=\"sk-estimator sk-toggleable\"><input class=\"sk-toggleable__control sk-hidden--visually\" id=\"sk-estimator-id-3\" type=\"checkbox\" checked><label for=\"sk-estimator-id-3\" class=\"sk-toggleable__label sk-toggleable__label-arrow\">LinearRegression</label><div class=\"sk-toggleable__content\"><pre>LinearRegression()</pre></div></div></div></div></div>"
            ]
          },
          "metadata": {},
          "execution_count": 121
        }
      ]
    },
    {
      "cell_type": "code",
      "source": [
        "from sklearn.metrics import mean_squared_error, r2_score\n",
        "\n",
        "# Make predictions on test set\n",
        "y_pred = model.predict(X_test_scaled)\n",
        "\n",
        "# Evaluate model performance\n",
        "mse = mean_squared_error(y_test, y_pred)\n",
        "r2 = r2_score(y_test, y_pred)\n",
        "print(f'Mean Squared Error: {mse}')\n",
        "print(f'R-squared: {r2}')\n"
      ],
      "metadata": {
        "colab": {
          "base_uri": "https://localhost:8080/"
        },
        "id": "Ct_QMpR4By2e",
        "outputId": "45721ce1-bb59-475f-df6d-38a924da84a5"
      },
      "execution_count": null,
      "outputs": [
        {
          "output_type": "stream",
          "name": "stdout",
          "text": [
            "Mean Squared Error: 18211.8542958467\n",
            "R-squared: 0.05127160860727009\n"
          ]
        }
      ]
    },
    {
      "cell_type": "code",
      "source": [
        "# You can now use the trained model to make predictions on new data\n",
        "new_data = [[10, 5, 75]]  # Example data for prediction\n",
        "scaled_new_data = scaler.transform(new_data)\n",
        "prediction = model.predict(scaled_new_data)\n",
        "print(f'Predicted carbon footprint: {prediction[0]}')\n"
      ],
      "metadata": {
        "colab": {
          "base_uri": "https://localhost:8080/"
        },
        "id": "OAMD6SGoB2_L",
        "outputId": "8570a434-2fab-4466-a66b-05c425c72c3f"
      },
      "execution_count": null,
      "outputs": [
        {
          "output_type": "stream",
          "name": "stdout",
          "text": [
            "Predicted carbon footprint: 79.34511035240948\n"
          ]
        }
      ]
    },
    {
      "cell_type": "code",
      "source": [
        "from sklearn.metrics import mean_squared_error, r2_score\n",
        "\n",
        "# Make predictions on test set\n",
        "y_pred = model.predict(X_test_scaled)\n",
        "\n",
        "# Calculate R-squared (R2) score using model.score\n",
        "r2 = model.score(X_test_scaled, y_test)\n",
        "\n",
        "print(f'R-squared (R2) Score using model.score: {r2}')\n"
      ],
      "metadata": {
        "colab": {
          "base_uri": "https://localhost:8080/"
        },
        "id": "8v-8daK8B9ex",
        "outputId": "8b7fc55a-0b33-4c58-8032-02c5f5d48ae5"
      },
      "execution_count": null,
      "outputs": [
        {
          "output_type": "stream",
          "name": "stdout",
          "text": [
            "R-squared (R2) Score using model.score: 0.05127160860727009\n"
          ]
        }
      ]
    },
    {
      "cell_type": "markdown",
      "source": [
        "**Using Random Forest **"
      ],
      "metadata": {
        "id": "JqDtZZ2BEZNl"
      }
    },
    {
      "cell_type": "code",
      "source": [
        "from sklearn.ensemble import RandomForestRegressor\n",
        "# Initialize Random Forest Regressor with desired hyperparameters\n",
        "rf_model = RandomForestRegressor(n_estimators=100, random_state=42)\n",
        "\n",
        "# Train the model using the training data\n",
        "rf_model.fit(X_train_scaled, y_train)\n"
      ],
      "metadata": {
        "colab": {
          "base_uri": "https://localhost:8080/",
          "height": 75
        },
        "id": "dsYxJS4yEco8",
        "outputId": "7ad8c286-6c65-49e8-a3e8-26082b9fe09c"
      },
      "execution_count": null,
      "outputs": [
        {
          "output_type": "execute_result",
          "data": {
            "text/plain": [
              "RandomForestRegressor(random_state=42)"
            ],
            "text/html": [
              "<style>#sk-container-id-4 {color: black;background-color: white;}#sk-container-id-4 pre{padding: 0;}#sk-container-id-4 div.sk-toggleable {background-color: white;}#sk-container-id-4 label.sk-toggleable__label {cursor: pointer;display: block;width: 100%;margin-bottom: 0;padding: 0.3em;box-sizing: border-box;text-align: center;}#sk-container-id-4 label.sk-toggleable__label-arrow:before {content: \"▸\";float: left;margin-right: 0.25em;color: #696969;}#sk-container-id-4 label.sk-toggleable__label-arrow:hover:before {color: black;}#sk-container-id-4 div.sk-estimator:hover label.sk-toggleable__label-arrow:before {color: black;}#sk-container-id-4 div.sk-toggleable__content {max-height: 0;max-width: 0;overflow: hidden;text-align: left;background-color: #f0f8ff;}#sk-container-id-4 div.sk-toggleable__content pre {margin: 0.2em;color: black;border-radius: 0.25em;background-color: #f0f8ff;}#sk-container-id-4 input.sk-toggleable__control:checked~div.sk-toggleable__content {max-height: 200px;max-width: 100%;overflow: auto;}#sk-container-id-4 input.sk-toggleable__control:checked~label.sk-toggleable__label-arrow:before {content: \"▾\";}#sk-container-id-4 div.sk-estimator input.sk-toggleable__control:checked~label.sk-toggleable__label {background-color: #d4ebff;}#sk-container-id-4 div.sk-label input.sk-toggleable__control:checked~label.sk-toggleable__label {background-color: #d4ebff;}#sk-container-id-4 input.sk-hidden--visually {border: 0;clip: rect(1px 1px 1px 1px);clip: rect(1px, 1px, 1px, 1px);height: 1px;margin: -1px;overflow: hidden;padding: 0;position: absolute;width: 1px;}#sk-container-id-4 div.sk-estimator {font-family: monospace;background-color: #f0f8ff;border: 1px dotted black;border-radius: 0.25em;box-sizing: border-box;margin-bottom: 0.5em;}#sk-container-id-4 div.sk-estimator:hover {background-color: #d4ebff;}#sk-container-id-4 div.sk-parallel-item::after {content: \"\";width: 100%;border-bottom: 1px solid gray;flex-grow: 1;}#sk-container-id-4 div.sk-label:hover label.sk-toggleable__label {background-color: #d4ebff;}#sk-container-id-4 div.sk-serial::before {content: \"\";position: absolute;border-left: 1px solid gray;box-sizing: border-box;top: 0;bottom: 0;left: 50%;z-index: 0;}#sk-container-id-4 div.sk-serial {display: flex;flex-direction: column;align-items: center;background-color: white;padding-right: 0.2em;padding-left: 0.2em;position: relative;}#sk-container-id-4 div.sk-item {position: relative;z-index: 1;}#sk-container-id-4 div.sk-parallel {display: flex;align-items: stretch;justify-content: center;background-color: white;position: relative;}#sk-container-id-4 div.sk-item::before, #sk-container-id-4 div.sk-parallel-item::before {content: \"\";position: absolute;border-left: 1px solid gray;box-sizing: border-box;top: 0;bottom: 0;left: 50%;z-index: -1;}#sk-container-id-4 div.sk-parallel-item {display: flex;flex-direction: column;z-index: 1;position: relative;background-color: white;}#sk-container-id-4 div.sk-parallel-item:first-child::after {align-self: flex-end;width: 50%;}#sk-container-id-4 div.sk-parallel-item:last-child::after {align-self: flex-start;width: 50%;}#sk-container-id-4 div.sk-parallel-item:only-child::after {width: 0;}#sk-container-id-4 div.sk-dashed-wrapped {border: 1px dashed gray;margin: 0 0.4em 0.5em 0.4em;box-sizing: border-box;padding-bottom: 0.4em;background-color: white;}#sk-container-id-4 div.sk-label label {font-family: monospace;font-weight: bold;display: inline-block;line-height: 1.2em;}#sk-container-id-4 div.sk-label-container {text-align: center;}#sk-container-id-4 div.sk-container {/* jupyter's `normalize.less` sets `[hidden] { display: none; }` but bootstrap.min.css set `[hidden] { display: none !important; }` so we also need the `!important` here to be able to override the default hidden behavior on the sphinx rendered scikit-learn.org. See: https://github.com/scikit-learn/scikit-learn/issues/21755 */display: inline-block !important;position: relative;}#sk-container-id-4 div.sk-text-repr-fallback {display: none;}</style><div id=\"sk-container-id-4\" class=\"sk-top-container\"><div class=\"sk-text-repr-fallback\"><pre>RandomForestRegressor(random_state=42)</pre><b>In a Jupyter environment, please rerun this cell to show the HTML representation or trust the notebook. <br />On GitHub, the HTML representation is unable to render, please try loading this page with nbviewer.org.</b></div><div class=\"sk-container\" hidden><div class=\"sk-item\"><div class=\"sk-estimator sk-toggleable\"><input class=\"sk-toggleable__control sk-hidden--visually\" id=\"sk-estimator-id-4\" type=\"checkbox\" checked><label for=\"sk-estimator-id-4\" class=\"sk-toggleable__label sk-toggleable__label-arrow\">RandomForestRegressor</label><div class=\"sk-toggleable__content\"><pre>RandomForestRegressor(random_state=42)</pre></div></div></div></div></div>"
            ]
          },
          "metadata": {},
          "execution_count": 125
        }
      ]
    },
    {
      "cell_type": "code",
      "source": [
        "# Make predictions on test set using the trained model\n",
        "rf_y_pred = rf_model.predict(X_test_scaled)\n",
        "\n",
        "# Calculate R-squared (R2) score for Random Forest model\n",
        "rf_r2 = rf_model.score(X_test_scaled, y_test)\n",
        "\n",
        "print(f'R-squared (R2) Score for Random Forest Model: {rf_r2}')\n"
      ],
      "metadata": {
        "colab": {
          "base_uri": "https://localhost:8080/"
        },
        "id": "_w4ZxWhTEiZl",
        "outputId": "f2248632-d99b-4799-e6fa-56835bd93838"
      },
      "execution_count": null,
      "outputs": [
        {
          "output_type": "stream",
          "name": "stdout",
          "text": [
            "R-squared (R2) Score for Random Forest Model: 0.5547668014458426\n"
          ]
        }
      ]
    },
    {
      "cell_type": "code",
      "source": [],
      "metadata": {
        "id": "LphCq1JqJD-G"
      },
      "execution_count": null,
      "outputs": []
    },
    {
      "cell_type": "markdown",
      "source": [
        "**NN**"
      ],
      "metadata": {
        "id": "c3AYxQQ8Fa4x"
      }
    },
    {
      "cell_type": "code",
      "source": [
        "!pip install tensorflow\n"
      ],
      "metadata": {
        "id": "EHbny_WqJHVx",
        "colab": {
          "base_uri": "https://localhost:8080/"
        },
        "outputId": "f16fddf1-a3a7-4fe1-f45f-a1d8c7b085cb"
      },
      "execution_count": null,
      "outputs": [
        {
          "output_type": "stream",
          "name": "stdout",
          "text": [
            "Requirement already satisfied: tensorflow in /usr/local/lib/python3.10/dist-packages (2.15.0)\n",
            "Requirement already satisfied: absl-py>=1.0.0 in /usr/local/lib/python3.10/dist-packages (from tensorflow) (1.4.0)\n",
            "Requirement already satisfied: astunparse>=1.6.0 in /usr/local/lib/python3.10/dist-packages (from tensorflow) (1.6.3)\n",
            "Requirement already satisfied: flatbuffers>=23.5.26 in /usr/local/lib/python3.10/dist-packages (from tensorflow) (24.3.25)\n",
            "Requirement already satisfied: gast!=0.5.0,!=0.5.1,!=0.5.2,>=0.2.1 in /usr/local/lib/python3.10/dist-packages (from tensorflow) (0.5.4)\n",
            "Requirement already satisfied: google-pasta>=0.1.1 in /usr/local/lib/python3.10/dist-packages (from tensorflow) (0.2.0)\n",
            "Requirement already satisfied: h5py>=2.9.0 in /usr/local/lib/python3.10/dist-packages (from tensorflow) (3.9.0)\n",
            "Requirement already satisfied: libclang>=13.0.0 in /usr/local/lib/python3.10/dist-packages (from tensorflow) (18.1.1)\n",
            "Requirement already satisfied: ml-dtypes~=0.2.0 in /usr/local/lib/python3.10/dist-packages (from tensorflow) (0.2.0)\n",
            "Requirement already satisfied: numpy<2.0.0,>=1.23.5 in /usr/local/lib/python3.10/dist-packages (from tensorflow) (1.25.2)\n",
            "Requirement already satisfied: opt-einsum>=2.3.2 in /usr/local/lib/python3.10/dist-packages (from tensorflow) (3.3.0)\n",
            "Requirement already satisfied: packaging in /usr/local/lib/python3.10/dist-packages (from tensorflow) (24.0)\n",
            "Requirement already satisfied: protobuf!=4.21.0,!=4.21.1,!=4.21.2,!=4.21.3,!=4.21.4,!=4.21.5,<5.0.0dev,>=3.20.3 in /usr/local/lib/python3.10/dist-packages (from tensorflow) (3.20.3)\n",
            "Requirement already satisfied: setuptools in /usr/local/lib/python3.10/dist-packages (from tensorflow) (67.7.2)\n",
            "Requirement already satisfied: six>=1.12.0 in /usr/local/lib/python3.10/dist-packages (from tensorflow) (1.16.0)\n",
            "Requirement already satisfied: termcolor>=1.1.0 in /usr/local/lib/python3.10/dist-packages (from tensorflow) (2.4.0)\n",
            "Requirement already satisfied: typing-extensions>=3.6.6 in /usr/local/lib/python3.10/dist-packages (from tensorflow) (4.10.0)\n",
            "Requirement already satisfied: wrapt<1.15,>=1.11.0 in /usr/local/lib/python3.10/dist-packages (from tensorflow) (1.14.1)\n",
            "Requirement already satisfied: tensorflow-io-gcs-filesystem>=0.23.1 in /usr/local/lib/python3.10/dist-packages (from tensorflow) (0.36.0)\n",
            "Requirement already satisfied: grpcio<2.0,>=1.24.3 in /usr/local/lib/python3.10/dist-packages (from tensorflow) (1.62.1)\n",
            "Requirement already satisfied: tensorboard<2.16,>=2.15 in /usr/local/lib/python3.10/dist-packages (from tensorflow) (2.15.2)\n",
            "Requirement already satisfied: tensorflow-estimator<2.16,>=2.15.0 in /usr/local/lib/python3.10/dist-packages (from tensorflow) (2.15.0)\n",
            "Requirement already satisfied: keras<2.16,>=2.15.0 in /usr/local/lib/python3.10/dist-packages (from tensorflow) (2.15.0)\n",
            "Requirement already satisfied: wheel<1.0,>=0.23.0 in /usr/local/lib/python3.10/dist-packages (from astunparse>=1.6.0->tensorflow) (0.43.0)\n",
            "Requirement already satisfied: google-auth<3,>=1.6.3 in /usr/local/lib/python3.10/dist-packages (from tensorboard<2.16,>=2.15->tensorflow) (2.27.0)\n",
            "Requirement already satisfied: google-auth-oauthlib<2,>=0.5 in /usr/local/lib/python3.10/dist-packages (from tensorboard<2.16,>=2.15->tensorflow) (1.2.0)\n",
            "Requirement already satisfied: markdown>=2.6.8 in /usr/local/lib/python3.10/dist-packages (from tensorboard<2.16,>=2.15->tensorflow) (3.6)\n",
            "Requirement already satisfied: requests<3,>=2.21.0 in /usr/local/lib/python3.10/dist-packages (from tensorboard<2.16,>=2.15->tensorflow) (2.31.0)\n",
            "Requirement already satisfied: tensorboard-data-server<0.8.0,>=0.7.0 in /usr/local/lib/python3.10/dist-packages (from tensorboard<2.16,>=2.15->tensorflow) (0.7.2)\n",
            "Requirement already satisfied: werkzeug>=1.0.1 in /usr/local/lib/python3.10/dist-packages (from tensorboard<2.16,>=2.15->tensorflow) (3.0.1)\n",
            "Requirement already satisfied: cachetools<6.0,>=2.0.0 in /usr/local/lib/python3.10/dist-packages (from google-auth<3,>=1.6.3->tensorboard<2.16,>=2.15->tensorflow) (5.3.3)\n",
            "Requirement already satisfied: pyasn1-modules>=0.2.1 in /usr/local/lib/python3.10/dist-packages (from google-auth<3,>=1.6.3->tensorboard<2.16,>=2.15->tensorflow) (0.4.0)\n",
            "Requirement already satisfied: rsa<5,>=3.1.4 in /usr/local/lib/python3.10/dist-packages (from google-auth<3,>=1.6.3->tensorboard<2.16,>=2.15->tensorflow) (4.9)\n",
            "Requirement already satisfied: requests-oauthlib>=0.7.0 in /usr/local/lib/python3.10/dist-packages (from google-auth-oauthlib<2,>=0.5->tensorboard<2.16,>=2.15->tensorflow) (1.4.1)\n",
            "Requirement already satisfied: charset-normalizer<4,>=2 in /usr/local/lib/python3.10/dist-packages (from requests<3,>=2.21.0->tensorboard<2.16,>=2.15->tensorflow) (3.3.2)\n",
            "Requirement already satisfied: idna<4,>=2.5 in /usr/local/lib/python3.10/dist-packages (from requests<3,>=2.21.0->tensorboard<2.16,>=2.15->tensorflow) (3.6)\n",
            "Requirement already satisfied: urllib3<3,>=1.21.1 in /usr/local/lib/python3.10/dist-packages (from requests<3,>=2.21.0->tensorboard<2.16,>=2.15->tensorflow) (2.0.7)\n",
            "Requirement already satisfied: certifi>=2017.4.17 in /usr/local/lib/python3.10/dist-packages (from requests<3,>=2.21.0->tensorboard<2.16,>=2.15->tensorflow) (2024.2.2)\n",
            "Requirement already satisfied: MarkupSafe>=2.1.1 in /usr/local/lib/python3.10/dist-packages (from werkzeug>=1.0.1->tensorboard<2.16,>=2.15->tensorflow) (2.1.5)\n",
            "Requirement already satisfied: pyasn1<0.7.0,>=0.4.6 in /usr/local/lib/python3.10/dist-packages (from pyasn1-modules>=0.2.1->google-auth<3,>=1.6.3->tensorboard<2.16,>=2.15->tensorflow) (0.6.0)\n",
            "Requirement already satisfied: oauthlib>=3.0.0 in /usr/local/lib/python3.10/dist-packages (from requests-oauthlib>=0.7.0->google-auth-oauthlib<2,>=0.5->tensorboard<2.16,>=2.15->tensorflow) (3.2.2)\n"
          ]
        }
      ]
    },
    {
      "cell_type": "code",
      "source": [
        "import tensorflow as tf\n",
        "from tensorflow.keras.models import Sequential\n",
        "from tensorflow.keras.layers import Dense\n",
        "from tensorflow.keras.optimizers import Adam\n"
      ],
      "metadata": {
        "id": "R8kNxxiwMH2h"
      },
      "execution_count": null,
      "outputs": []
    },
    {
      "cell_type": "code",
      "source": [
        "# Define the neural network model\n",
        "model = Sequential([\n",
        "    Dense(64, activation='relu', input_shape=(X_train_scaled.shape[1],)),\n",
        "    Dense(32, activation='relu'),\n",
        "    Dense(1)  # Output layer with 1 neuron (for regression)\n",
        "])\n",
        "\n",
        "# Compile the model with an optimizer (e.g., Adam) and a loss function (e.g., Mean Squared Error)\n",
        "model.compile(optimizer=Adam(learning_rate=0.001), loss='mean_squared_error')\n"
      ],
      "metadata": {
        "id": "1r6_JD8lML4b"
      },
      "execution_count": null,
      "outputs": []
    },
    {
      "cell_type": "code",
      "source": [
        "# Train the model\n",
        "history = model.fit(X_train_scaled, y_train, epochs=50, batch_size=32, validation_split=0.2)\n"
      ],
      "metadata": {
        "colab": {
          "base_uri": "https://localhost:8080/"
        },
        "id": "E0dGRyMxMPi2",
        "outputId": "848e9748-4326-47e8-bee5-2d93706cf329"
      },
      "execution_count": null,
      "outputs": [
        {
          "output_type": "stream",
          "name": "stdout",
          "text": [
            "Epoch 1/50\n",
            "2211/2211 [==============================] - 8s 3ms/step - loss: 19875.6875 - val_loss: 18733.8438\n",
            "Epoch 2/50\n",
            "2211/2211 [==============================] - 10s 5ms/step - loss: 18627.5059 - val_loss: 18738.2109\n",
            "Epoch 3/50\n",
            "2211/2211 [==============================] - 5s 2ms/step - loss: 18609.9121 - val_loss: 18714.0801\n",
            "Epoch 4/50\n",
            "2211/2211 [==============================] - 6s 3ms/step - loss: 18587.1309 - val_loss: 18659.5801\n",
            "Epoch 5/50\n",
            "2211/2211 [==============================] - 5s 2ms/step - loss: 18538.3086 - val_loss: 18596.5117\n",
            "Epoch 6/50\n",
            "2211/2211 [==============================] - 5s 2ms/step - loss: 18472.1543 - val_loss: 18568.9609\n",
            "Epoch 7/50\n",
            "2211/2211 [==============================] - 6s 2ms/step - loss: 18401.6191 - val_loss: 18454.2734\n",
            "Epoch 8/50\n",
            "2211/2211 [==============================] - 6s 3ms/step - loss: 18328.1387 - val_loss: 18386.4922\n",
            "Epoch 9/50\n",
            "2211/2211 [==============================] - 6s 3ms/step - loss: 18266.1328 - val_loss: 18307.4219\n",
            "Epoch 10/50\n",
            "2211/2211 [==============================] - 5s 2ms/step - loss: 18190.2598 - val_loss: 18277.4238\n",
            "Epoch 11/50\n",
            "2211/2211 [==============================] - 4s 2ms/step - loss: 17946.2266 - val_loss: 17566.0723\n",
            "Epoch 12/50\n",
            "2211/2211 [==============================] - 6s 3ms/step - loss: 16288.5547 - val_loss: 15390.4385\n",
            "Epoch 13/50\n",
            "2211/2211 [==============================] - 5s 2ms/step - loss: 15112.8818 - val_loss: 14982.7549\n",
            "Epoch 14/50\n",
            "2211/2211 [==============================] - 5s 2ms/step - loss: 14877.0537 - val_loss: 14829.9609\n",
            "Epoch 15/50\n",
            "2211/2211 [==============================] - 6s 3ms/step - loss: 14783.5859 - val_loss: 14756.6475\n",
            "Epoch 16/50\n",
            "2211/2211 [==============================] - 5s 2ms/step - loss: 14720.7412 - val_loss: 14701.2129\n",
            "Epoch 17/50\n",
            "2211/2211 [==============================] - 5s 2ms/step - loss: 14672.8975 - val_loss: 14718.0957\n",
            "Epoch 18/50\n",
            "2211/2211 [==============================] - 6s 3ms/step - loss: 14622.4883 - val_loss: 14579.8018\n",
            "Epoch 19/50\n",
            "2211/2211 [==============================] - 5s 2ms/step - loss: 14585.4297 - val_loss: 14560.1611\n",
            "Epoch 20/50\n",
            "2211/2211 [==============================] - 6s 3ms/step - loss: 14541.1143 - val_loss: 14547.2461\n",
            "Epoch 21/50\n",
            "2211/2211 [==============================] - 5s 2ms/step - loss: 14501.4346 - val_loss: 14483.9062\n",
            "Epoch 22/50\n",
            "2211/2211 [==============================] - 6s 3ms/step - loss: 14477.0596 - val_loss: 14458.4414\n",
            "Epoch 23/50\n",
            "2211/2211 [==============================] - 7s 3ms/step - loss: 14449.8008 - val_loss: 14481.9424\n",
            "Epoch 24/50\n",
            "2211/2211 [==============================] - 5s 2ms/step - loss: 14423.5781 - val_loss: 14397.3516\n",
            "Epoch 25/50\n",
            "2211/2211 [==============================] - 5s 2ms/step - loss: 14403.1807 - val_loss: 14410.5967\n",
            "Epoch 26/50\n",
            "2211/2211 [==============================] - 5s 2ms/step - loss: 14387.6211 - val_loss: 14438.9375\n",
            "Epoch 27/50\n",
            "2211/2211 [==============================] - 4s 2ms/step - loss: 14376.8037 - val_loss: 14404.9199\n",
            "Epoch 28/50\n",
            "2211/2211 [==============================] - 6s 3ms/step - loss: 14360.2090 - val_loss: 14331.1104\n",
            "Epoch 29/50\n",
            "2211/2211 [==============================] - 5s 2ms/step - loss: 14338.4385 - val_loss: 14299.4111\n",
            "Epoch 30/50\n",
            "2211/2211 [==============================] - 4s 2ms/step - loss: 14318.0342 - val_loss: 14313.0752\n",
            "Epoch 31/50\n",
            "2211/2211 [==============================] - 7s 3ms/step - loss: 14308.1514 - val_loss: 14257.5703\n",
            "Epoch 32/50\n",
            "2211/2211 [==============================] - 5s 2ms/step - loss: 14299.3760 - val_loss: 14247.7119\n",
            "Epoch 33/50\n",
            "2211/2211 [==============================] - 7s 3ms/step - loss: 14278.5537 - val_loss: 14253.0508\n",
            "Epoch 34/50\n",
            "2211/2211 [==============================] - 5s 2ms/step - loss: 14261.2539 - val_loss: 14388.5781\n",
            "Epoch 35/50\n",
            "2211/2211 [==============================] - 5s 2ms/step - loss: 14266.2822 - val_loss: 14211.8154\n",
            "Epoch 36/50\n",
            "2211/2211 [==============================] - 6s 3ms/step - loss: 14237.7734 - val_loss: 14172.9863\n",
            "Epoch 37/50\n",
            "2211/2211 [==============================] - 5s 2ms/step - loss: 14216.2217 - val_loss: 14154.0615\n",
            "Epoch 38/50\n",
            "2211/2211 [==============================] - 4s 2ms/step - loss: 14209.1143 - val_loss: 14147.9453\n",
            "Epoch 39/50\n",
            "2211/2211 [==============================] - 6s 3ms/step - loss: 14190.8652 - val_loss: 14157.7871\n",
            "Epoch 40/50\n",
            "2211/2211 [==============================] - 5s 2ms/step - loss: 14185.8662 - val_loss: 14259.2178\n",
            "Epoch 41/50\n",
            "2211/2211 [==============================] - 5s 2ms/step - loss: 14172.7129 - val_loss: 14169.7383\n",
            "Epoch 42/50\n",
            "2211/2211 [==============================] - 7s 3ms/step - loss: 14161.5449 - val_loss: 14088.1025\n",
            "Epoch 43/50\n",
            "2211/2211 [==============================] - 4s 2ms/step - loss: 14134.5625 - val_loss: 14052.2129\n",
            "Epoch 44/50\n",
            "2211/2211 [==============================] - 6s 2ms/step - loss: 14113.4121 - val_loss: 14068.3271\n",
            "Epoch 45/50\n",
            "2211/2211 [==============================] - 5s 2ms/step - loss: 14112.2646 - val_loss: 14053.3770\n",
            "Epoch 46/50\n",
            "2211/2211 [==============================] - 5s 2ms/step - loss: 14107.9814 - val_loss: 14019.6719\n",
            "Epoch 47/50\n",
            "2211/2211 [==============================] - 7s 3ms/step - loss: 14088.6289 - val_loss: 14008.1289\n",
            "Epoch 48/50\n",
            "2211/2211 [==============================] - 5s 2ms/step - loss: 14089.3564 - val_loss: 14025.9639\n",
            "Epoch 49/50\n",
            "2211/2211 [==============================] - 5s 2ms/step - loss: 14082.1396 - val_loss: 14054.3652\n",
            "Epoch 50/50\n",
            "2211/2211 [==============================] - 6s 3ms/step - loss: 14077.7568 - val_loss: 14158.1963\n"
          ]
        }
      ]
    },
    {
      "cell_type": "code",
      "source": [
        "# Evaluate the model on test data\n",
        "loss = model.evaluate(X_test_scaled, y_test)\n",
        "print(f'Test Loss: {loss}')\n"
      ],
      "metadata": {
        "colab": {
          "base_uri": "https://localhost:8080/"
        },
        "id": "3KOHM0ymMR-R",
        "outputId": "6859c405-0a26-485d-90bf-434d7790c645"
      },
      "execution_count": null,
      "outputs": [
        {
          "output_type": "stream",
          "name": "stdout",
          "text": [
            "691/691 [==============================] - 1s 1ms/step - loss: 13711.7451\n",
            "Test Loss: 13711.7451171875\n"
          ]
        }
      ]
    },
    {
      "cell_type": "code",
      "source": [
        "# Make predictions on new data\n",
        "new_data = [[10, 5, 75]]  # Example new data (scaled)\n",
        "prediction = model.predict(new_data)\n",
        "print(f'Predicted carbon footprint: {prediction[0][0]}')\n"
      ],
      "metadata": {
        "colab": {
          "base_uri": "https://localhost:8080/"
        },
        "id": "yesEeRYINuuo",
        "outputId": "d62cd594-171c-46ee-9871-7b4cbc9c75a4"
      },
      "execution_count": null,
      "outputs": [
        {
          "output_type": "stream",
          "name": "stdout",
          "text": [
            "1/1 [==============================] - 0s 181ms/step\n",
            "Predicted carbon footprint: 3282.529052734375\n"
          ]
        }
      ]
    }
  ]
}